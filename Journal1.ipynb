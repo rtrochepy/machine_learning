{
  "nbformat": 4,
  "nbformat_minor": 0,
  "metadata": {
    "colab": {
      "provenance": [],
      "toc_visible": true,
      "authorship_tag": "ABX9TyMe8Rr1QGtxOkNaDjjDA3/f",
      "include_colab_link": true
    },
    "kernelspec": {
      "name": "python3",
      "display_name": "Python 3"
    },
    "language_info": {
      "name": "python"
    }
  },
  "cells": [
    {
      "cell_type": "markdown",
      "metadata": {
        "id": "view-in-github",
        "colab_type": "text"
      },
      "source": [
        "<a href=\"https://colab.research.google.com/github/rtrochepy/machine_learning/blob/main/Journal1.ipynb\" target=\"_parent\"><img src=\"https://colab.research.google.com/assets/colab-badge.svg\" alt=\"Open In Colab\"/></a>"
      ]
    },
    {
      "cell_type": "code",
      "execution_count": 1,
      "metadata": {
        "id": "bEzxz84b6MIp"
      },
      "outputs": [],
      "source": [
        "import codecs"
      ]
    },
    {
      "cell_type": "code",
      "source": [
        "from google.colab import drive\n",
        "drive.mount('/content/drive')"
      ],
      "metadata": {
        "id": "V8RXpLaSeyYp"
      },
      "execution_count": null,
      "outputs": []
    },
    {
      "cell_type": "code",
      "source": [
        "def hex_to_text(hex_string, encoding='cp500'):\n",
        "    \"\"\"\n",
        "    Convierte una cadena hexadecimal a texto, asumiendo una codificación específica.\n",
        "\n",
        "    :param hex_string: Cadena en formato hexadecimal.\n",
        "    :param encoding: Codificación de caracteres a usar (EBCDIC por defecto).\n",
        "    :return: Cadena de texto decodificada.\n",
        "    \"\"\"\n",
        "    try:\n",
        "        # Convertir de hexadecimal a bytes\n",
        "        bytes_data = bytes.fromhex(hex_string)\n",
        "\n",
        "        # Decodificar usando la codificación especificada\n",
        "        return codecs.decode(bytes_data, encoding)\n",
        "    except Exception as e:\n",
        "        return f\"Error en la conversión: {e}\""
      ],
      "metadata": {
        "id": "9XWJKkdf6WOg"
      },
      "execution_count": 2,
      "outputs": []
    },
    {
      "cell_type": "markdown",
      "source": [
        "# Sección nueva"
      ],
      "metadata": {
        "id": "HedaoCHCfL5P"
      }
    },
    {
      "cell_type": "code",
      "source": [
        "# Cadena hexadecimal a convertir\n",
        "hex_string = \"c3d4c30000000f00127777094f\""
      ],
      "metadata": {
        "id": "I1jZQZIR6bvx"
      },
      "execution_count": 5,
      "outputs": []
    },
    {
      "cell_type": "code",
      "source": [
        "# Convertir y mostrar el resultado\n",
        "text = hex_to_text(hex_string)\n",
        "print(\"Texto decodificado:\", text)"
      ],
      "metadata": {
        "colab": {
          "base_uri": "https://localhost:8080/"
        },
        "id": "_YN4_-Qp6fjX",
        "outputId": "cf9e7ded-2d5c-48df-d050-ece649f4845a"
      },
      "execution_count": 6,
      "outputs": [
        {
          "output_type": "stream",
          "name": "stdout",
          "text": [
            "Texto decodificado: CMC\u0000\u0000\u0000\u000f\u0000\u0012ÏÏ!\n"
          ]
        }
      ]
    },
    {
      "cell_type": "code",
      "source": [
        "# Probando diferentes codificaciones\n",
        "for encoding in ['cp500', 'utf-8', 'ascii']:\n",
        "    text = hex_to_text(hex_string, encoding)\n",
        "    print(f\"Texto decodificado con {encoding}:\", text)"
      ],
      "metadata": {
        "colab": {
          "base_uri": "https://localhost:8080/"
        },
        "id": "eV_2cKEL7hj1",
        "outputId": "b1ece45d-fc8f-422d-d59f-248b7ad1865d"
      },
      "execution_count": 7,
      "outputs": [
        {
          "output_type": "stream",
          "name": "stdout",
          "text": [
            "Texto decodificado con cp500: CMC\u0000\u0000\u0000\u000f\u0000\u0012ÏÏ!\n",
            "Texto decodificado con utf-8: Error en la conversión: 'utf-8' codec can't decode byte 0xc3 in position 0: invalid continuation byte\n",
            "Texto decodificado con ascii: Error en la conversión: 'ascii' codec can't decode byte 0xc3 in position 0: ordinal not in range(128)\n"
          ]
        }
      ]
    },
    {
      "cell_type": "code",
      "source": [
        "import struct\n",
        "from datetime import datetime\n"
      ],
      "metadata": {
        "id": "GTTvKoqU8mLA"
      },
      "execution_count": 8,
      "outputs": []
    },
    {
      "cell_type": "code",
      "source": [
        "# Supongamos que hex_string es tu cadena binaria\n",
        "hex_string = \"c3d4c30000000f00127777094f\""
      ],
      "metadata": {
        "id": "qYNHZcwc804B"
      },
      "execution_count": 13,
      "outputs": []
    },
    {
      "cell_type": "code",
      "source": [
        "# Convierte la cadena hexadecimal a bytes\n",
        "data = bytes.fromhex(hex_string)"
      ],
      "metadata": {
        "id": "XvFtNP6-866O"
      },
      "execution_count": 10,
      "outputs": []
    },
    {
      "cell_type": "code",
      "source": [
        "try:\n",
        "    # Ajusta estos valores según la estructura real de tus datos\n",
        "    num_format = '>i'  # '>i' para un entero en formato big-endian, cambia a '<i' para little-endian si es necesario\n",
        "    date_format = '>Q'  # '>Q' para un entero largo en big-endian, cambia a '<Q' para little-endian si es necesario\n",
        "    num_length = 4  # Longitud del segmento del entero\n",
        "    date_length = 8  # Longitud del segmento de la fecha\n",
        "\n",
        "    # Desempaquetar el número\n",
        "    (num,) = struct.unpack(num_format, data[0:num_length])\n",
        "\n",
        "    # Desempaquetar la fecha\n",
        "    (epoch_date,) = struct.unpack(date_format, data[num_length:num_length + date_length])\n",
        "\n",
        "    # Intenta imprimir el valor del epoch para ver si tiene sentido\n",
        "    print(\"Valor del epoch desempaquetado:\", epoch_date)\n",
        "\n",
        "    # Convertir a fecha si el valor del epoch es razonable\n",
        "    if 0 <= epoch_date <= 2147483647:  # Rango típico de un timestamp Unix\n",
        "        date = datetime.utcfromtimestamp(epoch_date)\n",
        "        print(\"Fecha:\", date)\n",
        "    else:\n",
        "        print(\"El valor del epoch no es un timestamp Unix válido\")\n",
        "\n",
        "    print(\"Número:\", num)\n",
        "except struct.error as e:\n",
        "    print(f\"Error al desempaquetar: {e}\")"
      ],
      "metadata": {
        "colab": {
          "base_uri": "https://localhost:8080/"
        },
        "id": "diCk4w7U96Hg",
        "outputId": "bfcf4f7e-5954-4eb6-ae3b-786e9ff092a0"
      },
      "execution_count": 12,
      "outputs": [
        {
          "output_type": "stream",
          "name": "stdout",
          "text": [
            "Valor del epoch desempaquetado: 16492984235785\n",
            "El valor del epoch no es un timestamp Unix válido\n",
            "Número: -1009466624\n"
          ]
        }
      ]
    },
    {
      "cell_type": "code",
      "source": [
        "# Ejemplo: interpretar los primeros 4 bytes como un entero, y los siguientes 8 bytes como una fecha\n",
        "# Ajusta los formatos ('i', 'Q', etc.) y tamaños según tu estructura de datos específica\n",
        "\n",
        "try:\n",
        "    # Desempaquetar los primeros 4 bytes como un entero\n",
        "    (num,) = struct.unpack('>i', data[0:4])  # '>i' es para un entero en formato big-endian\n",
        "\n",
        "    # Supongamos que los siguientes 8 bytes son una fecha en formato epoch (segundos desde 1970)\n",
        "    (epoch_date,) = struct.unpack('>Q', data[4:12])  # '>Q' es para un entero largo en formato big-endian\n",
        "    date = datetime.utcfromtimestamp(epoch_date)\n",
        "\n",
        "    print(\"Número:\", num)\n",
        "    print(\"Fecha:\", date)\n",
        "except struct.error as e:\n",
        "    print(f\"Error al desempaquetar: {e}\")"
      ],
      "metadata": {
        "colab": {
          "base_uri": "https://localhost:8080/",
          "height": 245
        },
        "id": "Vk1Q4Ikt8-Mh",
        "outputId": "10cac5a5-a718-4e29-ab46-f9874657ac31"
      },
      "execution_count": 11,
      "outputs": [
        {
          "output_type": "error",
          "ename": "ValueError",
          "evalue": "ignored",
          "traceback": [
            "\u001b[0;31m---------------------------------------------------------------------------\u001b[0m",
            "\u001b[0;31mValueError\u001b[0m                                Traceback (most recent call last)",
            "\u001b[0;32m<ipython-input-11-58a7b60ccec1>\u001b[0m in \u001b[0;36m<cell line: 4>\u001b[0;34m()\u001b[0m\n\u001b[1;32m      8\u001b[0m     \u001b[0;31m# Supongamos que los siguientes 8 bytes son una fecha en formato epoch (segundos desde 1970)\u001b[0m\u001b[0;34m\u001b[0m\u001b[0;34m\u001b[0m\u001b[0m\n\u001b[1;32m      9\u001b[0m     \u001b[0;34m(\u001b[0m\u001b[0mepoch_date\u001b[0m\u001b[0;34m,\u001b[0m\u001b[0;34m)\u001b[0m \u001b[0;34m=\u001b[0m \u001b[0mstruct\u001b[0m\u001b[0;34m.\u001b[0m\u001b[0munpack\u001b[0m\u001b[0;34m(\u001b[0m\u001b[0;34m'>Q'\u001b[0m\u001b[0;34m,\u001b[0m \u001b[0mdata\u001b[0m\u001b[0;34m[\u001b[0m\u001b[0;36m4\u001b[0m\u001b[0;34m:\u001b[0m\u001b[0;36m12\u001b[0m\u001b[0;34m]\u001b[0m\u001b[0;34m)\u001b[0m  \u001b[0;31m# '>Q' es para un entero largo en formato big-endian\u001b[0m\u001b[0;34m\u001b[0m\u001b[0;34m\u001b[0m\u001b[0m\n\u001b[0;32m---> 10\u001b[0;31m     \u001b[0mdate\u001b[0m \u001b[0;34m=\u001b[0m \u001b[0mdatetime\u001b[0m\u001b[0;34m.\u001b[0m\u001b[0mutcfromtimestamp\u001b[0m\u001b[0;34m(\u001b[0m\u001b[0mepoch_date\u001b[0m\u001b[0;34m)\u001b[0m\u001b[0;34m\u001b[0m\u001b[0;34m\u001b[0m\u001b[0m\n\u001b[0m\u001b[1;32m     11\u001b[0m \u001b[0;34m\u001b[0m\u001b[0m\n\u001b[1;32m     12\u001b[0m     \u001b[0mprint\u001b[0m\u001b[0;34m(\u001b[0m\u001b[0;34m\"Número:\"\u001b[0m\u001b[0;34m,\u001b[0m \u001b[0mnum\u001b[0m\u001b[0;34m)\u001b[0m\u001b[0;34m\u001b[0m\u001b[0;34m\u001b[0m\u001b[0m\n",
            "\u001b[0;31mValueError\u001b[0m: year 524611 is out of range"
          ]
        }
      ]
    }
  ]
}