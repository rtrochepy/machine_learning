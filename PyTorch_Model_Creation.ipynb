{
  "nbformat": 4,
  "nbformat_minor": 0,
  "metadata": {
    "colab": {
      "provenance": [],
      "authorship_tag": "ABX9TyNubXU4DQBMcMMfWL8erPMp",
      "include_colab_link": true
    },
    "kernelspec": {
      "name": "python3",
      "display_name": "Python 3"
    },
    "language_info": {
      "name": "python"
    }
  },
  "cells": [
    {
      "cell_type": "markdown",
      "metadata": {
        "id": "view-in-github",
        "colab_type": "text"
      },
      "source": [
        "<a href=\"https://colab.research.google.com/github/rtrochepy/machine_learning/blob/main/PyTorch_Model_Creation.ipynb\" target=\"_parent\"><img src=\"https://colab.research.google.com/assets/colab-badge.svg\" alt=\"Open In Colab\"/></a>"
      ]
    },
    {
      "cell_type": "markdown",
      "source": [
        "**Neural Networks Course with PyTorch**\n",
        "\n",
        "**Instructor:** Omar Uriel Espejel Diaz\n",
        "\n",
        "**Creating PyTorch Models**\n",
        "\n",
        "Fundamentals of creating a PyTorch model, from creating an nn.Module object to model training and adding a loss function.\n",
        "\n",
        "We'll start with a simple linear regression example to illustrate these concepts. By the end of this class, you will have a solid understanding of how PyTorch works and how to create and train your own models.\n",
        "\n",
        "**Import libraries.**"
      ],
      "metadata": {
        "id": "eFq8QJfBMcbb"
      }
    },
    {
      "cell_type": "code",
      "execution_count": 1,
      "metadata": {
        "colab": {
          "base_uri": "https://localhost:8080/",
          "height": 36
        },
        "id": "17hPsiIJMZKx",
        "outputId": "8f90c69a-37f4-45c2-9c2c-0f3988a0fdd8"
      },
      "outputs": [
        {
          "output_type": "execute_result",
          "data": {
            "text/plain": [
              "'2.0.1+cu118'"
            ],
            "application/vnd.google.colaboratory.intrinsic+json": {
              "type": "string"
            }
          },
          "metadata": {},
          "execution_count": 1
        }
      ],
      "source": [
        "import torch\n",
        "from torch import nn\n",
        "import matplotlib.pyplot as plt\n",
        "\n",
        "# Comprobar la versión de PyTorch\n",
        "torch.__version__"
      ]
    },
    {
      "cell_type": "markdown",
      "source": [
        "**Generate your data.**\n",
        "\n",
        "For simplicity, in this example, we'll create synthetic data.\n",
        "\n",
        "We create a one-dimensional tensor called \"X\" containing a range of values using the arange function. The input parameters \"start,\" \"end,\" and \"step\" specify the start, end, and step size of the range, respectively.\n",
        "\n",
        "The **unsqueeze** function is used to add an additional dimension to the tensor, converting the one-dimensional tensor into a column tensor (with an additional dimension at the end).\n",
        "\n",
        "In summary, this code creates a column tensor with a specified range of values."
      ],
      "metadata": {
        "id": "sJplp17eNE6L"
      }
    },
    {
      "cell_type": "code",
      "source": [
        "# Crea *nuevos* parámetros\n",
        "volumen = 0.8\n",
        "sesgo = 0.2\n",
        "\n",
        "# Crea datos\n",
        "inicio = 0\n",
        "final = 1\n",
        "step = 0.025\n",
        "X = torch.arange(inicio, final, step).unsqueeze(dim=1)\n",
        "print(f\"Shape de X: {X.shape}\")\n",
        "y = volumen * X + sesgo\n",
        "print(f\"Shape de y: {y.shape}\")\n",
        "\n",
        "X[:10], y[:10]"
      ],
      "metadata": {
        "colab": {
          "base_uri": "https://localhost:8080/"
        },
        "id": "ljVvcwvQNPIb",
        "outputId": "480d889b-2982-485f-9aeb-b2e44652913a"
      },
      "execution_count": 2,
      "outputs": [
        {
          "output_type": "stream",
          "name": "stdout",
          "text": [
            "Shape de X: torch.Size([40, 1])\n",
            "Shape de y: torch.Size([40, 1])\n"
          ]
        },
        {
          "output_type": "execute_result",
          "data": {
            "text/plain": [
              "(tensor([[0.0000],\n",
              "         [0.0250],\n",
              "         [0.0500],\n",
              "         [0.0750],\n",
              "         [0.1000],\n",
              "         [0.1250],\n",
              "         [0.1500],\n",
              "         [0.1750],\n",
              "         [0.2000],\n",
              "         [0.2250]]),\n",
              " tensor([[0.2000],\n",
              "         [0.2200],\n",
              "         [0.2400],\n",
              "         [0.2600],\n",
              "         [0.2800],\n",
              "         [0.3000],\n",
              "         [0.3200],\n",
              "         [0.3400],\n",
              "         [0.3600],\n",
              "         [0.3800]]))"
            ]
          },
          "metadata": {},
          "execution_count": 2
        }
      ]
    },
    {
      "cell_type": "markdown",
      "source": [
        "We need a **training set** and a **test set**.\n",
        "\n",
        "Each set serves a specific purpose:\n",
        "\n",
        "**Test set:** The model is evaluated with this data to test what it has learned.\n",
        "\n",
        "**Training set:** The model learns from this data."
      ],
      "metadata": {
        "id": "j_p5rJB1NucJ"
      }
    },
    {
      "cell_type": "code",
      "source": [
        "# Crea la división\n",
        "\n",
        "train_division = int(0.7 * len(X)) # 70% de los datos utilizados para el conjunto de entrenamiento, 30% para pruebas\n",
        "X_ent, y_ent = X[:train_division], y[:train_division]\n",
        "X_prueb, y_prueb = X[train_division:], y[train_division:]"
      ],
      "metadata": {
        "id": "l8T675oPN6-C"
      },
      "execution_count": 3,
      "outputs": []
    },
    {
      "cell_type": "code",
      "source": [
        "len(X_ent), len(X_prueb)"
      ],
      "metadata": {
        "colab": {
          "base_uri": "https://localhost:8080/"
        },
        "id": "C7deQKWON9X-",
        "outputId": "072660d8-ab38-4f56-a678-9c3db95bf006"
      },
      "execution_count": 4,
      "outputs": [
        {
          "output_type": "execute_result",
          "data": {
            "text/plain": [
              "(28, 12)"
            ]
          },
          "metadata": {},
          "execution_count": 4
        }
      ]
    },
    {
      "cell_type": "markdown",
      "source": [
        "We have 28 samples for training (**X_train** and **y_train**) and 12 test samples (**X_test** and **y_test**).\n",
        "\n",
        "Let's visualize our data."
      ],
      "metadata": {
        "id": "JGEoDtMqOQKE"
      }
    },
    {
      "cell_type": "code",
      "source": [
        "def plot_predictions(datos_ent=X_ent,\n",
        "                     etiq_ent=y_ent,\n",
        "                     datos_prueba=X_prueb,\n",
        "                     etiq_prueba=y_prueb,\n",
        "                     predictions=None):\n",
        "  \"\"\"\n",
        "  Traza datos de entrenamiento, datos de prueba y compara predicciones\n",
        "  \"\"\"\n",
        "  plt.figure(figsize=(10, 10))\n",
        "\n",
        "  # Traza datos de entrenamiento en verde\n",
        "  plt.scatter(datos_ent, etiq_ent, c=\"g\", s=6, label=\"Datos de entrenamiento\")\n",
        "\n",
        "  # Traza datos de prueba en amarillo\n",
        "  plt.scatter(datos_prueba, etiq_prueba, c=\"y\", s=6, label=\"Datos de prueba\")\n",
        "\n",
        "  if predictions is not None:\n",
        "    # Traza las predicciones en rojo\n",
        "    plt.scatter(datos_prueba, predictions, c=\"r\", s=6, label=\"Predicciones\")\n",
        "\n",
        "  # Leyenda\n",
        "  plt.legend(prop={\"size\": 12});"
      ],
      "metadata": {
        "id": "wu80Xv0fOiIb"
      },
      "execution_count": 5,
      "outputs": []
    },
    {
      "cell_type": "code",
      "source": [
        "plot_predictions();"
      ],
      "metadata": {
        "colab": {
          "base_uri": "https://localhost:8080/",
          "height": 830
        },
        "id": "a_CdprHSOk2V",
        "outputId": "991a3629-87eb-459f-81eb-19befeccbe78"
      },
      "execution_count": 6,
      "outputs": [
        {
          "output_type": "display_data",
          "data": {
            "text/plain": [
              "<Figure size 1000x1000 with 1 Axes>"
            ],
            "image/png": "[encoded data removed]"
          },
          "metadata": {}
        }
      ]
    },
    {
      "cell_type": "markdown",
      "source": [
        "**Now we can visualize our data on a straight line!**\n",
        "\n",
        "**2. Structure of a PyTorch model.**\n",
        "\n",
        "Let's build a linear regression model using PyTorch.\n",
        "\n",
        "**torch.nn** provides tools for building neural networks, **torch.optim** for optimizing models, **data.Dataset** for handling datasets, and **torch.utils.data**.DataLoader for loading and transforming data. These tools are fundamental for building and training machine learning models.\n",
        "\n",
        "**torch.nn:** This module provides classes and functions for building neural networks. It contains a variety of layers such as convolutional layers, pooling layers, normalization layers, recurrent layers, and fully connected layers, which can be combined to build various neural network architectures.\n",
        "\n",
        "**torch.optim:** This module provides classes and functions for optimizing machine learning models. It includes a variety of optimization algorithms like SGD, Adam, Adagrad, and Adadelta, which are used to adjust the model parameters during training.\n",
        "\n",
        "**torch.utils.data.Dataset:** This class is used to represent machine learning datasets. It provides a consistent interface for accessing data and its labels. It can be customized to work with datasets of different formats and types.\n",
        "\n",
        "**torch.utils.data.DataLoader:** This class is used to load and transform data from a dataset into batches for model training. It handles batch assignment, data shuffling, and loading data to the GPU if necessary, making it easier to process large datasets.\n",
        "\n",
        "For now, we will use the first two modules. In the final project, we will use DataLoader.\n",
        "\n",
        "The following code defines a class called **LinearRegressionModel** that inherits from the **nn.Module** class in PyTorch.\n",
        "\n",
        "The class has two adjustable parameters (**weight** and **bias**) that are initialized with random values and can be optimized during training.\n",
        "\n",
        "The **forward** function performs the model computation, where the input tensor x is multiplied by the weight parameter and added to the **bias** parameter.\n",
        "\n",
        "In summary, this code defines a linear regression model class with two adjustable parameters and defines the model computation operation. This serves as a template for defining and training linear regression models in PyTorch."
      ],
      "metadata": {
        "id": "5M4xLe_1Posp"
      }
    },
    {
      "cell_type": "code",
      "source": [
        "# Crea una clase de modelo de regresión lineal\n",
        "class ModeloRegresionLineal(nn.Module):\n",
        "  def __init__(self):\n",
        "    super().__init__()\n",
        "    self.volumen = nn.Parameter(torch.randn(1, dtype=torch.float), requires_grad=True)\n",
        "    self.sesgo = nn.Parameter(torch.randn(1, dtype=torch.float), requires_grad=True)\n",
        "\n",
        "# Define el cálculo en el modelo\n",
        "  def forward(self, x: torch.Tensor) -> torch.Tensor:\n",
        "    return self.volumen * x + self.sesgo"
      ],
      "metadata": {
        "id": "M7FKojn4Rc_g"
      },
      "execution_count": 7,
      "outputs": []
    },
    {
      "cell_type": "markdown",
      "source": [
        "**torch.manual_seed(42)** sets the seed of the random number generator to 42. This means that the same random numbers will be generated in each execution of the code using PyTorch tensors.\n",
        "\n",
        "This can be useful for reproducing results and ensuring the reproducibility of machine learning experiments."
      ],
      "metadata": {
        "id": "mglhPvA4Rwwb"
      }
    },
    {
      "cell_type": "code",
      "source": [
        "torch.manual_seed(42)\n",
        "# Crea un objeto instanciando la clase ModeloRegresionLineal\n",
        "\n",
        "model_1 = ModeloRegresionLineal()"
      ],
      "metadata": {
        "id": "bhugcFMeSMSr"
      },
      "execution_count": 8,
      "outputs": []
    },
    {
      "cell_type": "code",
      "source": [
        "model_1"
      ],
      "metadata": {
        "colab": {
          "base_uri": "https://localhost:8080/"
        },
        "id": "08OrTjs_SOdE",
        "outputId": "0193eb00-d149-45b9-d4a0-3767621822ca"
      },
      "execution_count": 9,
      "outputs": [
        {
          "output_type": "execute_result",
          "data": {
            "text/plain": [
              "ModeloRegresionLineal()"
            ]
          },
          "metadata": {},
          "execution_count": 9
        }
      ]
    },
    {
      "cell_type": "markdown",
      "source": [
        "**model_1.state_dict()** will return the dictionary containing the values of all trainable parameters of the model. This dictionary can be useful for saving and loading models."
      ],
      "metadata": {
        "id": "vL_70Z5CSdr7"
      }
    },
    {
      "cell_type": "code",
      "source": [
        "model_1.state_dict()"
      ],
      "metadata": {
        "colab": {
          "base_uri": "https://localhost:8080/"
        },
        "id": "YSM2wtJrSjSc",
        "outputId": "9cc39f48-ea1b-43d5-cd21-731979735744"
      },
      "execution_count": 10,
      "outputs": [
        {
          "output_type": "execute_result",
          "data": {
            "text/plain": [
              "OrderedDict([('volumen', tensor([0.3367])), ('sesgo', tensor([0.1288]))])"
            ]
          },
          "metadata": {},
          "execution_count": 10
        }
      ]
    },
    {
      "cell_type": "markdown",
      "source": [
        "The values of the **weight** and **bias** variables appear as random tensors.\n",
        "\n",
        "We start with random parameters and then update the model towards parameters that better fit our data.\n",
        "\n",
        "**Predictions using torch.inference_mode()**\n",
        "\n",
        "To make predictions with **torch.inference_mode()**, we can pass the test data X_test to see how close they are to y_test.\n",
        "\n",
        "When we pass data to the model, it goes through **forward()** and produces a result based on the computation we defined earlier."
      ],
      "metadata": {
        "id": "e6xVzA29TTlM"
      }
    },
    {
      "cell_type": "code",
      "source": [
        "# Hacer predicciones con el modelo\n",
        "with torch.inference_mode():\n",
        "  y_predc = model_1(X_prueb)"
      ],
      "metadata": {
        "id": "kQeBQjABTfvz"
      },
      "execution_count": 11,
      "outputs": []
    },
    {
      "cell_type": "markdown",
      "source": [
        "**torch.inference_mode** is used for inference (predictions). It also disables some options like gradient tracking (necessary for training, NOT for inference)."
      ],
      "metadata": {
        "id": "CoN3ObTZTlFT"
      }
    },
    {
      "cell_type": "code",
      "source": [
        "# Comprueba las predicciones\n",
        "y_predc"
      ],
      "metadata": {
        "colab": {
          "base_uri": "https://localhost:8080/"
        },
        "id": "2Uip_c-nUE2l",
        "outputId": "0d2a3826-f002-4b6c-e9e4-ba3fd704c550"
      },
      "execution_count": 12,
      "outputs": [
        {
          "output_type": "execute_result",
          "data": {
            "text/plain": [
              "tensor([[0.3645],\n",
              "        [0.3729],\n",
              "        [0.3813],\n",
              "        [0.3897],\n",
              "        [0.3982],\n",
              "        [0.4066],\n",
              "        [0.4150],\n",
              "        [0.4234],\n",
              "        [0.4318],\n",
              "        [0.4402],\n",
              "        [0.4487],\n",
              "        [0.4571]])"
            ]
          },
          "metadata": {},
          "execution_count": 12
        }
      ]
    },
    {
      "cell_type": "markdown",
      "source": [
        "There is one prediction value per test sample due to the implemented data type.\n",
        "\n",
        "In this case, for a straight line, one value **X** is mapped to one value **y**. However, machine learning models are very flexible. We can map 80 values of **X** to 10 values of **y**.\n",
        "\n",
        "Let's visualize our data using **plot_predictions()**."
      ],
      "metadata": {
        "id": "1IwB9WnWUbrU"
      }
    },
    {
      "cell_type": "code",
      "source": [
        "plot_predictions(predictions=y_predc)"
      ],
      "metadata": {
        "colab": {
          "base_uri": "https://localhost:8080/",
          "height": 830
        },
        "id": "wpTYn7U5UrGj",
        "outputId": "7445b87d-587b-4763-85ad-80328d0fb903"
      },
      "execution_count": 13,
      "outputs": [
        {
          "output_type": "display_data",
          "data": {
            "text/plain": [
              "<Figure size 1000x1000 with 1 Axes>"
            ],
            "image/png": "[encoded data removed]"
          },
          "metadata": {}
        }
      ]
    },
    {
      "cell_type": "markdown",
      "source": [
        "Remember that our model only uses random parameters to make predictions, essentially guessing. **That's why the prediction looks inaccurate**.\n",
        "\n",
        "**3. Applying loss function and optimizers in PyTorch.**\n",
        "\n",
        "**To fix the random parameter values of the model, we can update the internal parameters of the # weight and # bias variables to better represent the data.**\n",
        "\n",
        "For this, we'll create a **loss function** and an **optimizer** with PyTorch.\n",
        "\n",
        "The **loss function** measures how wrong the model predictions **y_pred** are compared to the labels **         **. PyTorch has many built-in loss functions in torch.nn.\n",
        "\n",
        "The **optimizer** tells the models how to update their internal parameters to minimize the loss. We can find various implementations in **torch.optim**.\n",
        "\n",
        "Depending on the type of problem we are working on, we will use a specific loss function and optimization.\n",
        "\n",
        "For our problem, we will use **Mean Absolute Error (MAE)** as the loss function (**torch.nn.L1Loss**) to measure the absolute difference between two points and take the mean over all examples.\n",
        "\n",
        "We will also use **Stochastic Gradient Descent (SGD)** (**torch.optim.SGD(params, lr)**) as our optimizer, where params are the model parameters (weight and bias), and lr is the learning rate at which the optimizer updates the parameters.\n",
        "\n",
        "Additionally, we arbitrarily set a learning rate of 0.01."
      ],
      "metadata": {
        "id": "GIWfqBPlV_5b"
      }
    },
    {
      "cell_type": "code",
      "source": [
        "# Crea función de pérdida\n",
        "fn_perd = torch.nn.L1Loss()\n",
        "\n",
        "# Crea el optimizador\n",
        "optimizador = torch.optim.SGD(params=model_1.parameters(), lr=0.01)  # tasa de aprendizaje (cuánto debe cambiar el optimizador de parámetros en cada paso, más alto = más (menos estable), más bajo = menos (puede llevar mucho tiempo))"
      ],
      "metadata": {
        "id": "dHnssNkFWxfP"
      },
      "execution_count": 14,
      "outputs": []
    },
    {
      "cell_type": "code",
      "source": [
        "fn_perd"
      ],
      "metadata": {
        "colab": {
          "base_uri": "https://localhost:8080/"
        },
        "id": "1Xqcqya4W2a7",
        "outputId": "e69ed833-69ea-40c0-8e67-5d1c192f61d1"
      },
      "execution_count": 15,
      "outputs": [
        {
          "output_type": "execute_result",
          "data": {
            "text/plain": [
              "L1Loss()"
            ]
          },
          "metadata": {},
          "execution_count": 15
        }
      ]
    },
    {
      "cell_type": "markdown",
      "source": [
        "Now that we have a loss function and an optimizer, let's create a training loop and a test loop. This involves the model going through the training data and learning the relationship between **features** and **labels**.\n",
        "\n",
        "The test loop involves checking the test data and evaluating how well the model learned patterns from the training data.\n",
        "\n",
        "**For training, we'll write a Python for loop.**\n",
        "\n",
        "**Training loop steps:**\n",
        "\n",
        "1. The model goes through all the training data again, performing its computations in the **forward()** functions. Code: **model(X_train)**.\n",
        "\n",
        "2. The predictions are compared and evaluated to see how wrong they are. Code: **loss = loss_fn(y_pred, y_train)**.\n",
        "\n",
        "3. The optimizer gradients are set to zero so they can be recalculated and used for specific training. Code: **optimizer.zero_grad()**.\n",
        "\n",
        "4. The gradient of the loss with respect to each parameter to be updated is calculated (backpropagation). Code: **loss.backward()**.\n",
        "\n",
        "5. The parameters are updated with **requires_grad=True** with respect to the loss to improve them. Code: **optimizer.step()**."
      ],
      "metadata": {
        "id": "dl67P9DlX14t"
      }
    },
    {
      "cell_type": "code",
      "source": [
        "torch.manual_seed(42)\n",
        "\n",
        "# Establezca cuántas veces el modelo pasará por los datos de entrenamiento\n",
        "epocas = 100\n",
        "\n",
        "# Cree listas de vacías para realizar un seguimiento de nuestro modelo\n",
        "entrenamiento_loss = []\n",
        "test_loss = []\n",
        "\n",
        "for epoca in range(epocas):\n",
        "    ### Entrenamiento\n",
        "\n",
        "    # Pon el modelo en modo entrenamiento\n",
        "    model_1.train()\n",
        "\n",
        "    # 1. Pase hacia adelante los datos usando el método forward()\n",
        "    y_predc = model_1(X_ent)\n",
        "\n",
        "    # 2. Calcula la pérdida (Cuán diferentes son las predicciones de nuestros modelos)\n",
        "    perdida = fn_perd(y_predc, y_ent)\n",
        "\n",
        "    # 3. Gradiente cero del optomizador\n",
        "    optimizador.zero_grad()\n",
        "\n",
        "    # 4. Pérdida al revés\n",
        "    perdida.backward()\n",
        "\n",
        "    # 5. Progreso del optimizador\n",
        "    optimizador.step()\n",
        "\n",
        "    ### Función de prueba\n",
        "\n",
        "    # Pon el modelo en modo evaluación\n",
        "    model_1.eval()\n",
        "\n",
        "    with torch.inference_mode():\n",
        "\n",
        "      # 1. Reenviar datos de prueba\n",
        "      prueba_predc = model_1(X_prueb)\n",
        "\n",
        "      # 2. Calcular la pérdida en datos de prueba\n",
        "      prueb_perd = fn_perd(prueba_predc, y_prueb.type(torch.float))\n",
        "\n",
        "      # Imprime lo que está pasando\n",
        "      if epoca % 10 == 0:\n",
        "        entrenamiento_loss.append(perdida.detach().numpy())\n",
        "        test_loss.append(prueb_perd.detach().numpy())\n",
        "        print(f\"Epoca: {epoca} | Entrenamiento pérdida: {perdida} | Test pérdida {prueb_perd}\")"
      ],
      "metadata": {
        "colab": {
          "base_uri": "https://localhost:8080/"
        },
        "id": "eXIlrMUeYV3z",
        "outputId": "557467a0-3f91-42ec-911c-66daee8c7463"
      },
      "execution_count": 16,
      "outputs": [
        {
          "output_type": "stream",
          "name": "stdout",
          "text": [
            "Epoca: 0 | Entrenamiento pérdida: 0.22755758464336395 | Test pérdida 0.44638586044311523\n",
            "Epoca: 10 | Entrenamiento pérdida: 0.1217288002371788 | Test pérdida 0.32246577739715576\n",
            "Epoca: 20 | Entrenamiento pérdida: 0.07873930037021637 | Test pérdida 0.24351508915424347\n",
            "Epoca: 30 | Entrenamiento pérdida: 0.06662709265947342 | Test pérdida 0.20124231278896332\n",
            "Epoca: 40 | Entrenamiento pérdida: 0.06196669116616249 | Test pérdida 0.1784226894378662\n",
            "Epoca: 50 | Entrenamiento pérdida: 0.05890420451760292 | Test pérdida 0.1637665033340454\n",
            "Epoca: 60 | Entrenamiento pérdida: 0.056116510182619095 | Test pérdida 0.15557575225830078\n",
            "Epoca: 70 | Entrenamiento pérdida: 0.053391676396131516 | Test pérdida 0.14738501608371735\n",
            "Epoca: 80 | Entrenamiento pérdida: 0.05066370964050293 | Test pérdida 0.14011786878108978\n",
            "Epoca: 90 | Entrenamiento pérdida: 0.047930534929037094 | Test pérdida 0.1328507363796234\n"
          ]
        }
      ]
    },
    {
      "cell_type": "markdown",
      "source": [
        "**It seems that our loss decreased with each epoch; let's see it graphically.**"
      ],
      "metadata": {
        "id": "ZCVLUa0iYi4e"
      }
    },
    {
      "cell_type": "code",
      "source": [
        "# Traza las curvas de pérdida\n",
        "plt.plot(entrenamiento_loss, label=\"Perd entrenamiento\")\n",
        "plt.plot(test_loss, label=\"Perd prueba\")\n",
        "plt.ylabel(\"Pérdida\")\n",
        "plt.xlabel(\"Epoca\")\n",
        "plt.legend()"
      ],
      "metadata": {
        "colab": {
          "base_uri": "https://localhost:8080/",
          "height": 466
        },
        "id": "3PrldFCOYlZT",
        "outputId": "bd846d58-e712-4700-d9de-9d9ddcb6d535"
      },
      "execution_count": 17,
      "outputs": [
        {
          "output_type": "execute_result",
          "data": {
            "text/plain": [
              "<matplotlib.legend.Legend at 0x7b5b1d9d4790>"
            ]
          },
          "metadata": {},
          "execution_count": 17
        },
        {
          "output_type": "display_data",
          "data": {
            "text/plain": [
              "<Figure size 640x480 with 1 Axes>"
            ],
            "image/png": "[encoded data removed]"
          },
          "metadata": {}
        }
      ]
    },
    {
      "cell_type": "markdown",
      "source": [
        "**4. Inference with a trained PyTorch model.**\n",
        "\n",
        "**Once the model is trained, we can make inferences (predictions) with it.**\n",
        "\n",
        "There are three aspects we need to remember to make predictions correctly:\n",
        "\n",
        "1. Set the model to evaluation mode **(model.eval()**).\n",
        "\n",
        "2. Make predictions using the inference mode context manager (with **torch.inference_mode()**: ...).\n",
        "\n",
        "3. All predictions must be done with objects on the same device (data and model either on GPU or CPU)."
      ],
      "metadata": {
        "id": "pgL-s6MRZOuT"
      }
    },
    {
      "cell_type": "code",
      "source": [
        "# 1. Configura el modelo en modo de evaluación\n",
        "model_1.eval()\n",
        "\n",
        "# 2. Configura el administrador de contexto del modo de inferencia\n",
        "with torch.inference_mode():\n",
        "\n",
        "# 3. Asegúrate de que los cálculos se realicen con el modelo y los datos en el mismo dispositivo en nuestro caso, nuestros datos y modelo están en la CPU de forma predeterminada\n",
        "  # model_1.to(device)\n",
        "  # X_prueb = X_prueb.to(device)\n",
        "  y_predc = model_1(X_prueb)"
      ],
      "metadata": {
        "id": "a6Ifq0l4ZZQY"
      },
      "execution_count": 18,
      "outputs": []
    },
    {
      "cell_type": "code",
      "source": [
        "y_predc"
      ],
      "metadata": {
        "colab": {
          "base_uri": "https://localhost:8080/"
        },
        "id": "DsbHase2Zedd",
        "outputId": "b3eae9ee-d800-4e3a-dce1-94be289098fe"
      },
      "execution_count": 19,
      "outputs": [
        {
          "output_type": "execute_result",
          "data": {
            "text/plain": [
              "tensor([[0.6694],\n",
              "        [0.6829],\n",
              "        [0.6965],\n",
              "        [0.7100],\n",
              "        [0.7236],\n",
              "        [0.7371],\n",
              "        [0.7506],\n",
              "        [0.7642],\n",
              "        [0.7777],\n",
              "        [0.7913],\n",
              "        [0.8048],\n",
              "        [0.8184]])"
            ]
          },
          "metadata": {},
          "execution_count": 19
        }
      ]
    },
    {
      "cell_type": "markdown",
      "source": [
        "Observe how the trained model looks graphically:"
      ],
      "metadata": {
        "id": "qE4XYhnzZsyK"
      }
    },
    {
      "cell_type": "code",
      "source": [
        "plot_predictions(predictions=y_predc)"
      ],
      "metadata": {
        "colab": {
          "base_uri": "https://localhost:8080/",
          "height": 830
        },
        "id": "4y46NzXOZvEJ",
        "outputId": "e2c3e186-aff9-43a4-82ae-5606a10e71f3"
      },
      "execution_count": 20,
      "outputs": [
        {
          "output_type": "display_data",
          "data": {
            "text/plain": [
              "<Figure size 1000x1000 with 1 Axes>"
            ],
            "image/png": "[encoded data removed]"
          },
          "metadata": {}
        }
      ]
    },
    {
      "cell_type": "markdown",
      "source": [
        "Graphically, the red dots look much closer to where they were before.\n",
        "\n",
        "**Summary:**\n",
        "\n",
        "In this tutorial, we covered the fundamentals of creating PyTorch models for machine learning tasks, using a simple linear regression example as illustration. The key points covered are as follows:\n",
        "\n",
        "**Data Generation:** We generated synthetic data for our example using PyTorch tensors and visualized it on a straight line.\n",
        "\n",
        "**PyTorch Model Structure:** We introduced the essential modules of PyTorch, such as torch.nn and torch.optim, and explained their roles in building neural networks and optimizing models. We also defined a linear regression model class, inheriting from nn.Module, and implemented the forward computation function.\n",
        "\n",
        "**Loss Function and Optimizer:** We addressed the need to optimize the random parameters of the model by introducing the concept of loss functions and optimizers. We chose Mean Absolute Error (MAE) as the loss function and Stochastic Gradient Descent (SGD) as the optimizer for our linear regression model.\n",
        "\n",
        "**Training Loop:** We described the steps involved in the training loop, including forward computation, calculating loss, computing gradients, and updating parameters. We observed how the loss decreased with each epoch, indicating the model's improvement.\n",
        "\n",
        "**Inference:** Once the model was trained, we explored how to perform inference (predictions) using the trained model. We emphasized the importance of setting the model to evaluation mode and ensuring all data and model objects are on the same device (GPU or CPU) during inference.\n",
        "\n",
        "In conclusion, this tutorial provided a foundational understanding of creating PyTorch models, training them using loss functions and optimizers, and making predictions. It serves as a stepping stone for further exploration into more complex machine learning models and tasks using PyTorch. By applying these concepts, researchers and practitioners can build and train powerful machine learning models tailored to their specific applications."
      ],
      "metadata": {
        "id": "2-2KSqwjaDfb"
      }
    }
  ]
}