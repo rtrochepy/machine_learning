{
  "nbformat": 4,
  "nbformat_minor": 0,
  "metadata": {
    "colab": {
      "provenance": [],
      "authorship_tag": "ABX9TyNpUJUKd9cQVI1INUl83zVG",
      "include_colab_link": true
    },
    "kernelspec": {
      "name": "python3",
      "display_name": "Python 3"
    },
    "language_info": {
      "name": "python"
    }
  },
  "cells": [
    {
      "cell_type": "markdown",
      "metadata": {
        "id": "view-in-github",
        "colab_type": "text"
      },
      "source": [
        "<a href=\"https://colab.research.google.com/github/rtrochepy/machine_learning/blob/main/analisis2.ipynb\" target=\"_parent\"><img src=\"https://colab.research.google.com/assets/colab-badge.svg\" alt=\"Open In Colab\"/></a>"
      ]
    },
    {
      "cell_type": "code",
      "execution_count": 1,
      "metadata": {
        "colab": {
          "base_uri": "https://localhost:8080/"
        },
        "id": "ObbMvTyoW-zs",
        "outputId": "22ae9030-e0eb-4f7b-92f9-e82d9e9ea34c"
      },
      "outputs": [
        {
          "output_type": "stream",
          "name": "stdout",
          "text": [
            "Requirement already satisfied: pandas in /usr/local/lib/python3.10/dist-packages (1.5.3)\n",
            "Requirement already satisfied: numpy in /usr/local/lib/python3.10/dist-packages (1.23.5)\n",
            "Requirement already satisfied: matplotlib in /usr/local/lib/python3.10/dist-packages (3.7.1)\n",
            "Requirement already satisfied: seaborn in /usr/local/lib/python3.10/dist-packages (0.12.2)\n",
            "Requirement already satisfied: python-dateutil>=2.8.1 in /usr/local/lib/python3.10/dist-packages (from pandas) (2.8.2)\n",
            "Requirement already satisfied: pytz>=2020.1 in /usr/local/lib/python3.10/dist-packages (from pandas) (2023.3.post1)\n",
            "Requirement already satisfied: contourpy>=1.0.1 in /usr/local/lib/python3.10/dist-packages (from matplotlib) (1.2.0)\n",
            "Requirement already satisfied: cycler>=0.10 in /usr/local/lib/python3.10/dist-packages (from matplotlib) (0.12.1)\n",
            "Requirement already satisfied: fonttools>=4.22.0 in /usr/local/lib/python3.10/dist-packages (from matplotlib) (4.47.0)\n",
            "Requirement already satisfied: kiwisolver>=1.0.1 in /usr/local/lib/python3.10/dist-packages (from matplotlib) (1.4.5)\n",
            "Requirement already satisfied: packaging>=20.0 in /usr/local/lib/python3.10/dist-packages (from matplotlib) (23.2)\n",
            "Requirement already satisfied: pillow>=6.2.0 in /usr/local/lib/python3.10/dist-packages (from matplotlib) (9.4.0)\n",
            "Requirement already satisfied: pyparsing>=2.3.1 in /usr/local/lib/python3.10/dist-packages (from matplotlib) (3.1.1)\n",
            "Requirement already satisfied: six>=1.5 in /usr/local/lib/python3.10/dist-packages (from python-dateutil>=2.8.1->pandas) (1.16.0)\n"
          ]
        }
      ],
      "source": [
        " !pip install pandas numpy matplotlib seaborn"
      ]
    },
    {
      "cell_type": "code",
      "source": [
        "!pip install mlxtend"
      ],
      "metadata": {
        "colab": {
          "base_uri": "https://localhost:8080/"
        },
        "id": "QLrd8p5r8fne",
        "outputId": "5b296b50-83cf-4e25-a454-9b5c8f06cb7d"
      },
      "execution_count": 46,
      "outputs": [
        {
          "output_type": "stream",
          "name": "stdout",
          "text": [
            "Requirement already satisfied: mlxtend in /usr/local/lib/python3.10/dist-packages (0.22.0)\n",
            "Requirement already satisfied: scipy>=1.2.1 in /usr/local/lib/python3.10/dist-packages (from mlxtend) (1.11.4)\n",
            "Requirement already satisfied: numpy>=1.16.2 in /usr/local/lib/python3.10/dist-packages (from mlxtend) (1.23.5)\n",
            "Requirement already satisfied: pandas>=0.24.2 in /usr/local/lib/python3.10/dist-packages (from mlxtend) (1.5.3)\n",
            "Requirement already satisfied: scikit-learn>=1.0.2 in /usr/local/lib/python3.10/dist-packages (from mlxtend) (1.2.2)\n",
            "Requirement already satisfied: matplotlib>=3.0.0 in /usr/local/lib/python3.10/dist-packages (from mlxtend) (3.7.1)\n",
            "Requirement already satisfied: joblib>=0.13.2 in /usr/local/lib/python3.10/dist-packages (from mlxtend) (1.3.2)\n",
            "Requirement already satisfied: setuptools in /usr/local/lib/python3.10/dist-packages (from mlxtend) (67.7.2)\n",
            "Requirement already satisfied: contourpy>=1.0.1 in /usr/local/lib/python3.10/dist-packages (from matplotlib>=3.0.0->mlxtend) (1.2.0)\n",
            "Requirement already satisfied: cycler>=0.10 in /usr/local/lib/python3.10/dist-packages (from matplotlib>=3.0.0->mlxtend) (0.12.1)\n",
            "Requirement already satisfied: fonttools>=4.22.0 in /usr/local/lib/python3.10/dist-packages (from matplotlib>=3.0.0->mlxtend) (4.47.0)\n",
            "Requirement already satisfied: kiwisolver>=1.0.1 in /usr/local/lib/python3.10/dist-packages (from matplotlib>=3.0.0->mlxtend) (1.4.5)\n",
            "Requirement already satisfied: packaging>=20.0 in /usr/local/lib/python3.10/dist-packages (from matplotlib>=3.0.0->mlxtend) (23.2)\n",
            "Requirement already satisfied: pillow>=6.2.0 in /usr/local/lib/python3.10/dist-packages (from matplotlib>=3.0.0->mlxtend) (9.4.0)\n",
            "Requirement already satisfied: pyparsing>=2.3.1 in /usr/local/lib/python3.10/dist-packages (from matplotlib>=3.0.0->mlxtend) (3.1.1)\n",
            "Requirement already satisfied: python-dateutil>=2.7 in /usr/local/lib/python3.10/dist-packages (from matplotlib>=3.0.0->mlxtend) (2.8.2)\n",
            "Requirement already satisfied: pytz>=2020.1 in /usr/local/lib/python3.10/dist-packages (from pandas>=0.24.2->mlxtend) (2023.3.post1)\n",
            "Requirement already satisfied: threadpoolctl>=2.0.0 in /usr/local/lib/python3.10/dist-packages (from scikit-learn>=1.0.2->mlxtend) (3.2.0)\n",
            "Requirement already satisfied: six>=1.5 in /usr/local/lib/python3.10/dist-packages (from python-dateutil>=2.7->matplotlib>=3.0.0->mlxtend) (1.16.0)\n"
          ]
        }
      ]
    },
    {
      "cell_type": "code",
      "source": [
        "import pandas as pd\n",
        "import numpy as np\n",
        "import seaborn as sns\n",
        "import matplotlib.pyplot as plt"
      ],
      "metadata": {
        "colab": {
          "base_uri": "https://localhost:8080/"
        },
        "id": "OUQYb1lWXWKX",
        "outputId": "ccda5667-4dba-4388-a5a0-6d49559caafe"
      },
      "execution_count": 103,
      "outputs": [
        {
          "output_type": "stream",
          "name": "stderr",
          "text": [
            "/usr/local/lib/python3.10/dist-packages/ipykernel/ipkernel.py:283: DeprecationWarning: `should_run_async` will not call `transform_cell` automatically in the future. Please pass the result to `transformed_cell` argument and any exception that happen during thetransform in `preprocessing_exc_tuple` in IPython 7.17 and above.\n",
            "  and should_run_async(code)\n"
          ]
        }
      ]
    },
    {
      "cell_type": "code",
      "source": [
        "df = pd.read_excel('Analisis2.xlsx')"
      ],
      "metadata": {
        "colab": {
          "base_uri": "https://localhost:8080/"
        },
        "id": "Yj33TpU5YH9C",
        "outputId": "af6e3bc0-b09c-4c8d-aad9-c9ddc702481a"
      },
      "execution_count": 113,
      "outputs": [
        {
          "output_type": "stream",
          "name": "stderr",
          "text": [
            "/usr/local/lib/python3.10/dist-packages/ipykernel/ipkernel.py:283: DeprecationWarning: `should_run_async` will not call `transform_cell` automatically in the future. Please pass the result to `transformed_cell` argument and any exception that happen during thetransform in `preprocessing_exc_tuple` in IPython 7.17 and above.\n",
            "  and should_run_async(code)\n"
          ]
        }
      ]
    },
    {
      "cell_type": "code",
      "source": [
        "# Convertir la columna 'JOTSTP' a datetime si aún no lo has hecho\n",
        "df['JOTSTP'] = pd.to_datetime(df['JOTSTP'])"
      ],
      "metadata": {
        "colab": {
          "base_uri": "https://localhost:8080/"
        },
        "id": "OtfiPOZWTenJ",
        "outputId": "39f65ac7-46d0-47ee-d546-29f2c3617678"
      },
      "execution_count": 114,
      "outputs": [
        {
          "output_type": "stream",
          "name": "stderr",
          "text": [
            "/usr/local/lib/python3.10/dist-packages/ipykernel/ipkernel.py:283: DeprecationWarning: `should_run_async` will not call `transform_cell` automatically in the future. Please pass the result to `transformed_cell` argument and any exception that happen during thetransform in `preprocessing_exc_tuple` in IPython 7.17 and above.\n",
            "  and should_run_async(code)\n"
          ]
        }
      ]
    },
    {
      "cell_type": "code",
      "source": [
        "# Extraer la fecha de la columna de fecha y hora\n",
        "df['Date'] = df['JOTSTP'].dt.date"
      ],
      "metadata": {
        "colab": {
          "base_uri": "https://localhost:8080/"
        },
        "id": "SVmX1EEGTn88",
        "outputId": "35e9f2a0-2424-41c6-efb4-4393312df5bc"
      },
      "execution_count": 115,
      "outputs": [
        {
          "output_type": "stream",
          "name": "stderr",
          "text": [
            "/usr/local/lib/python3.10/dist-packages/ipykernel/ipkernel.py:283: DeprecationWarning: `should_run_async` will not call `transform_cell` automatically in the future. Please pass the result to `transformed_cell` argument and any exception that happen during thetransform in `preprocessing_exc_tuple` in IPython 7.17 and above.\n",
            "  and should_run_async(code)\n"
          ]
        }
      ]
    },
    {
      "cell_type": "code",
      "source": [
        "print(df.head())  # Muestra las primeras filas del DataFrame"
      ],
      "metadata": {
        "colab": {
          "base_uri": "https://localhost:8080/"
        },
        "id": "1B0XAyOqYMnS",
        "outputId": "22695da9-0143-4751-89a5-4ea141062dc6"
      },
      "execution_count": 116,
      "outputs": [
        {
          "output_type": "stream",
          "name": "stdout",
          "text": [
            "               JOTSTP JOENTT      JOSEQN   JONBR       JOMBR  JOCTRR  \\\n",
            "0 2024-05-01 07:00:02     UB  1820653925  130426  CCMMCT       26379   \n",
            "1 2024-05-01 07:00:02     UP  1820653926  130426  CCMMCT       26379   \n",
            "2 2024-05-01 07:00:02     UB  1820653955  130426  AHMCAH       96512   \n",
            "3 2024-05-01 07:00:02     UP  1820653956  130426  AHMCAH       96512   \n",
            "4 2024-05-01 07:00:02     UB  1820653999  135856  AHMCAH        3278   \n",
            "\n",
            "       JOUSPF        Date  \n",
            "0  BAHBANKING  2024-05-01  \n",
            "1  BAHBANKING  2024-05-01  \n",
            "2  BAHBANKING  2024-05-01  \n",
            "3  BAHBANKING  2024-05-01  \n",
            "4  SRVSPI      2024-05-01  \n"
          ]
        },
        {
          "output_type": "stream",
          "name": "stderr",
          "text": [
            "/usr/local/lib/python3.10/dist-packages/ipykernel/ipkernel.py:283: DeprecationWarning: `should_run_async` will not call `transform_cell` automatically in the future. Please pass the result to `transformed_cell` argument and any exception that happen during thetransform in `preprocessing_exc_tuple` in IPython 7.17 and above.\n",
            "  and should_run_async(code)\n"
          ]
        }
      ]
    },
    {
      "cell_type": "code",
      "source": [
        "print(df.describe())  # Estadísticas descriptivas"
      ],
      "metadata": {
        "colab": {
          "base_uri": "https://localhost:8080/"
        },
        "id": "IZFc9JkbYUxL",
        "outputId": "6ff0f1c5-405d-44cb-f226-9fb9490f7120"
      },
      "execution_count": 19,
      "outputs": [
        {
          "output_type": "stream",
          "name": "stdout",
          "text": [
            "           JOTSTP;JOENTT;JOSEQN;JONBR;JOMBR;JOCTRR;JOUSPF\n",
            "count                                               49100\n",
            "unique                                              49100\n",
            "top     5/1/2024 7:00;UB;1820653925;130426;CCMMCT    ;...\n",
            "freq                                                    1\n"
          ]
        }
      ]
    },
    {
      "cell_type": "code",
      "source": [
        "correlaciones = df.corr()\n",
        "print(correlaciones)"
      ],
      "metadata": {
        "colab": {
          "base_uri": "https://localhost:8080/"
        },
        "id": "oP6Uad4yYfJc",
        "outputId": "d41c038b-8899-4697-8cf7-9a001643faf5"
      },
      "execution_count": 10,
      "outputs": [
        {
          "output_type": "stream",
          "name": "stdout",
          "text": [
            "          JOSEQN     JONBR    JOCTRR\n",
            "JOSEQN  1.000000  0.988264  0.031632\n",
            "JONBR   0.988264  1.000000  0.034057\n",
            "JOCTRR  0.031632  0.034057  1.000000\n"
          ]
        },
        {
          "output_type": "stream",
          "name": "stderr",
          "text": [
            "<ipython-input-10-47dfe742d388>:1: FutureWarning: The default value of numeric_only in DataFrame.corr is deprecated. In a future version, it will default to False. Select only valid columns or specify the value of numeric_only to silence this warning.\n",
            "  correlaciones = df.corr()\n"
          ]
        }
      ]
    },
    {
      "cell_type": "code",
      "source": [
        "correlaciones = df.corr(numeric_only=True)\n",
        "print(correlaciones)"
      ],
      "metadata": {
        "colab": {
          "base_uri": "https://localhost:8080/"
        },
        "id": "zV0Ua4TyYxh7",
        "outputId": "5b930f36-1c25-425c-90ef-c8f04223645a"
      },
      "execution_count": 11,
      "outputs": [
        {
          "output_type": "stream",
          "name": "stdout",
          "text": [
            "          JOSEQN     JONBR    JOCTRR\n",
            "JOSEQN  1.000000  0.988264  0.031632\n",
            "JONBR   0.988264  1.000000  0.034057\n",
            "JOCTRR  0.031632  0.034057  1.000000\n"
          ]
        }
      ]
    },
    {
      "cell_type": "code",
      "source": [
        "sns.heatmap(correlaciones, annot=True, cmap='coolwarm')\n",
        "plt.show()"
      ],
      "metadata": {
        "colab": {
          "base_uri": "https://localhost:8080/",
          "height": 435
        },
        "id": "gokv-FcCY6OZ",
        "outputId": "fce4c5e7-5348-4a7f-d660-5be5f9cc4b3b"
      },
      "execution_count": 12,
      "outputs": [
        {
          "output_type": "display_data",
          "data": {
            "text/plain": [
              "<Figure size 640x480 with 2 Axes>"
            ],
            "image/png": "[encoded data removed]"
          },
          "metadata": {}
        }
      ]
    },
    {
      "cell_type": "code",
      "source": [
        "df = pd.read_csv('Analisis2.csv', encoding='ISO-8859-1')"
      ],
      "metadata": {
        "id": "KlZw3cDGXbOc"
      },
      "execution_count": 16,
      "outputs": []
    },
    {
      "cell_type": "code",
      "source": [
        "print(df.columns)"
      ],
      "metadata": {
        "colab": {
          "base_uri": "https://localhost:8080/"
        },
        "id": "epkw5TO74kM-",
        "outputId": "5edf6db3-55c2-4f0b-fe2c-dd98857989c0"
      },
      "execution_count": 55,
      "outputs": [
        {
          "output_type": "stream",
          "name": "stdout",
          "text": [
            "Index(['BR', 'DR', 'PX', 'UB'], dtype='object')\n"
          ]
        },
        {
          "output_type": "stream",
          "name": "stderr",
          "text": [
            "/usr/local/lib/python3.10/dist-packages/ipykernel/ipkernel.py:283: DeprecationWarning: `should_run_async` will not call `transform_cell` automatically in the future. Please pass the result to `transformed_cell` argument and any exception that happen during thetransform in `preprocessing_exc_tuple` in IPython 7.17 and above.\n",
            "  and should_run_async(code)\n"
          ]
        }
      ]
    },
    {
      "cell_type": "code",
      "source": [
        "# Suponiendo que tienes un DataFrame llamado df con tus datos\n",
        "\n",
        "# Convertir la columna de fecha y hora en un datetime\n",
        "df['JOTSTP'] = pd.to_datetime(df['JOTSTP'])"
      ],
      "metadata": {
        "id": "qn0_ZWmJ0NS9"
      },
      "execution_count": 28,
      "outputs": []
    },
    {
      "cell_type": "code",
      "source": [
        "# Ordenar por fecha y hora del evento\n",
        "df = df.sort_values('JOTSTP')"
      ],
      "metadata": {
        "id": "RR9ftqV_5R6t"
      },
      "execution_count": 29,
      "outputs": []
    },
    {
      "cell_type": "code",
      "source": [
        "# A partir de aquí, puedes empezar a realizar diferentes tipos de análisis:\n",
        "# Por ejemplo, para ver la cantidad de eventos por usuario, podrías hacer:\n",
        "eventos_por_usuario = df['JOUSPF'].value_counts()"
      ],
      "metadata": {
        "id": "bRHBr2Wl5VPe"
      },
      "execution_count": 30,
      "outputs": []
    },
    {
      "cell_type": "code",
      "source": [
        "print(eventos_por_usuario)"
      ],
      "metadata": {
        "colab": {
          "base_uri": "https://localhost:8080/"
        },
        "id": "VGFUheWF7GlV",
        "outputId": "d101890d-8848-4ebe-8cbb-e4e34fedb041"
      },
      "execution_count": 41,
      "outputs": [
        {
          "output_type": "stream",
          "name": "stdout",
          "text": [
            "BAWSPCS       28936\n",
            "BAINFONET     19628\n",
            "BAHBANKING    16032\n",
            "SRVSPI         9478\n",
            "SBA17          2196\n",
            "SRVSBA15        312\n",
            "SBA08            44\n",
            "SBA15            34\n",
            "SRVBURO          10\n",
            "QUSER             2\n",
            "SBA11             1\n",
            "Name: JOUSPF, dtype: int64\n"
          ]
        }
      ]
    },
    {
      "cell_type": "code",
      "source": [
        "# O para ver la cantidad de rollbacks por tabla podrías hacer:\n",
        "rollback_por_tabla = df['JOMBR'].value_counts()"
      ],
      "metadata": {
        "id": "gxl9R-c55ZDu"
      },
      "execution_count": 31,
      "outputs": []
    },
    {
      "cell_type": "code",
      "source": [
        "print(rollback_por_tabla)"
      ],
      "metadata": {
        "colab": {
          "base_uri": "https://localhost:8080/"
        },
        "id": "dWGSUC-V7N83",
        "outputId": "ce7b28a7-bd93-444b-8e07-eed2a34da1c7"
      },
      "execution_count": 43,
      "outputs": [
        {
          "output_type": "stream",
          "name": "stdout",
          "text": [
            "CCMMCT        50626\n",
            "AHMCAH        26047\n",
            "Name: JOMBR, dtype: int64\n"
          ]
        }
      ]
    },
    {
      "cell_type": "code",
      "source": [
        "# Crear una nueva columna que indique el siguiente evento en la secuencia\n",
        "df['JOENTT'] = df['JOENTT'].shift(-1)"
      ],
      "metadata": {
        "id": "QbaKc9hm5lOn"
      },
      "execution_count": 33,
      "outputs": []
    },
    {
      "cell_type": "code",
      "source": [
        "# Crear una nueva columna para la diferencia de tiempo hasta el siguiente evento\n",
        "df['time_to_next'] = df['JOTSTP'].shift(-1) - df['JOTSTP']"
      ],
      "metadata": {
        "id": "kubEDWWf6BXd"
      },
      "execution_count": 34,
      "outputs": []
    },
    {
      "cell_type": "code",
      "source": [
        "# Filtrar los eventos de interés, por ejemplo, 'PX' seguido por 'DR'\n",
        "px_dr = df[(df['JOENTT'] == 'PX') & (df['JOENTT'] == 'DR')]"
      ],
      "metadata": {
        "id": "1AupPnWZ6KpF"
      },
      "execution_count": 44,
      "outputs": []
    },
    {
      "cell_type": "code",
      "source": [
        "print(px_dr)"
      ],
      "metadata": {
        "colab": {
          "base_uri": "https://localhost:8080/"
        },
        "id": "Rr8ScTap7eWW",
        "outputId": "9eee447e-f5e4-4d12-8e25-64a8a0d3874f"
      },
      "execution_count": 45,
      "outputs": [
        {
          "output_type": "stream",
          "name": "stdout",
          "text": [
            "Empty DataFrame\n",
            "Columns: [JOTSTP, JOENTT, JOSEQN, JONBR, JOMBR, JOCTRR, JOUSPF, time_to_next]\n",
            "Index: []\n"
          ]
        }
      ]
    },
    {
      "cell_type": "code",
      "source": [
        "# Hacer lo mismo para los otros pares de eventos\n",
        "ub_br = df[(df['JOENTT'] == 'UB') & (df['JOENTT'] == 'BR')]\n",
        "up_ur = df[(df['JOENTT'] == 'UP') & (df['JOENTT'] == 'UR')]"
      ],
      "metadata": {
        "id": "lXdbZsLl6aS1"
      },
      "execution_count": 36,
      "outputs": []
    },
    {
      "cell_type": "code",
      "source": [
        "print(df)"
      ],
      "metadata": {
        "colab": {
          "base_uri": "https://localhost:8080/"
        },
        "id": "__1aC5_66nYu",
        "outputId": "81f2ad61-2c49-4804-e102-2349ca906132"
      },
      "execution_count": 40,
      "outputs": [
        {
          "output_type": "stream",
          "name": "stdout",
          "text": [
            "                   JOTSTP JOENTT      JOSEQN   JONBR       JOMBR  JOCTRR  \\\n",
            "0     2024-05-01 07:00:02     UP  1820653925  130426  CCMMCT       26379   \n",
            "1     2024-05-01 07:00:02     UB  1820653926  130426  CCMMCT       26379   \n",
            "2     2024-05-01 07:00:02     UP  1820653955  130426  AHMCAH       96512   \n",
            "3     2024-05-01 07:00:02     UB  1820653956  130426  AHMCAH       96512   \n",
            "4     2024-05-01 07:00:02     UP  1820653999  135856  AHMCAH        3278   \n",
            "...                   ...    ...         ...     ...         ...     ...   \n",
            "76671 2024-11-01 09:00:00     UP  2152092458  306134  CCMMCT       32854   \n",
            "76666 2024-11-01 09:00:00     UB  2152092331  306036  AHMCAH       94701   \n",
            "76665 2024-11-01 09:00:00     UB  2152092330  306036  AHMCAH       94701   \n",
            "76667 2024-11-01 09:00:00     UP  2152092364  306036  AHMCAH       94701   \n",
            "76672 2024-11-01 09:00:00   None  2152092459  306134  CCMMCT       32854   \n",
            "\n",
            "           JOUSPF time_to_next  \n",
            "0      BAHBANKING       0 days  \n",
            "1      BAHBANKING       0 days  \n",
            "2      BAHBANKING       0 days  \n",
            "3      BAHBANKING       0 days  \n",
            "4      SRVSPI           0 days  \n",
            "...           ...          ...  \n",
            "76671  BAINFONET        0 days  \n",
            "76666  BAHBANKING       0 days  \n",
            "76665  BAHBANKING       0 days  \n",
            "76667  BAHBANKING       0 days  \n",
            "76672  BAINFONET           NaT  \n",
            "\n",
            "[76673 rows x 8 columns]\n"
          ]
        }
      ]
    },
    {
      "cell_type": "code",
      "source": [
        "import pandas as pd\n",
        "from mlxtend.preprocessing import TransactionEncoder\n",
        "from mlxtend.frequent_patterns import apriori"
      ],
      "metadata": {
        "id": "J7GdvgvD8r4t"
      },
      "execution_count": 47,
      "outputs": []
    },
    {
      "cell_type": "code",
      "source": [
        "# Supongamos que tienes una lista de listas, donde cada sublista es una secuencia de eventos\n",
        "secuencias = [\n",
        "    ['PX', 'DR', 'UB'],\n",
        "    ['PX', 'DR'],\n",
        "    ['PX', 'UB', 'BR'],\n",
        "    # ... muchas más secuencias ...\n",
        "]"
      ],
      "metadata": {
        "colab": {
          "base_uri": "https://localhost:8080/"
        },
        "id": "HQR_u9Kt8yNd",
        "outputId": "3af1dde0-6740-4061-87af-0d0435ae9289"
      },
      "execution_count": 48,
      "outputs": [
        {
          "output_type": "stream",
          "name": "stderr",
          "text": [
            "/usr/local/lib/python3.10/dist-packages/ipykernel/ipkernel.py:283: DeprecationWarning: `should_run_async` will not call `transform_cell` automatically in the future. Please pass the result to `transformed_cell` argument and any exception that happen during thetransform in `preprocessing_exc_tuple` in IPython 7.17 and above.\n",
            "  and should_run_async(code)\n"
          ]
        }
      ]
    },
    {
      "cell_type": "code",
      "source": [
        "# Instanciar el TransactionEncoder y transformar los datos\n",
        "te = TransactionEncoder()\n",
        "te_ary = te.fit(secuencias).transform(secuencias)\n",
        "df = pd.DataFrame(te_ary, columns=te.columns_)"
      ],
      "metadata": {
        "colab": {
          "base_uri": "https://localhost:8080/"
        },
        "id": "zPu3ATkG85T2",
        "outputId": "817734e5-8833-4cf2-a0de-d761237d1fb5"
      },
      "execution_count": 49,
      "outputs": [
        {
          "output_type": "stream",
          "name": "stderr",
          "text": [
            "/usr/local/lib/python3.10/dist-packages/ipykernel/ipkernel.py:283: DeprecationWarning: `should_run_async` will not call `transform_cell` automatically in the future. Please pass the result to `transformed_cell` argument and any exception that happen during thetransform in `preprocessing_exc_tuple` in IPython 7.17 and above.\n",
            "  and should_run_async(code)\n"
          ]
        }
      ]
    },
    {
      "cell_type": "code",
      "source": [
        "# Utilizar el algoritmo apriori para encontrar patrones frecuentes\n",
        "patrones_frecuentes = apriori(df, min_support=0.01, use_colnames=True)"
      ],
      "metadata": {
        "colab": {
          "base_uri": "https://localhost:8080/"
        },
        "id": "2oxpIt-G899W",
        "outputId": "07ca5254-a502-4c03-f179-1812359061bb"
      },
      "execution_count": 50,
      "outputs": [
        {
          "output_type": "stream",
          "name": "stderr",
          "text": [
            "/usr/local/lib/python3.10/dist-packages/ipykernel/ipkernel.py:283: DeprecationWarning: `should_run_async` will not call `transform_cell` automatically in the future. Please pass the result to `transformed_cell` argument and any exception that happen during thetransform in `preprocessing_exc_tuple` in IPython 7.17 and above.\n",
            "  and should_run_async(code)\n"
          ]
        }
      ]
    },
    {
      "cell_type": "code",
      "source": [
        "# Ordenar por soporte y luego por longitud del itemset\n",
        "patrones_frecuentes['length'] = patrones_frecuentes['itemsets'].apply(lambda x: len(x))\n",
        "patrones_frecuentes = patrones_frecuentes.sort_values(['length', 'support'], ascending=[False, False])\n"
      ],
      "metadata": {
        "colab": {
          "base_uri": "https://localhost:8080/"
        },
        "id": "nDMZi9Vv9B3F",
        "outputId": "5b1178a9-bf0d-4cc8-849b-48d2ab9b3642"
      },
      "execution_count": 51,
      "outputs": [
        {
          "output_type": "stream",
          "name": "stderr",
          "text": [
            "/usr/local/lib/python3.10/dist-packages/ipykernel/ipkernel.py:283: DeprecationWarning: `should_run_async` will not call `transform_cell` automatically in the future. Please pass the result to `transformed_cell` argument and any exception that happen during thetransform in `preprocessing_exc_tuple` in IPython 7.17 and above.\n",
            "  and should_run_async(code)\n"
          ]
        }
      ]
    },
    {
      "cell_type": "code",
      "source": [
        "# Mostrar los resultados\n",
        "print(patrones_frecuentes)"
      ],
      "metadata": {
        "colab": {
          "base_uri": "https://localhost:8080/"
        },
        "id": "K-yoI6Q29FK-",
        "outputId": "23aa303f-747b-48cf-cd34-f94a2ba22502"
      },
      "execution_count": 52,
      "outputs": [
        {
          "output_type": "stream",
          "name": "stdout",
          "text": [
            "     support      itemsets  length\n",
            "9   0.333333  (UB, PX, BR)       3\n",
            "10  0.333333  (UB, DR, PX)       3\n",
            "6   0.666667      (DR, PX)       2\n",
            "8   0.666667      (UB, PX)       2\n",
            "4   0.333333      (PX, BR)       2\n",
            "5   0.333333      (UB, BR)       2\n",
            "7   0.333333      (UB, DR)       2\n",
            "2   1.000000          (PX)       1\n",
            "1   0.666667          (DR)       1\n",
            "3   0.666667          (UB)       1\n",
            "0   0.333333          (BR)       1\n"
          ]
        },
        {
          "output_type": "stream",
          "name": "stderr",
          "text": [
            "/usr/local/lib/python3.10/dist-packages/ipykernel/ipkernel.py:283: DeprecationWarning: `should_run_async` will not call `transform_cell` automatically in the future. Please pass the result to `transformed_cell` argument and any exception that happen during thetransform in `preprocessing_exc_tuple` in IPython 7.17 and above.\n",
            "  and should_run_async(code)\n"
          ]
        }
      ]
    },
    {
      "cell_type": "code",
      "source": [
        "# Agrupar por 'JOCTRR' y 'tipo_evento' y contar las ocurrencias\n",
        "rollback_counts = df.groupby(['JOCTRR', 'JOENTT']).size().unstack(fill_value=0)"
      ],
      "metadata": {
        "colab": {
          "base_uri": "https://localhost:8080/"
        },
        "id": "oGW3ejzd_uCd",
        "outputId": "1e9b736b-4a8e-49ef-bdfe-84cb86732a39"
      },
      "execution_count": 62,
      "outputs": [
        {
          "output_type": "stream",
          "name": "stderr",
          "text": [
            "/usr/local/lib/python3.10/dist-packages/ipykernel/ipkernel.py:283: DeprecationWarning: `should_run_async` will not call `transform_cell` automatically in the future. Please pass the result to `transformed_cell` argument and any exception that happen during thetransform in `preprocessing_exc_tuple` in IPython 7.17 and above.\n",
            "  and should_run_async(code)\n"
          ]
        }
      ]
    },
    {
      "cell_type": "code",
      "source": [
        "# Para ver los primeros registros puedes hacer:\n",
        "print(rollback_counts.head())"
      ],
      "metadata": {
        "colab": {
          "base_uri": "https://localhost:8080/"
        },
        "id": "tGIh-rtcBXrm",
        "outputId": "c3c47a7b-291f-4ed0-9ab6-61c9c03b0867"
      },
      "execution_count": 60,
      "outputs": [
        {
          "output_type": "stream",
          "name": "stdout",
          "text": [
            "JOENTT  BR  PX  UB  UP  UR\n",
            "JOCTRR                    \n",
            "6        0   0   1   1   0\n",
            "25       0   0   1   1   0\n",
            "34       0   0   1   1   0\n",
            "39       0   0   1   1   0\n",
            "44       0   0   1   1   0\n"
          ]
        },
        {
          "output_type": "stream",
          "name": "stderr",
          "text": [
            "/usr/local/lib/python3.10/dist-packages/ipykernel/ipkernel.py:283: DeprecationWarning: `should_run_async` will not call `transform_cell` automatically in the future. Please pass the result to `transformed_cell` argument and any exception that happen during thetransform in `preprocessing_exc_tuple` in IPython 7.17 and above.\n",
            "  and should_run_async(code)\n"
          ]
        }
      ]
    },
    {
      "cell_type": "code",
      "source": [
        "# Ordenar por uno de los tipos de rollback, por ejemplo 'DR'\n",
        "sorted_by_dr = rollback_counts.sort_values(by='UR', ascending=False)"
      ],
      "metadata": {
        "colab": {
          "base_uri": "https://localhost:8080/"
        },
        "id": "TeA0dgpVBpzY",
        "outputId": "989f76a1-c346-4f0e-ce46-a4a09b5ab6ce"
      },
      "execution_count": 64,
      "outputs": [
        {
          "output_type": "stream",
          "name": "stderr",
          "text": [
            "/usr/local/lib/python3.10/dist-packages/ipykernel/ipkernel.py:283: DeprecationWarning: `should_run_async` will not call `transform_cell` automatically in the future. Please pass the result to `transformed_cell` argument and any exception that happen during thetransform in `preprocessing_exc_tuple` in IPython 7.17 and above.\n",
            "  and should_run_async(code)\n"
          ]
        }
      ]
    },
    {
      "cell_type": "code",
      "source": [
        "# Visualizar los registros con más eventos DR\n",
        "print(sorted_by_dr.head())"
      ],
      "metadata": {
        "colab": {
          "base_uri": "https://localhost:8080/"
        },
        "id": "lMsIao31B2T-",
        "outputId": "2e9c0acb-bd05-432b-dd9b-7cfd83306518"
      },
      "execution_count": 65,
      "outputs": [
        {
          "output_type": "stream",
          "name": "stdout",
          "text": [
            "JOENTT  BR  PX    UB    UP  UR\n",
            "JOCTRR                        \n",
            "47143    9   0  3497  3497   9\n",
            "353      7   0   155   155   7\n",
            "1576     6   0    95    95   6\n",
            "1270     6   0   636   636   6\n",
            "91150    5   0   341   341   5\n"
          ]
        },
        {
          "output_type": "stream",
          "name": "stderr",
          "text": [
            "/usr/local/lib/python3.10/dist-packages/ipykernel/ipkernel.py:283: DeprecationWarning: `should_run_async` will not call `transform_cell` automatically in the future. Please pass the result to `transformed_cell` argument and any exception that happen during thetransform in `preprocessing_exc_tuple` in IPython 7.17 and above.\n",
            "  and should_run_async(code)\n"
          ]
        }
      ]
    },
    {
      "cell_type": "code",
      "source": [
        "# Si quieres visualizar esta información, puedes usar matplotlib\n",
        "import matplotlib.pyplot as plt"
      ],
      "metadata": {
        "colab": {
          "base_uri": "https://localhost:8080/"
        },
        "id": "OouR1Ob3B5P1",
        "outputId": "dbec47f1-9aa8-4fb0-81f3-cb67236c9992"
      },
      "execution_count": 66,
      "outputs": [
        {
          "output_type": "stream",
          "name": "stderr",
          "text": [
            "/usr/local/lib/python3.10/dist-packages/ipykernel/ipkernel.py:283: DeprecationWarning: `should_run_async` will not call `transform_cell` automatically in the future. Please pass the result to `transformed_cell` argument and any exception that happen during thetransform in `preprocessing_exc_tuple` in IPython 7.17 and above.\n",
            "  and should_run_async(code)\n"
          ]
        }
      ]
    },
    {
      "cell_type": "code",
      "source": [
        "# Visualizar los top 10 JOCTRR con más eventos DR\n",
        "sorted_by_dr['UR'].head(10).plot(kind='bar')\n",
        "plt.title('Top 10 JOCTRR con más eventos UR')\n",
        "plt.xlabel('JOCTRR')\n",
        "plt.ylabel('Cantidad de eventos UR')\n",
        "plt.show()"
      ],
      "metadata": {
        "colab": {
          "base_uri": "https://localhost:8080/",
          "height": 557
        },
        "id": "dy0CrG6_B71t",
        "outputId": "1ace1a2f-0f73-4194-a259-aa279d82fbcb"
      },
      "execution_count": 67,
      "outputs": [
        {
          "output_type": "stream",
          "name": "stderr",
          "text": [
            "/usr/local/lib/python3.10/dist-packages/ipykernel/ipkernel.py:283: DeprecationWarning: `should_run_async` will not call `transform_cell` automatically in the future. Please pass the result to `transformed_cell` argument and any exception that happen during thetransform in `preprocessing_exc_tuple` in IPython 7.17 and above.\n",
            "  and should_run_async(code)\n"
          ]
        },
        {
          "output_type": "display_data",
          "data": {
            "text/plain": [
              "<Figure size 640x480 with 1 Axes>"
            ],
            "image/png": "[encoded data removed]"
          },
          "metadata": {}
        }
      ]
    },
    {
      "cell_type": "code",
      "source": [
        "# Agrupar por 'JOCTRR' y 'tipo_evento' y contar las ocurrencias\n",
        "rollback_counts = df.groupby(['JOCTRR', 'JOENTT']).size().reset_index(name='count')"
      ],
      "metadata": {
        "colab": {
          "base_uri": "https://localhost:8080/"
        },
        "id": "XVg7NbMkHWUZ",
        "outputId": "ed872a04-d9a2-4f0b-b134-7efda82ac7e2"
      },
      "execution_count": 69,
      "outputs": [
        {
          "output_type": "stream",
          "name": "stderr",
          "text": [
            "/usr/local/lib/python3.10/dist-packages/ipykernel/ipkernel.py:283: DeprecationWarning: `should_run_async` will not call `transform_cell` automatically in the future. Please pass the result to `transformed_cell` argument and any exception that happen during thetransform in `preprocessing_exc_tuple` in IPython 7.17 and above.\n",
            "  and should_run_async(code)\n"
          ]
        }
      ]
    },
    {
      "cell_type": "code",
      "source": [
        "# Obtener información adicional por 'JOCTRR'\n",
        "# Por ejemplo, el usuario más frecuente para cada 'JOCTRR'\n",
        "usuarios_frecuentes = df.groupby('JOCTRR')['JOUSPF'].agg(lambda x:x.value_counts().index[0])"
      ],
      "metadata": {
        "colab": {
          "base_uri": "https://localhost:8080/"
        },
        "id": "2yPXDePaHpA3",
        "outputId": "6210594f-e231-4599-d17f-4cadc1616ef3"
      },
      "execution_count": 70,
      "outputs": [
        {
          "output_type": "stream",
          "name": "stderr",
          "text": [
            "/usr/local/lib/python3.10/dist-packages/ipykernel/ipkernel.py:283: DeprecationWarning: `should_run_async` will not call `transform_cell` automatically in the future. Please pass the result to `transformed_cell` argument and any exception that happen during thetransform in `preprocessing_exc_tuple` in IPython 7.17 and above.\n",
            "  and should_run_async(code)\n"
          ]
        }
      ]
    },
    {
      "cell_type": "code",
      "source": [
        "# Para obtener la hora del día de los eventos, primero asegúrate de que el timestamp es del tipo correcto\n",
        "df['JOTSTP'] = pd.to_datetime(df['JOTSTP'])\n",
        "df['hour'] = df['JOTSTP'].dt.hour  # extraer la hora\n"
      ],
      "metadata": {
        "colab": {
          "base_uri": "https://localhost:8080/"
        },
        "id": "u7snzg4EHtdJ",
        "outputId": "2898ad6a-9e57-408d-8680-d5e0b3ef4dd7"
      },
      "execution_count": 71,
      "outputs": [
        {
          "output_type": "stream",
          "name": "stderr",
          "text": [
            "/usr/local/lib/python3.10/dist-packages/ipykernel/ipkernel.py:283: DeprecationWarning: `should_run_async` will not call `transform_cell` automatically in the future. Please pass the result to `transformed_cell` argument and any exception that happen during thetransform in `preprocessing_exc_tuple` in IPython 7.17 and above.\n",
            "  and should_run_async(code)\n"
          ]
        }
      ]
    },
    {
      "cell_type": "code",
      "source": [
        "# Ahora, podrías encontrar la hora más común para los rollbacks por 'JOCTRR'\n",
        "horas_frecuentes = df.groupby('JOCTRR')['hour'].agg(lambda x:x.value_counts().index[0])"
      ],
      "metadata": {
        "colab": {
          "base_uri": "https://localhost:8080/"
        },
        "id": "G5WACvOgHxDJ",
        "outputId": "03f2ac6a-aafe-49f8-c42f-cd52f15e9fa1"
      },
      "execution_count": 72,
      "outputs": [
        {
          "output_type": "stream",
          "name": "stderr",
          "text": [
            "/usr/local/lib/python3.10/dist-packages/ipykernel/ipkernel.py:283: DeprecationWarning: `should_run_async` will not call `transform_cell` automatically in the future. Please pass the result to `transformed_cell` argument and any exception that happen during thetransform in `preprocessing_exc_tuple` in IPython 7.17 and above.\n",
            "  and should_run_async(code)\n"
          ]
        }
      ]
    },
    {
      "cell_type": "code",
      "source": [
        "# Puedes hacer lo mismo para el tipo de trabajo realizado si tienes una columna para eso\n",
        "# Supongamos que la columna se llama 'JOTYPE'\n",
        "tipos_trabajo_frecuentes = df.groupby('JOCTRR')['JOENTT'].agg(lambda x:x.value_counts().index[0])"
      ],
      "metadata": {
        "colab": {
          "base_uri": "https://localhost:8080/"
        },
        "id": "UySy1D3eH2FF",
        "outputId": "a0fc5b6d-1638-4320-f09e-4c5982c87712"
      },
      "execution_count": 74,
      "outputs": [
        {
          "output_type": "stream",
          "name": "stderr",
          "text": [
            "/usr/local/lib/python3.10/dist-packages/ipykernel/ipkernel.py:283: DeprecationWarning: `should_run_async` will not call `transform_cell` automatically in the future. Please pass the result to `transformed_cell` argument and any exception that happen during thetransform in `preprocessing_exc_tuple` in IPython 7.17 and above.\n",
            "  and should_run_async(code)\n"
          ]
        }
      ]
    },
    {
      "cell_type": "code",
      "source": [
        "# Ahora tienes tres Series con índices 'JOCTRR' y valores que son el usuario más frecuente, la hora más frecuente, y el tipo de trabajo más frecuente\n",
        "# Puedes unir estos con tus conteos de rollback usando merge\n",
        "analisis_combinado = rollback_counts.merge(usuarios_frecuentes, on='JOCTRR')\n",
        "analisis_combinado = analisis_combinado.merge(horas_frecuentes, on='JOCTRR', suffixes=('_user', '_hour'))\n",
        "analisis_combinado = analisis_combinado.merge(tipos_trabajo_frecuentes, on='JOCTRR')"
      ],
      "metadata": {
        "colab": {
          "base_uri": "https://localhost:8080/"
        },
        "id": "7rgWomGNH-zH",
        "outputId": "932bfde9-a27a-406b-fab7-55013c08e3b1"
      },
      "execution_count": 75,
      "outputs": [
        {
          "output_type": "stream",
          "name": "stderr",
          "text": [
            "/usr/local/lib/python3.10/dist-packages/ipykernel/ipkernel.py:283: DeprecationWarning: `should_run_async` will not call `transform_cell` automatically in the future. Please pass the result to `transformed_cell` argument and any exception that happen during thetransform in `preprocessing_exc_tuple` in IPython 7.17 and above.\n",
            "  and should_run_async(code)\n"
          ]
        }
      ]
    },
    {
      "cell_type": "code",
      "source": [
        "# Ahora 'analisis_combinado' es un DataFrame que tiene la frecuencia de rollbacks cruzada con el usuario más frecuente, la hora más común, y el tipo de trabajo más frecuente\n",
        "# Para ver los primeros registros puedes hacer:\n",
        "print(analisis_combinado.head())"
      ],
      "metadata": {
        "colab": {
          "base_uri": "https://localhost:8080/"
        },
        "id": "LVbbvrOfIDF3",
        "outputId": "75b9481e-2e86-43f9-a793-8139e2e03ac9"
      },
      "execution_count": 76,
      "outputs": [
        {
          "output_type": "stream",
          "name": "stdout",
          "text": [
            "   JOCTRR JOENTT_x  count      JOUSPF  hour JOENTT_y\n",
            "0       6       UB      1  BAHBANKING     6       UB\n",
            "1       6       UP      1  BAHBANKING     6       UB\n",
            "2      25       UB      1  BAINFONET      9       UB\n",
            "3      25       UP      1  BAINFONET      9       UB\n",
            "4      34       UB      1  SRVSPI         8       UB\n"
          ]
        },
        {
          "output_type": "stream",
          "name": "stderr",
          "text": [
            "/usr/local/lib/python3.10/dist-packages/ipykernel/ipkernel.py:283: DeprecationWarning: `should_run_async` will not call `transform_cell` automatically in the future. Please pass the result to `transformed_cell` argument and any exception that happen during thetransform in `preprocessing_exc_tuple` in IPython 7.17 and above.\n",
            "  and should_run_async(code)\n"
          ]
        }
      ]
    },
    {
      "cell_type": "code",
      "source": [
        "import matplotlib.pyplot as plt\n",
        "import seaborn as sns\n",
        "\n",
        "# Contar cuántas veces cada usuario aparece en rollbacks\n"
      ],
      "metadata": {
        "colab": {
          "base_uri": "https://localhost:8080/"
        },
        "id": "Og1eXK8wJHn6",
        "outputId": "1c0e685f-a2eb-48f0-e6ab-29dfcbe7409a"
      },
      "execution_count": 77,
      "outputs": [
        {
          "output_type": "stream",
          "name": "stderr",
          "text": [
            "/usr/local/lib/python3.10/dist-packages/ipykernel/ipkernel.py:283: DeprecationWarning: `should_run_async` will not call `transform_cell` automatically in the future. Please pass the result to `transformed_cell` argument and any exception that happen during thetransform in `preprocessing_exc_tuple` in IPython 7.17 and above.\n",
            "  and should_run_async(code)\n"
          ]
        }
      ]
    },
    {
      "cell_type": "code",
      "source": [
        "# Contar cuántas veces cada usuario aparece en rollbacks\n",
        "frecuencia_usuario = analisis_combinado['JOUSPF'].value_counts()"
      ],
      "metadata": {
        "colab": {
          "base_uri": "https://localhost:8080/"
        },
        "id": "3nk1Q-mQJNtn",
        "outputId": "2647af2d-6876-4ad0-b4d1-96324a87a7f8"
      },
      "execution_count": 78,
      "outputs": [
        {
          "output_type": "stream",
          "name": "stderr",
          "text": [
            "/usr/local/lib/python3.10/dist-packages/ipykernel/ipkernel.py:283: DeprecationWarning: `should_run_async` will not call `transform_cell` automatically in the future. Please pass the result to `transformed_cell` argument and any exception that happen during thetransform in `preprocessing_exc_tuple` in IPython 7.17 and above.\n",
            "  and should_run_async(code)\n"
          ]
        }
      ]
    },
    {
      "cell_type": "code",
      "source": [
        "# Visualización\n",
        "plt.figure(figsize=(10, 6))\n",
        "sns.barplot(x=frecuencia_usuario.index, y=frecuencia_usuario.values)\n",
        "plt.xticks(rotation=45)\n",
        "plt.title('Frecuencia de Rollbacks por Usuario')\n",
        "plt.xlabel('Usuario')\n",
        "plt.ylabel('Frecuencia de Rollbacks')\n",
        "plt.show()"
      ],
      "metadata": {
        "colab": {
          "base_uri": "https://localhost:8080/",
          "height": 681
        },
        "id": "ZWn_wie0JQUt",
        "outputId": "e4445c06-5f75-406b-fb10-a47e4265a888"
      },
      "execution_count": 79,
      "outputs": [
        {
          "output_type": "stream",
          "name": "stderr",
          "text": [
            "/usr/local/lib/python3.10/dist-packages/ipykernel/ipkernel.py:283: DeprecationWarning: `should_run_async` will not call `transform_cell` automatically in the future. Please pass the result to `transformed_cell` argument and any exception that happen during thetransform in `preprocessing_exc_tuple` in IPython 7.17 and above.\n",
            "  and should_run_async(code)\n"
          ]
        },
        {
          "output_type": "display_data",
          "data": {
            "text/plain": [
              "<Figure size 1000x600 with 1 Axes>"
            ],
            "image/png": "[encoded data removed]"
          },
          "metadata": {}
        }
      ]
    },
    {
      "cell_type": "code",
      "source": [
        "# Contar cuántas veces ocurren rollbacks en cada hora del día\n",
        "frecuencia_hora = analisis_combinado['hour'].value_counts()\n",
        "\n",
        "# Visualización\n",
        "plt.figure(figsize=(10, 6))\n",
        "sns.barplot(x=frecuencia_hora.index, y=frecuencia_hora.values)\n",
        "plt.title('Frecuencia de Rollbacks por Hora del Día')\n",
        "plt.xlabel('Hora')\n",
        "plt.ylabel('Cantidad de Rollbacks')\n",
        "plt.show()"
      ],
      "metadata": {
        "colab": {
          "base_uri": "https://localhost:8080/",
          "height": 620
        },
        "id": "L0OjaUeUJuq5",
        "outputId": "753a7d2c-af07-4abd-dc92-2d42ccf260db"
      },
      "execution_count": 80,
      "outputs": [
        {
          "output_type": "stream",
          "name": "stderr",
          "text": [
            "/usr/local/lib/python3.10/dist-packages/ipykernel/ipkernel.py:283: DeprecationWarning: `should_run_async` will not call `transform_cell` automatically in the future. Please pass the result to `transformed_cell` argument and any exception that happen during thetransform in `preprocessing_exc_tuple` in IPython 7.17 and above.\n",
            "  and should_run_async(code)\n"
          ]
        },
        {
          "output_type": "display_data",
          "data": {
            "text/plain": [
              "<Figure size 1000x600 with 1 Axes>"
            ],
            "image/png": "[encoded data removed]"
          },
          "metadata": {}
        }
      ]
    },
    {
      "cell_type": "code",
      "source": [
        "# Agrupar por tipo de evento y contar\n",
        "frecuencia_tipo_evento = analisis_combinado.groupby('JOENTT_x')['count'].sum()\n",
        "\n",
        "# Visualización\n",
        "plt.figure(figsize=(10, 6))\n",
        "frecuencia_tipo_evento.plot(kind='bar')\n",
        "plt.title('Frecuencia de Rollbacks por Tipo de Evento')\n",
        "plt.xlabel('Tipo de Evento')\n",
        "plt.ylabel('Cantidad de Rollbacks')\n",
        "plt.show()"
      ],
      "metadata": {
        "colab": {
          "base_uri": "https://localhost:8080/",
          "height": 625
        },
        "id": "1SVnOJJ9KBGB",
        "outputId": "020ac543-c553-44da-d187-312bcac77f70"
      },
      "execution_count": 81,
      "outputs": [
        {
          "output_type": "stream",
          "name": "stderr",
          "text": [
            "/usr/local/lib/python3.10/dist-packages/ipykernel/ipkernel.py:283: DeprecationWarning: `should_run_async` will not call `transform_cell` automatically in the future. Please pass the result to `transformed_cell` argument and any exception that happen during thetransform in `preprocessing_exc_tuple` in IPython 7.17 and above.\n",
            "  and should_run_async(code)\n"
          ]
        },
        {
          "output_type": "display_data",
          "data": {
            "text/plain": [
              "<Figure size 1000x600 with 1 Axes>"
            ],
            "image/png": "[encoded data removed]"
          },
          "metadata": {}
        }
      ]
    },
    {
      "cell_type": "code",
      "source": [
        "# Podrías usar un gráfico de calor para ver la relación entre usuarios, horas y tipos de evento\n",
        "pivot_table = analisis_combinado.pivot_table(index='JOUSPF', columns='hour', values='count', aggfunc='sum')\n",
        "plt.figure(figsize=(12, 8))\n",
        "sns.heatmap(pivot_table, annot=True, fmt=\".0f\")\n",
        "plt.title('Heatmap de Rollbacks: Usuario vs Hora del Día')\n",
        "plt.xlabel('Hora del Día')\n",
        "plt.ylabel('Usuario')\n",
        "plt.show()"
      ],
      "metadata": {
        "colab": {
          "base_uri": "https://localhost:8080/",
          "height": 774
        },
        "id": "N6-N1fv-KO6P",
        "outputId": "9c17ede3-4a99-4d09-99f3-7e7ed0845856"
      },
      "execution_count": 82,
      "outputs": [
        {
          "output_type": "stream",
          "name": "stderr",
          "text": [
            "/usr/local/lib/python3.10/dist-packages/ipykernel/ipkernel.py:283: DeprecationWarning: `should_run_async` will not call `transform_cell` automatically in the future. Please pass the result to `transformed_cell` argument and any exception that happen during thetransform in `preprocessing_exc_tuple` in IPython 7.17 and above.\n",
            "  and should_run_async(code)\n"
          ]
        },
        {
          "output_type": "display_data",
          "data": {
            "text/plain": [
              "<Figure size 1200x800 with 2 Axes>"
            ],
            "image/png": "[encoded data removed]"
          },
          "metadata": {}
        }
      ]
    },
    {
      "cell_type": "code",
      "source": [
        "# Convertir JOTSTP a datetime\n",
        "df['JOTSTP'] = pd.to_datetime(df['JOTSTP'])"
      ],
      "metadata": {
        "colab": {
          "base_uri": "https://localhost:8080/"
        },
        "id": "050lV6wQMbKZ",
        "outputId": "6569f5a9-0f32-4776-f61f-c56694cdb6c8"
      },
      "execution_count": 84,
      "outputs": [
        {
          "output_type": "stream",
          "name": "stderr",
          "text": [
            "/usr/local/lib/python3.10/dist-packages/ipykernel/ipkernel.py:283: DeprecationWarning: `should_run_async` will not call `transform_cell` automatically in the future. Please pass the result to `transformed_cell` argument and any exception that happen during thetransform in `preprocessing_exc_tuple` in IPython 7.17 and above.\n",
            "  and should_run_async(code)\n"
          ]
        }
      ]
    },
    {
      "cell_type": "code",
      "source": [
        "# Ordenar por JOSEQN\n",
        "df = df.sort_values(by='JOSEQN')"
      ],
      "metadata": {
        "colab": {
          "base_uri": "https://localhost:8080/"
        },
        "id": "406Y6hb7Mdqo",
        "outputId": "273f6fa1-0e26-4ec9-cf34-6063bdf5992a"
      },
      "execution_count": 117,
      "outputs": [
        {
          "output_type": "stream",
          "name": "stderr",
          "text": [
            "/usr/local/lib/python3.10/dist-packages/ipykernel/ipkernel.py:283: DeprecationWarning: `should_run_async` will not call `transform_cell` automatically in the future. Please pass the result to `transformed_cell` argument and any exception that happen during thetransform in `preprocessing_exc_tuple` in IPython 7.17 and above.\n",
            "  and should_run_async(code)\n"
          ]
        }
      ]
    },
    {
      "cell_type": "code",
      "source": [
        "# Inicializar una lista para almacenar las filas que cumplen con la condición\n",
        "selected_rows = []"
      ],
      "metadata": {
        "colab": {
          "base_uri": "https://localhost:8080/"
        },
        "id": "suWr0BMzMgB6",
        "outputId": "3fa5474d-9258-4a1d-ed13-b672d4279f23"
      },
      "execution_count": 118,
      "outputs": [
        {
          "output_type": "stream",
          "name": "stderr",
          "text": [
            "/usr/local/lib/python3.10/dist-packages/ipykernel/ipkernel.py:283: DeprecationWarning: `should_run_async` will not call `transform_cell` automatically in the future. Please pass the result to `transformed_cell` argument and any exception that happen during thetransform in `preprocessing_exc_tuple` in IPython 7.17 and above.\n",
            "  and should_run_async(code)\n"
          ]
        }
      ]
    },
    {
      "cell_type": "code",
      "source": [
        "# Iterar a través del DataFrame utilizando iterrows()\n",
        "for i in range(len(df) - 1):\n",
        "    current_row = df.iloc[i]\n",
        "    next_row = df.iloc[i + 1]\n",
        "\n",
        "    # Comprobar si la secuencia es UB seguido de BR o UP seguido de UR\n",
        "    if ((current_row['JOENTT'] == 'UB' and next_row['JOENTT'] == 'BR') or\n",
        "        (current_row['JOENTT'] == 'UP' and next_row['JOENTT'] == 'UR')):\n",
        "\n",
        "        # Calcular la duración entre eventos\n",
        "        duration = next_row['JOTSTP'] - current_row['JOTSTP']\n",
        "\n",
        "        # Crear un nuevo registro con la información deseada\n",
        "        new_row = {\n",
        "            'JOSEQN': current_row['JOSEQN'],\n",
        "            'First_JONTT': current_row['JOENTT'],\n",
        "            'Second_JOENTT': next_row['JOENTT'],\n",
        "            'Duration': duration,\n",
        "            'JOCTRR': current_row['JOCTRR'],\n",
        "            'JOTSTP': current_row['JOTSTP']\n",
        "        }\n",
        "        print(new_row)\n",
        "        # Añadir el nuevo registro a la lista\n",
        "        selected_rows.append(new_row)\n",
        "        print(selected_rows)"
      ],
      "metadata": {
        "colab": {
          "base_uri": "https://localhost:8080/"
        },
        "id": "HSnRLeNFMlX3",
        "outputId": "7cd7aca8-ba89-4b97-e215-41525efbf7a4"
      },
      "execution_count": 119,
      "outputs": [
        {
          "output_type": "stream",
          "name": "stderr",
          "text": [
            "/usr/local/lib/python3.10/dist-packages/ipykernel/ipkernel.py:283: DeprecationWarning: `should_run_async` will not call `transform_cell` automatically in the future. Please pass the result to `transformed_cell` argument and any exception that happen during thetransform in `preprocessing_exc_tuple` in IPython 7.17 and above.\n",
            "  and should_run_async(code)\n"
          ]
        }
      ]
    },
    {
      "cell_type": "code",
      "source": [
        "# Convertir la lista en un nuevo DataFrame\n",
        "result_df = pd.DataFrame(selected_rows)"
      ],
      "metadata": {
        "colab": {
          "base_uri": "https://localhost:8080/"
        },
        "id": "tcqmFDVTMtSW",
        "outputId": "dc6199de-2a6c-4f51-e423-be38b6abdab5"
      },
      "execution_count": 120,
      "outputs": [
        {
          "output_type": "stream",
          "name": "stderr",
          "text": [
            "/usr/local/lib/python3.10/dist-packages/ipykernel/ipkernel.py:283: DeprecationWarning: `should_run_async` will not call `transform_cell` automatically in the future. Please pass the result to `transformed_cell` argument and any exception that happen during thetransform in `preprocessing_exc_tuple` in IPython 7.17 and above.\n",
            "  and should_run_async(code)\n"
          ]
        }
      ]
    },
    {
      "cell_type": "code",
      "source": [
        "# Mostrar el nuevo DataFrame\n",
        "print(result_df.head())"
      ],
      "metadata": {
        "colab": {
          "base_uri": "https://localhost:8080/"
        },
        "id": "MqV2I1DRMvhn",
        "outputId": "5729d074-3ba4-4dbe-e758-60991f389d55"
      },
      "execution_count": 121,
      "outputs": [
        {
          "output_type": "stream",
          "name": "stdout",
          "text": [
            "Empty DataFrame\n",
            "Columns: []\n",
            "Index: []\n"
          ]
        },
        {
          "output_type": "stream",
          "name": "stderr",
          "text": [
            "/usr/local/lib/python3.10/dist-packages/ipykernel/ipkernel.py:283: DeprecationWarning: `should_run_async` will not call `transform_cell` automatically in the future. Please pass the result to `transformed_cell` argument and any exception that happen during thetransform in `preprocessing_exc_tuple` in IPython 7.17 and above.\n",
            "  and should_run_async(code)\n"
          ]
        }
      ]
    },
    {
      "cell_type": "code",
      "source": [
        "# Asegúrate de que la columna de tiempo está en formato datetime\n",
        "df['JOTSTP'] = pd.to_datetime(df['JOTSTP'])"
      ],
      "metadata": {
        "colab": {
          "base_uri": "https://localhost:8080/"
        },
        "id": "PRQNRL58QeJJ",
        "outputId": "8856d1f8-5243-493a-d618-b240d535ea32"
      },
      "execution_count": 107,
      "outputs": [
        {
          "output_type": "stream",
          "name": "stderr",
          "text": [
            "/usr/local/lib/python3.10/dist-packages/ipykernel/ipkernel.py:283: DeprecationWarning: `should_run_async` will not call `transform_cell` automatically in the future. Please pass the result to `transformed_cell` argument and any exception that happen during thetransform in `preprocessing_exc_tuple` in IPython 7.17 and above.\n",
            "  and should_run_async(code)\n"
          ]
        }
      ]
    },
    {
      "cell_type": "code",
      "source": [
        "# Ordenar el DataFrame por JOCTRR y JOTSTP para asegurarnos de que los eventos están en orden\n",
        "df = df.sort_values(by=['JOCTRR', 'JOTSTP'])"
      ],
      "metadata": {
        "colab": {
          "base_uri": "https://localhost:8080/"
        },
        "id": "NfLEgayzQhTo",
        "outputId": "1835364c-20ec-4391-e8bc-e46ce57dc027"
      },
      "execution_count": 122,
      "outputs": [
        {
          "output_type": "stream",
          "name": "stderr",
          "text": [
            "/usr/local/lib/python3.10/dist-packages/ipykernel/ipkernel.py:283: DeprecationWarning: `should_run_async` will not call `transform_cell` automatically in the future. Please pass the result to `transformed_cell` argument and any exception that happen during thetransform in `preprocessing_exc_tuple` in IPython 7.17 and above.\n",
            "  and should_run_async(code)\n"
          ]
        }
      ]
    },
    {
      "cell_type": "code",
      "source": [
        "# Ahora, vamos a crear un nuevo DataFrame para analizar los eventos\n",
        "analysis_df = pd.DataFrame()"
      ],
      "metadata": {
        "colab": {
          "base_uri": "https://localhost:8080/"
        },
        "id": "13hDsb-uQjq6",
        "outputId": "510e9515-a1ef-4c37-f282-cfee2f582657"
      },
      "execution_count": 123,
      "outputs": [
        {
          "output_type": "stream",
          "name": "stderr",
          "text": [
            "/usr/local/lib/python3.10/dist-packages/ipykernel/ipkernel.py:283: DeprecationWarning: `should_run_async` will not call `transform_cell` automatically in the future. Please pass the result to `transformed_cell` argument and any exception that happen during thetransform in `preprocessing_exc_tuple` in IPython 7.17 and above.\n",
            "  and should_run_async(code)\n"
          ]
        }
      ]
    },
    {
      "cell_type": "code",
      "source": [
        "# Iterar sobre cada JOCTRR\n",
        "for joctrr in df['JOCTRR'].unique():\n",
        "    # Filtrar el dataframe por JOCTRR\n",
        "    temp_df = df[df['JOCTRR'] == joctrr]\n",
        "\n",
        "    # Buscar eventos UB seguidos por BR\n",
        "    ub_br_df = temp_df[(temp_df['JOENTT'] == 'UB') | (temp_df['JOENTT'] == 'BR')]\n",
        "    if 'UB' in ub_br_df['JOENTT'].values and 'BR' in ub_br_df['JOENTT'].values:\n",
        "        ub_time = ub_br_df[ub_br_df['JOENTT'] == 'UB']['JOTSTP'].iloc[0]\n",
        "        br_time = ub_br_df[ub_br_df['JOENTT'] == 'BR']['JOTSTP'].iloc[0]\n",
        "        ub_br_duration = br_time - ub_time\n",
        "        # Añadir al DataFrame de análisis\n",
        "        analysis_df = analysis_df.append({'JOCTRR': joctrr, 'Event_Pair': 'UB-BR', 'Duration': ub_br_duration}, ignore_index=True)\n",
        "\n",
        "    # Buscar eventos UP seguidos por UR\n",
        "    up_ur_df = temp_df[(temp_df['JOENTT'] == 'UP') | (temp_df['JOENTT'] == 'UR')]\n",
        "    if 'UP' in up_ur_df['JOENTT'].values and 'UR' in up_ur_df['JOENTT'].values:\n",
        "        up_time = up_ur_df[up_ur_df['JOENTT'] == 'UP']['JOTSTP'].iloc[0]\n",
        "        ur_time = up_ur_df[up_ur_df['JOENTT'] == 'UR']['JOTSTP'].iloc[0]\n",
        "        up_ur_duration = ur_time - up_time\n",
        "        # Añadir al DataFrame de análisis\n",
        "        analysis_df = analysis_df.append({'JOCTRR': joctrr, 'Event_Pair': 'UP-UR', 'Duration': up_ur_duration}, ignore_index=True)"
      ],
      "metadata": {
        "colab": {
          "base_uri": "https://localhost:8080/"
        },
        "id": "Y4LA0kaBQnLq",
        "outputId": "9809e164-70d0-429d-977c-fdde0a2eb9ce"
      },
      "execution_count": 124,
      "outputs": [
        {
          "output_type": "stream",
          "name": "stderr",
          "text": [
            "/usr/local/lib/python3.10/dist-packages/ipykernel/ipkernel.py:283: DeprecationWarning: `should_run_async` will not call `transform_cell` automatically in the future. Please pass the result to `transformed_cell` argument and any exception that happen during thetransform in `preprocessing_exc_tuple` in IPython 7.17 and above.\n",
            "  and should_run_async(code)\n",
            "<ipython-input-124-bb85947dcbe4>:13: FutureWarning: The frame.append method is deprecated and will be removed from pandas in a future version. Use pandas.concat instead.\n",
            "  analysis_df = analysis_df.append({'JOCTRR': joctrr, 'Event_Pair': 'UB-BR', 'Duration': ub_br_duration}, ignore_index=True)\n",
            "<ipython-input-124-bb85947dcbe4>:22: FutureWarning: The frame.append method is deprecated and will be removed from pandas in a future version. Use pandas.concat instead.\n",
            "  analysis_df = analysis_df.append({'JOCTRR': joctrr, 'Event_Pair': 'UP-UR', 'Duration': up_ur_duration}, ignore_index=True)\n",
            "<ipython-input-124-bb85947dcbe4>:13: FutureWarning: The frame.append method is deprecated and will be removed from pandas in a future version. Use pandas.concat instead.\n",
            "  analysis_df = analysis_df.append({'JOCTRR': joctrr, 'Event_Pair': 'UB-BR', 'Duration': ub_br_duration}, ignore_index=True)\n",
            "<ipython-input-124-bb85947dcbe4>:22: FutureWarning: The frame.append method is deprecated and will be removed from pandas in a future version. Use pandas.concat instead.\n",
            "  analysis_df = analysis_df.append({'JOCTRR': joctrr, 'Event_Pair': 'UP-UR', 'Duration': up_ur_duration}, ignore_index=True)\n",
            "<ipython-input-124-bb85947dcbe4>:13: FutureWarning: The frame.append method is deprecated and will be removed from pandas in a future version. Use pandas.concat instead.\n",
            "  analysis_df = analysis_df.append({'JOCTRR': joctrr, 'Event_Pair': 'UB-BR', 'Duration': ub_br_duration}, ignore_index=True)\n",
            "<ipython-input-124-bb85947dcbe4>:22: FutureWarning: The frame.append method is deprecated and will be removed from pandas in a future version. Use pandas.concat instead.\n",
            "  analysis_df = analysis_df.append({'JOCTRR': joctrr, 'Event_Pair': 'UP-UR', 'Duration': up_ur_duration}, ignore_index=True)\n",
            "<ipython-input-124-bb85947dcbe4>:13: FutureWarning: The frame.append method is deprecated and will be removed from pandas in a future version. Use pandas.concat instead.\n",
            "  analysis_df = analysis_df.append({'JOCTRR': joctrr, 'Event_Pair': 'UB-BR', 'Duration': ub_br_duration}, ignore_index=True)\n",
            "<ipython-input-124-bb85947dcbe4>:22: FutureWarning: The frame.append method is deprecated and will be removed from pandas in a future version. Use pandas.concat instead.\n",
            "  analysis_df = analysis_df.append({'JOCTRR': joctrr, 'Event_Pair': 'UP-UR', 'Duration': up_ur_duration}, ignore_index=True)\n",
            "<ipython-input-124-bb85947dcbe4>:13: FutureWarning: The frame.append method is deprecated and will be removed from pandas in a future version. Use pandas.concat instead.\n",
            "  analysis_df = analysis_df.append({'JOCTRR': joctrr, 'Event_Pair': 'UB-BR', 'Duration': ub_br_duration}, ignore_index=True)\n",
            "<ipython-input-124-bb85947dcbe4>:22: FutureWarning: The frame.append method is deprecated and will be removed from pandas in a future version. Use pandas.concat instead.\n",
            "  analysis_df = analysis_df.append({'JOCTRR': joctrr, 'Event_Pair': 'UP-UR', 'Duration': up_ur_duration}, ignore_index=True)\n",
            "<ipython-input-124-bb85947dcbe4>:13: FutureWarning: The frame.append method is deprecated and will be removed from pandas in a future version. Use pandas.concat instead.\n",
            "  analysis_df = analysis_df.append({'JOCTRR': joctrr, 'Event_Pair': 'UB-BR', 'Duration': ub_br_duration}, ignore_index=True)\n",
            "<ipython-input-124-bb85947dcbe4>:22: FutureWarning: The frame.append method is deprecated and will be removed from pandas in a future version. Use pandas.concat instead.\n",
            "  analysis_df = analysis_df.append({'JOCTRR': joctrr, 'Event_Pair': 'UP-UR', 'Duration': up_ur_duration}, ignore_index=True)\n",
            "<ipython-input-124-bb85947dcbe4>:13: FutureWarning: The frame.append method is deprecated and will be removed from pandas in a future version. Use pandas.concat instead.\n",
            "  analysis_df = analysis_df.append({'JOCTRR': joctrr, 'Event_Pair': 'UB-BR', 'Duration': ub_br_duration}, ignore_index=True)\n",
            "<ipython-input-124-bb85947dcbe4>:22: FutureWarning: The frame.append method is deprecated and will be removed from pandas in a future version. Use pandas.concat instead.\n",
            "  analysis_df = analysis_df.append({'JOCTRR': joctrr, 'Event_Pair': 'UP-UR', 'Duration': up_ur_duration}, ignore_index=True)\n",
            "<ipython-input-124-bb85947dcbe4>:13: FutureWarning: The frame.append method is deprecated and will be removed from pandas in a future version. Use pandas.concat instead.\n",
            "  analysis_df = analysis_df.append({'JOCTRR': joctrr, 'Event_Pair': 'UB-BR', 'Duration': ub_br_duration}, ignore_index=True)\n",
            "<ipython-input-124-bb85947dcbe4>:22: FutureWarning: The frame.append method is deprecated and will be removed from pandas in a future version. Use pandas.concat instead.\n",
            "  analysis_df = analysis_df.append({'JOCTRR': joctrr, 'Event_Pair': 'UP-UR', 'Duration': up_ur_duration}, ignore_index=True)\n",
            "<ipython-input-124-bb85947dcbe4>:13: FutureWarning: The frame.append method is deprecated and will be removed from pandas in a future version. Use pandas.concat instead.\n",
            "  analysis_df = analysis_df.append({'JOCTRR': joctrr, 'Event_Pair': 'UB-BR', 'Duration': ub_br_duration}, ignore_index=True)\n",
            "<ipython-input-124-bb85947dcbe4>:22: FutureWarning: The frame.append method is deprecated and will be removed from pandas in a future version. Use pandas.concat instead.\n",
            "  analysis_df = analysis_df.append({'JOCTRR': joctrr, 'Event_Pair': 'UP-UR', 'Duration': up_ur_duration}, ignore_index=True)\n",
            "<ipython-input-124-bb85947dcbe4>:13: FutureWarning: The frame.append method is deprecated and will be removed from pandas in a future version. Use pandas.concat instead.\n",
            "  analysis_df = analysis_df.append({'JOCTRR': joctrr, 'Event_Pair': 'UB-BR', 'Duration': ub_br_duration}, ignore_index=True)\n",
            "<ipython-input-124-bb85947dcbe4>:22: FutureWarning: The frame.append method is deprecated and will be removed from pandas in a future version. Use pandas.concat instead.\n",
            "  analysis_df = analysis_df.append({'JOCTRR': joctrr, 'Event_Pair': 'UP-UR', 'Duration': up_ur_duration}, ignore_index=True)\n",
            "<ipython-input-124-bb85947dcbe4>:13: FutureWarning: The frame.append method is deprecated and will be removed from pandas in a future version. Use pandas.concat instead.\n",
            "  analysis_df = analysis_df.append({'JOCTRR': joctrr, 'Event_Pair': 'UB-BR', 'Duration': ub_br_duration}, ignore_index=True)\n",
            "<ipython-input-124-bb85947dcbe4>:22: FutureWarning: The frame.append method is deprecated and will be removed from pandas in a future version. Use pandas.concat instead.\n",
            "  analysis_df = analysis_df.append({'JOCTRR': joctrr, 'Event_Pair': 'UP-UR', 'Duration': up_ur_duration}, ignore_index=True)\n",
            "<ipython-input-124-bb85947dcbe4>:13: FutureWarning: The frame.append method is deprecated and will be removed from pandas in a future version. Use pandas.concat instead.\n",
            "  analysis_df = analysis_df.append({'JOCTRR': joctrr, 'Event_Pair': 'UB-BR', 'Duration': ub_br_duration}, ignore_index=True)\n",
            "<ipython-input-124-bb85947dcbe4>:22: FutureWarning: The frame.append method is deprecated and will be removed from pandas in a future version. Use pandas.concat instead.\n",
            "  analysis_df = analysis_df.append({'JOCTRR': joctrr, 'Event_Pair': 'UP-UR', 'Duration': up_ur_duration}, ignore_index=True)\n",
            "<ipython-input-124-bb85947dcbe4>:13: FutureWarning: The frame.append method is deprecated and will be removed from pandas in a future version. Use pandas.concat instead.\n",
            "  analysis_df = analysis_df.append({'JOCTRR': joctrr, 'Event_Pair': 'UB-BR', 'Duration': ub_br_duration}, ignore_index=True)\n",
            "<ipython-input-124-bb85947dcbe4>:22: FutureWarning: The frame.append method is deprecated and will be removed from pandas in a future version. Use pandas.concat instead.\n",
            "  analysis_df = analysis_df.append({'JOCTRR': joctrr, 'Event_Pair': 'UP-UR', 'Duration': up_ur_duration}, ignore_index=True)\n",
            "<ipython-input-124-bb85947dcbe4>:13: FutureWarning: The frame.append method is deprecated and will be removed from pandas in a future version. Use pandas.concat instead.\n",
            "  analysis_df = analysis_df.append({'JOCTRR': joctrr, 'Event_Pair': 'UB-BR', 'Duration': ub_br_duration}, ignore_index=True)\n",
            "<ipython-input-124-bb85947dcbe4>:22: FutureWarning: The frame.append method is deprecated and will be removed from pandas in a future version. Use pandas.concat instead.\n",
            "  analysis_df = analysis_df.append({'JOCTRR': joctrr, 'Event_Pair': 'UP-UR', 'Duration': up_ur_duration}, ignore_index=True)\n",
            "<ipython-input-124-bb85947dcbe4>:13: FutureWarning: The frame.append method is deprecated and will be removed from pandas in a future version. Use pandas.concat instead.\n",
            "  analysis_df = analysis_df.append({'JOCTRR': joctrr, 'Event_Pair': 'UB-BR', 'Duration': ub_br_duration}, ignore_index=True)\n",
            "<ipython-input-124-bb85947dcbe4>:22: FutureWarning: The frame.append method is deprecated and will be removed from pandas in a future version. Use pandas.concat instead.\n",
            "  analysis_df = analysis_df.append({'JOCTRR': joctrr, 'Event_Pair': 'UP-UR', 'Duration': up_ur_duration}, ignore_index=True)\n",
            "<ipython-input-124-bb85947dcbe4>:13: FutureWarning: The frame.append method is deprecated and will be removed from pandas in a future version. Use pandas.concat instead.\n",
            "  analysis_df = analysis_df.append({'JOCTRR': joctrr, 'Event_Pair': 'UB-BR', 'Duration': ub_br_duration}, ignore_index=True)\n",
            "<ipython-input-124-bb85947dcbe4>:22: FutureWarning: The frame.append method is deprecated and will be removed from pandas in a future version. Use pandas.concat instead.\n",
            "  analysis_df = analysis_df.append({'JOCTRR': joctrr, 'Event_Pair': 'UP-UR', 'Duration': up_ur_duration}, ignore_index=True)\n",
            "<ipython-input-124-bb85947dcbe4>:13: FutureWarning: The frame.append method is deprecated and will be removed from pandas in a future version. Use pandas.concat instead.\n",
            "  analysis_df = analysis_df.append({'JOCTRR': joctrr, 'Event_Pair': 'UB-BR', 'Duration': ub_br_duration}, ignore_index=True)\n",
            "<ipython-input-124-bb85947dcbe4>:22: FutureWarning: The frame.append method is deprecated and will be removed from pandas in a future version. Use pandas.concat instead.\n",
            "  analysis_df = analysis_df.append({'JOCTRR': joctrr, 'Event_Pair': 'UP-UR', 'Duration': up_ur_duration}, ignore_index=True)\n",
            "<ipython-input-124-bb85947dcbe4>:13: FutureWarning: The frame.append method is deprecated and will be removed from pandas in a future version. Use pandas.concat instead.\n",
            "  analysis_df = analysis_df.append({'JOCTRR': joctrr, 'Event_Pair': 'UB-BR', 'Duration': ub_br_duration}, ignore_index=True)\n",
            "<ipython-input-124-bb85947dcbe4>:22: FutureWarning: The frame.append method is deprecated and will be removed from pandas in a future version. Use pandas.concat instead.\n",
            "  analysis_df = analysis_df.append({'JOCTRR': joctrr, 'Event_Pair': 'UP-UR', 'Duration': up_ur_duration}, ignore_index=True)\n",
            "<ipython-input-124-bb85947dcbe4>:13: FutureWarning: The frame.append method is deprecated and will be removed from pandas in a future version. Use pandas.concat instead.\n",
            "  analysis_df = analysis_df.append({'JOCTRR': joctrr, 'Event_Pair': 'UB-BR', 'Duration': ub_br_duration}, ignore_index=True)\n",
            "<ipython-input-124-bb85947dcbe4>:22: FutureWarning: The frame.append method is deprecated and will be removed from pandas in a future version. Use pandas.concat instead.\n",
            "  analysis_df = analysis_df.append({'JOCTRR': joctrr, 'Event_Pair': 'UP-UR', 'Duration': up_ur_duration}, ignore_index=True)\n",
            "<ipython-input-124-bb85947dcbe4>:13: FutureWarning: The frame.append method is deprecated and will be removed from pandas in a future version. Use pandas.concat instead.\n",
            "  analysis_df = analysis_df.append({'JOCTRR': joctrr, 'Event_Pair': 'UB-BR', 'Duration': ub_br_duration}, ignore_index=True)\n",
            "<ipython-input-124-bb85947dcbe4>:22: FutureWarning: The frame.append method is deprecated and will be removed from pandas in a future version. Use pandas.concat instead.\n",
            "  analysis_df = analysis_df.append({'JOCTRR': joctrr, 'Event_Pair': 'UP-UR', 'Duration': up_ur_duration}, ignore_index=True)\n",
            "<ipython-input-124-bb85947dcbe4>:13: FutureWarning: The frame.append method is deprecated and will be removed from pandas in a future version. Use pandas.concat instead.\n",
            "  analysis_df = analysis_df.append({'JOCTRR': joctrr, 'Event_Pair': 'UB-BR', 'Duration': ub_br_duration}, ignore_index=True)\n",
            "<ipython-input-124-bb85947dcbe4>:22: FutureWarning: The frame.append method is deprecated and will be removed from pandas in a future version. Use pandas.concat instead.\n",
            "  analysis_df = analysis_df.append({'JOCTRR': joctrr, 'Event_Pair': 'UP-UR', 'Duration': up_ur_duration}, ignore_index=True)\n",
            "<ipython-input-124-bb85947dcbe4>:13: FutureWarning: The frame.append method is deprecated and will be removed from pandas in a future version. Use pandas.concat instead.\n",
            "  analysis_df = analysis_df.append({'JOCTRR': joctrr, 'Event_Pair': 'UB-BR', 'Duration': ub_br_duration}, ignore_index=True)\n",
            "<ipython-input-124-bb85947dcbe4>:22: FutureWarning: The frame.append method is deprecated and will be removed from pandas in a future version. Use pandas.concat instead.\n",
            "  analysis_df = analysis_df.append({'JOCTRR': joctrr, 'Event_Pair': 'UP-UR', 'Duration': up_ur_duration}, ignore_index=True)\n",
            "<ipython-input-124-bb85947dcbe4>:13: FutureWarning: The frame.append method is deprecated and will be removed from pandas in a future version. Use pandas.concat instead.\n",
            "  analysis_df = analysis_df.append({'JOCTRR': joctrr, 'Event_Pair': 'UB-BR', 'Duration': ub_br_duration}, ignore_index=True)\n",
            "<ipython-input-124-bb85947dcbe4>:22: FutureWarning: The frame.append method is deprecated and will be removed from pandas in a future version. Use pandas.concat instead.\n",
            "  analysis_df = analysis_df.append({'JOCTRR': joctrr, 'Event_Pair': 'UP-UR', 'Duration': up_ur_duration}, ignore_index=True)\n",
            "<ipython-input-124-bb85947dcbe4>:13: FutureWarning: The frame.append method is deprecated and will be removed from pandas in a future version. Use pandas.concat instead.\n",
            "  analysis_df = analysis_df.append({'JOCTRR': joctrr, 'Event_Pair': 'UB-BR', 'Duration': ub_br_duration}, ignore_index=True)\n",
            "<ipython-input-124-bb85947dcbe4>:22: FutureWarning: The frame.append method is deprecated and will be removed from pandas in a future version. Use pandas.concat instead.\n",
            "  analysis_df = analysis_df.append({'JOCTRR': joctrr, 'Event_Pair': 'UP-UR', 'Duration': up_ur_duration}, ignore_index=True)\n",
            "<ipython-input-124-bb85947dcbe4>:13: FutureWarning: The frame.append method is deprecated and will be removed from pandas in a future version. Use pandas.concat instead.\n",
            "  analysis_df = analysis_df.append({'JOCTRR': joctrr, 'Event_Pair': 'UB-BR', 'Duration': ub_br_duration}, ignore_index=True)\n",
            "<ipython-input-124-bb85947dcbe4>:22: FutureWarning: The frame.append method is deprecated and will be removed from pandas in a future version. Use pandas.concat instead.\n",
            "  analysis_df = analysis_df.append({'JOCTRR': joctrr, 'Event_Pair': 'UP-UR', 'Duration': up_ur_duration}, ignore_index=True)\n",
            "<ipython-input-124-bb85947dcbe4>:13: FutureWarning: The frame.append method is deprecated and will be removed from pandas in a future version. Use pandas.concat instead.\n",
            "  analysis_df = analysis_df.append({'JOCTRR': joctrr, 'Event_Pair': 'UB-BR', 'Duration': ub_br_duration}, ignore_index=True)\n",
            "<ipython-input-124-bb85947dcbe4>:22: FutureWarning: The frame.append method is deprecated and will be removed from pandas in a future version. Use pandas.concat instead.\n",
            "  analysis_df = analysis_df.append({'JOCTRR': joctrr, 'Event_Pair': 'UP-UR', 'Duration': up_ur_duration}, ignore_index=True)\n",
            "<ipython-input-124-bb85947dcbe4>:13: FutureWarning: The frame.append method is deprecated and will be removed from pandas in a future version. Use pandas.concat instead.\n",
            "  analysis_df = analysis_df.append({'JOCTRR': joctrr, 'Event_Pair': 'UB-BR', 'Duration': ub_br_duration}, ignore_index=True)\n",
            "<ipython-input-124-bb85947dcbe4>:22: FutureWarning: The frame.append method is deprecated and will be removed from pandas in a future version. Use pandas.concat instead.\n",
            "  analysis_df = analysis_df.append({'JOCTRR': joctrr, 'Event_Pair': 'UP-UR', 'Duration': up_ur_duration}, ignore_index=True)\n",
            "<ipython-input-124-bb85947dcbe4>:13: FutureWarning: The frame.append method is deprecated and will be removed from pandas in a future version. Use pandas.concat instead.\n",
            "  analysis_df = analysis_df.append({'JOCTRR': joctrr, 'Event_Pair': 'UB-BR', 'Duration': ub_br_duration}, ignore_index=True)\n",
            "<ipython-input-124-bb85947dcbe4>:22: FutureWarning: The frame.append method is deprecated and will be removed from pandas in a future version. Use pandas.concat instead.\n",
            "  analysis_df = analysis_df.append({'JOCTRR': joctrr, 'Event_Pair': 'UP-UR', 'Duration': up_ur_duration}, ignore_index=True)\n",
            "<ipython-input-124-bb85947dcbe4>:13: FutureWarning: The frame.append method is deprecated and will be removed from pandas in a future version. Use pandas.concat instead.\n",
            "  analysis_df = analysis_df.append({'JOCTRR': joctrr, 'Event_Pair': 'UB-BR', 'Duration': ub_br_duration}, ignore_index=True)\n",
            "<ipython-input-124-bb85947dcbe4>:22: FutureWarning: The frame.append method is deprecated and will be removed from pandas in a future version. Use pandas.concat instead.\n",
            "  analysis_df = analysis_df.append({'JOCTRR': joctrr, 'Event_Pair': 'UP-UR', 'Duration': up_ur_duration}, ignore_index=True)\n",
            "<ipython-input-124-bb85947dcbe4>:13: FutureWarning: The frame.append method is deprecated and will be removed from pandas in a future version. Use pandas.concat instead.\n",
            "  analysis_df = analysis_df.append({'JOCTRR': joctrr, 'Event_Pair': 'UB-BR', 'Duration': ub_br_duration}, ignore_index=True)\n",
            "<ipython-input-124-bb85947dcbe4>:22: FutureWarning: The frame.append method is deprecated and will be removed from pandas in a future version. Use pandas.concat instead.\n",
            "  analysis_df = analysis_df.append({'JOCTRR': joctrr, 'Event_Pair': 'UP-UR', 'Duration': up_ur_duration}, ignore_index=True)\n",
            "<ipython-input-124-bb85947dcbe4>:13: FutureWarning: The frame.append method is deprecated and will be removed from pandas in a future version. Use pandas.concat instead.\n",
            "  analysis_df = analysis_df.append({'JOCTRR': joctrr, 'Event_Pair': 'UB-BR', 'Duration': ub_br_duration}, ignore_index=True)\n",
            "<ipython-input-124-bb85947dcbe4>:22: FutureWarning: The frame.append method is deprecated and will be removed from pandas in a future version. Use pandas.concat instead.\n",
            "  analysis_df = analysis_df.append({'JOCTRR': joctrr, 'Event_Pair': 'UP-UR', 'Duration': up_ur_duration}, ignore_index=True)\n",
            "<ipython-input-124-bb85947dcbe4>:13: FutureWarning: The frame.append method is deprecated and will be removed from pandas in a future version. Use pandas.concat instead.\n",
            "  analysis_df = analysis_df.append({'JOCTRR': joctrr, 'Event_Pair': 'UB-BR', 'Duration': ub_br_duration}, ignore_index=True)\n",
            "<ipython-input-124-bb85947dcbe4>:22: FutureWarning: The frame.append method is deprecated and will be removed from pandas in a future version. Use pandas.concat instead.\n",
            "  analysis_df = analysis_df.append({'JOCTRR': joctrr, 'Event_Pair': 'UP-UR', 'Duration': up_ur_duration}, ignore_index=True)\n",
            "<ipython-input-124-bb85947dcbe4>:13: FutureWarning: The frame.append method is deprecated and will be removed from pandas in a future version. Use pandas.concat instead.\n",
            "  analysis_df = analysis_df.append({'JOCTRR': joctrr, 'Event_Pair': 'UB-BR', 'Duration': ub_br_duration}, ignore_index=True)\n",
            "<ipython-input-124-bb85947dcbe4>:22: FutureWarning: The frame.append method is deprecated and will be removed from pandas in a future version. Use pandas.concat instead.\n",
            "  analysis_df = analysis_df.append({'JOCTRR': joctrr, 'Event_Pair': 'UP-UR', 'Duration': up_ur_duration}, ignore_index=True)\n",
            "<ipython-input-124-bb85947dcbe4>:13: FutureWarning: The frame.append method is deprecated and will be removed from pandas in a future version. Use pandas.concat instead.\n",
            "  analysis_df = analysis_df.append({'JOCTRR': joctrr, 'Event_Pair': 'UB-BR', 'Duration': ub_br_duration}, ignore_index=True)\n",
            "<ipython-input-124-bb85947dcbe4>:22: FutureWarning: The frame.append method is deprecated and will be removed from pandas in a future version. Use pandas.concat instead.\n",
            "  analysis_df = analysis_df.append({'JOCTRR': joctrr, 'Event_Pair': 'UP-UR', 'Duration': up_ur_duration}, ignore_index=True)\n",
            "<ipython-input-124-bb85947dcbe4>:13: FutureWarning: The frame.append method is deprecated and will be removed from pandas in a future version. Use pandas.concat instead.\n",
            "  analysis_df = analysis_df.append({'JOCTRR': joctrr, 'Event_Pair': 'UB-BR', 'Duration': ub_br_duration}, ignore_index=True)\n",
            "<ipython-input-124-bb85947dcbe4>:22: FutureWarning: The frame.append method is deprecated and will be removed from pandas in a future version. Use pandas.concat instead.\n",
            "  analysis_df = analysis_df.append({'JOCTRR': joctrr, 'Event_Pair': 'UP-UR', 'Duration': up_ur_duration}, ignore_index=True)\n",
            "<ipython-input-124-bb85947dcbe4>:13: FutureWarning: The frame.append method is deprecated and will be removed from pandas in a future version. Use pandas.concat instead.\n",
            "  analysis_df = analysis_df.append({'JOCTRR': joctrr, 'Event_Pair': 'UB-BR', 'Duration': ub_br_duration}, ignore_index=True)\n",
            "<ipython-input-124-bb85947dcbe4>:22: FutureWarning: The frame.append method is deprecated and will be removed from pandas in a future version. Use pandas.concat instead.\n",
            "  analysis_df = analysis_df.append({'JOCTRR': joctrr, 'Event_Pair': 'UP-UR', 'Duration': up_ur_duration}, ignore_index=True)\n",
            "<ipython-input-124-bb85947dcbe4>:13: FutureWarning: The frame.append method is deprecated and will be removed from pandas in a future version. Use pandas.concat instead.\n",
            "  analysis_df = analysis_df.append({'JOCTRR': joctrr, 'Event_Pair': 'UB-BR', 'Duration': ub_br_duration}, ignore_index=True)\n",
            "<ipython-input-124-bb85947dcbe4>:22: FutureWarning: The frame.append method is deprecated and will be removed from pandas in a future version. Use pandas.concat instead.\n",
            "  analysis_df = analysis_df.append({'JOCTRR': joctrr, 'Event_Pair': 'UP-UR', 'Duration': up_ur_duration}, ignore_index=True)\n",
            "<ipython-input-124-bb85947dcbe4>:13: FutureWarning: The frame.append method is deprecated and will be removed from pandas in a future version. Use pandas.concat instead.\n",
            "  analysis_df = analysis_df.append({'JOCTRR': joctrr, 'Event_Pair': 'UB-BR', 'Duration': ub_br_duration}, ignore_index=True)\n",
            "<ipython-input-124-bb85947dcbe4>:22: FutureWarning: The frame.append method is deprecated and will be removed from pandas in a future version. Use pandas.concat instead.\n",
            "  analysis_df = analysis_df.append({'JOCTRR': joctrr, 'Event_Pair': 'UP-UR', 'Duration': up_ur_duration}, ignore_index=True)\n",
            "<ipython-input-124-bb85947dcbe4>:13: FutureWarning: The frame.append method is deprecated and will be removed from pandas in a future version. Use pandas.concat instead.\n",
            "  analysis_df = analysis_df.append({'JOCTRR': joctrr, 'Event_Pair': 'UB-BR', 'Duration': ub_br_duration}, ignore_index=True)\n",
            "<ipython-input-124-bb85947dcbe4>:22: FutureWarning: The frame.append method is deprecated and will be removed from pandas in a future version. Use pandas.concat instead.\n",
            "  analysis_df = analysis_df.append({'JOCTRR': joctrr, 'Event_Pair': 'UP-UR', 'Duration': up_ur_duration}, ignore_index=True)\n",
            "<ipython-input-124-bb85947dcbe4>:13: FutureWarning: The frame.append method is deprecated and will be removed from pandas in a future version. Use pandas.concat instead.\n",
            "  analysis_df = analysis_df.append({'JOCTRR': joctrr, 'Event_Pair': 'UB-BR', 'Duration': ub_br_duration}, ignore_index=True)\n",
            "<ipython-input-124-bb85947dcbe4>:22: FutureWarning: The frame.append method is deprecated and will be removed from pandas in a future version. Use pandas.concat instead.\n",
            "  analysis_df = analysis_df.append({'JOCTRR': joctrr, 'Event_Pair': 'UP-UR', 'Duration': up_ur_duration}, ignore_index=True)\n",
            "<ipython-input-124-bb85947dcbe4>:13: FutureWarning: The frame.append method is deprecated and will be removed from pandas in a future version. Use pandas.concat instead.\n",
            "  analysis_df = analysis_df.append({'JOCTRR': joctrr, 'Event_Pair': 'UB-BR', 'Duration': ub_br_duration}, ignore_index=True)\n",
            "<ipython-input-124-bb85947dcbe4>:22: FutureWarning: The frame.append method is deprecated and will be removed from pandas in a future version. Use pandas.concat instead.\n",
            "  analysis_df = analysis_df.append({'JOCTRR': joctrr, 'Event_Pair': 'UP-UR', 'Duration': up_ur_duration}, ignore_index=True)\n",
            "<ipython-input-124-bb85947dcbe4>:13: FutureWarning: The frame.append method is deprecated and will be removed from pandas in a future version. Use pandas.concat instead.\n",
            "  analysis_df = analysis_df.append({'JOCTRR': joctrr, 'Event_Pair': 'UB-BR', 'Duration': ub_br_duration}, ignore_index=True)\n",
            "<ipython-input-124-bb85947dcbe4>:22: FutureWarning: The frame.append method is deprecated and will be removed from pandas in a future version. Use pandas.concat instead.\n",
            "  analysis_df = analysis_df.append({'JOCTRR': joctrr, 'Event_Pair': 'UP-UR', 'Duration': up_ur_duration}, ignore_index=True)\n",
            "<ipython-input-124-bb85947dcbe4>:13: FutureWarning: The frame.append method is deprecated and will be removed from pandas in a future version. Use pandas.concat instead.\n",
            "  analysis_df = analysis_df.append({'JOCTRR': joctrr, 'Event_Pair': 'UB-BR', 'Duration': ub_br_duration}, ignore_index=True)\n",
            "<ipython-input-124-bb85947dcbe4>:22: FutureWarning: The frame.append method is deprecated and will be removed from pandas in a future version. Use pandas.concat instead.\n",
            "  analysis_df = analysis_df.append({'JOCTRR': joctrr, 'Event_Pair': 'UP-UR', 'Duration': up_ur_duration}, ignore_index=True)\n",
            "<ipython-input-124-bb85947dcbe4>:13: FutureWarning: The frame.append method is deprecated and will be removed from pandas in a future version. Use pandas.concat instead.\n",
            "  analysis_df = analysis_df.append({'JOCTRR': joctrr, 'Event_Pair': 'UB-BR', 'Duration': ub_br_duration}, ignore_index=True)\n",
            "<ipython-input-124-bb85947dcbe4>:22: FutureWarning: The frame.append method is deprecated and will be removed from pandas in a future version. Use pandas.concat instead.\n",
            "  analysis_df = analysis_df.append({'JOCTRR': joctrr, 'Event_Pair': 'UP-UR', 'Duration': up_ur_duration}, ignore_index=True)\n",
            "<ipython-input-124-bb85947dcbe4>:13: FutureWarning: The frame.append method is deprecated and will be removed from pandas in a future version. Use pandas.concat instead.\n",
            "  analysis_df = analysis_df.append({'JOCTRR': joctrr, 'Event_Pair': 'UB-BR', 'Duration': ub_br_duration}, ignore_index=True)\n",
            "<ipython-input-124-bb85947dcbe4>:22: FutureWarning: The frame.append method is deprecated and will be removed from pandas in a future version. Use pandas.concat instead.\n",
            "  analysis_df = analysis_df.append({'JOCTRR': joctrr, 'Event_Pair': 'UP-UR', 'Duration': up_ur_duration}, ignore_index=True)\n",
            "<ipython-input-124-bb85947dcbe4>:13: FutureWarning: The frame.append method is deprecated and will be removed from pandas in a future version. Use pandas.concat instead.\n",
            "  analysis_df = analysis_df.append({'JOCTRR': joctrr, 'Event_Pair': 'UB-BR', 'Duration': ub_br_duration}, ignore_index=True)\n",
            "<ipython-input-124-bb85947dcbe4>:22: FutureWarning: The frame.append method is deprecated and will be removed from pandas in a future version. Use pandas.concat instead.\n",
            "  analysis_df = analysis_df.append({'JOCTRR': joctrr, 'Event_Pair': 'UP-UR', 'Duration': up_ur_duration}, ignore_index=True)\n",
            "<ipython-input-124-bb85947dcbe4>:13: FutureWarning: The frame.append method is deprecated and will be removed from pandas in a future version. Use pandas.concat instead.\n",
            "  analysis_df = analysis_df.append({'JOCTRR': joctrr, 'Event_Pair': 'UB-BR', 'Duration': ub_br_duration}, ignore_index=True)\n",
            "<ipython-input-124-bb85947dcbe4>:22: FutureWarning: The frame.append method is deprecated and will be removed from pandas in a future version. Use pandas.concat instead.\n",
            "  analysis_df = analysis_df.append({'JOCTRR': joctrr, 'Event_Pair': 'UP-UR', 'Duration': up_ur_duration}, ignore_index=True)\n",
            "<ipython-input-124-bb85947dcbe4>:13: FutureWarning: The frame.append method is deprecated and will be removed from pandas in a future version. Use pandas.concat instead.\n",
            "  analysis_df = analysis_df.append({'JOCTRR': joctrr, 'Event_Pair': 'UB-BR', 'Duration': ub_br_duration}, ignore_index=True)\n",
            "<ipython-input-124-bb85947dcbe4>:22: FutureWarning: The frame.append method is deprecated and will be removed from pandas in a future version. Use pandas.concat instead.\n",
            "  analysis_df = analysis_df.append({'JOCTRR': joctrr, 'Event_Pair': 'UP-UR', 'Duration': up_ur_duration}, ignore_index=True)\n",
            "<ipython-input-124-bb85947dcbe4>:13: FutureWarning: The frame.append method is deprecated and will be removed from pandas in a future version. Use pandas.concat instead.\n",
            "  analysis_df = analysis_df.append({'JOCTRR': joctrr, 'Event_Pair': 'UB-BR', 'Duration': ub_br_duration}, ignore_index=True)\n",
            "<ipython-input-124-bb85947dcbe4>:22: FutureWarning: The frame.append method is deprecated and will be removed from pandas in a future version. Use pandas.concat instead.\n",
            "  analysis_df = analysis_df.append({'JOCTRR': joctrr, 'Event_Pair': 'UP-UR', 'Duration': up_ur_duration}, ignore_index=True)\n",
            "<ipython-input-124-bb85947dcbe4>:13: FutureWarning: The frame.append method is deprecated and will be removed from pandas in a future version. Use pandas.concat instead.\n",
            "  analysis_df = analysis_df.append({'JOCTRR': joctrr, 'Event_Pair': 'UB-BR', 'Duration': ub_br_duration}, ignore_index=True)\n",
            "<ipython-input-124-bb85947dcbe4>:22: FutureWarning: The frame.append method is deprecated and will be removed from pandas in a future version. Use pandas.concat instead.\n",
            "  analysis_df = analysis_df.append({'JOCTRR': joctrr, 'Event_Pair': 'UP-UR', 'Duration': up_ur_duration}, ignore_index=True)\n",
            "<ipython-input-124-bb85947dcbe4>:13: FutureWarning: The frame.append method is deprecated and will be removed from pandas in a future version. Use pandas.concat instead.\n",
            "  analysis_df = analysis_df.append({'JOCTRR': joctrr, 'Event_Pair': 'UB-BR', 'Duration': ub_br_duration}, ignore_index=True)\n",
            "<ipython-input-124-bb85947dcbe4>:22: FutureWarning: The frame.append method is deprecated and will be removed from pandas in a future version. Use pandas.concat instead.\n",
            "  analysis_df = analysis_df.append({'JOCTRR': joctrr, 'Event_Pair': 'UP-UR', 'Duration': up_ur_duration}, ignore_index=True)\n",
            "<ipython-input-124-bb85947dcbe4>:13: FutureWarning: The frame.append method is deprecated and will be removed from pandas in a future version. Use pandas.concat instead.\n",
            "  analysis_df = analysis_df.append({'JOCTRR': joctrr, 'Event_Pair': 'UB-BR', 'Duration': ub_br_duration}, ignore_index=True)\n",
            "<ipython-input-124-bb85947dcbe4>:22: FutureWarning: The frame.append method is deprecated and will be removed from pandas in a future version. Use pandas.concat instead.\n",
            "  analysis_df = analysis_df.append({'JOCTRR': joctrr, 'Event_Pair': 'UP-UR', 'Duration': up_ur_duration}, ignore_index=True)\n",
            "<ipython-input-124-bb85947dcbe4>:13: FutureWarning: The frame.append method is deprecated and will be removed from pandas in a future version. Use pandas.concat instead.\n",
            "  analysis_df = analysis_df.append({'JOCTRR': joctrr, 'Event_Pair': 'UB-BR', 'Duration': ub_br_duration}, ignore_index=True)\n",
            "<ipython-input-124-bb85947dcbe4>:22: FutureWarning: The frame.append method is deprecated and will be removed from pandas in a future version. Use pandas.concat instead.\n",
            "  analysis_df = analysis_df.append({'JOCTRR': joctrr, 'Event_Pair': 'UP-UR', 'Duration': up_ur_duration}, ignore_index=True)\n",
            "<ipython-input-124-bb85947dcbe4>:13: FutureWarning: The frame.append method is deprecated and will be removed from pandas in a future version. Use pandas.concat instead.\n",
            "  analysis_df = analysis_df.append({'JOCTRR': joctrr, 'Event_Pair': 'UB-BR', 'Duration': ub_br_duration}, ignore_index=True)\n",
            "<ipython-input-124-bb85947dcbe4>:22: FutureWarning: The frame.append method is deprecated and will be removed from pandas in a future version. Use pandas.concat instead.\n",
            "  analysis_df = analysis_df.append({'JOCTRR': joctrr, 'Event_Pair': 'UP-UR', 'Duration': up_ur_duration}, ignore_index=True)\n",
            "<ipython-input-124-bb85947dcbe4>:13: FutureWarning: The frame.append method is deprecated and will be removed from pandas in a future version. Use pandas.concat instead.\n",
            "  analysis_df = analysis_df.append({'JOCTRR': joctrr, 'Event_Pair': 'UB-BR', 'Duration': ub_br_duration}, ignore_index=True)\n",
            "<ipython-input-124-bb85947dcbe4>:22: FutureWarning: The frame.append method is deprecated and will be removed from pandas in a future version. Use pandas.concat instead.\n",
            "  analysis_df = analysis_df.append({'JOCTRR': joctrr, 'Event_Pair': 'UP-UR', 'Duration': up_ur_duration}, ignore_index=True)\n",
            "<ipython-input-124-bb85947dcbe4>:13: FutureWarning: The frame.append method is deprecated and will be removed from pandas in a future version. Use pandas.concat instead.\n",
            "  analysis_df = analysis_df.append({'JOCTRR': joctrr, 'Event_Pair': 'UB-BR', 'Duration': ub_br_duration}, ignore_index=True)\n",
            "<ipython-input-124-bb85947dcbe4>:22: FutureWarning: The frame.append method is deprecated and will be removed from pandas in a future version. Use pandas.concat instead.\n",
            "  analysis_df = analysis_df.append({'JOCTRR': joctrr, 'Event_Pair': 'UP-UR', 'Duration': up_ur_duration}, ignore_index=True)\n",
            "<ipython-input-124-bb85947dcbe4>:13: FutureWarning: The frame.append method is deprecated and will be removed from pandas in a future version. Use pandas.concat instead.\n",
            "  analysis_df = analysis_df.append({'JOCTRR': joctrr, 'Event_Pair': 'UB-BR', 'Duration': ub_br_duration}, ignore_index=True)\n",
            "<ipython-input-124-bb85947dcbe4>:22: FutureWarning: The frame.append method is deprecated and will be removed from pandas in a future version. Use pandas.concat instead.\n",
            "  analysis_df = analysis_df.append({'JOCTRR': joctrr, 'Event_Pair': 'UP-UR', 'Duration': up_ur_duration}, ignore_index=True)\n",
            "<ipython-input-124-bb85947dcbe4>:13: FutureWarning: The frame.append method is deprecated and will be removed from pandas in a future version. Use pandas.concat instead.\n",
            "  analysis_df = analysis_df.append({'JOCTRR': joctrr, 'Event_Pair': 'UB-BR', 'Duration': ub_br_duration}, ignore_index=True)\n",
            "<ipython-input-124-bb85947dcbe4>:22: FutureWarning: The frame.append method is deprecated and will be removed from pandas in a future version. Use pandas.concat instead.\n",
            "  analysis_df = analysis_df.append({'JOCTRR': joctrr, 'Event_Pair': 'UP-UR', 'Duration': up_ur_duration}, ignore_index=True)\n",
            "<ipython-input-124-bb85947dcbe4>:13: FutureWarning: The frame.append method is deprecated and will be removed from pandas in a future version. Use pandas.concat instead.\n",
            "  analysis_df = analysis_df.append({'JOCTRR': joctrr, 'Event_Pair': 'UB-BR', 'Duration': ub_br_duration}, ignore_index=True)\n",
            "<ipython-input-124-bb85947dcbe4>:22: FutureWarning: The frame.append method is deprecated and will be removed from pandas in a future version. Use pandas.concat instead.\n",
            "  analysis_df = analysis_df.append({'JOCTRR': joctrr, 'Event_Pair': 'UP-UR', 'Duration': up_ur_duration}, ignore_index=True)\n",
            "<ipython-input-124-bb85947dcbe4>:13: FutureWarning: The frame.append method is deprecated and will be removed from pandas in a future version. Use pandas.concat instead.\n",
            "  analysis_df = analysis_df.append({'JOCTRR': joctrr, 'Event_Pair': 'UB-BR', 'Duration': ub_br_duration}, ignore_index=True)\n",
            "<ipython-input-124-bb85947dcbe4>:22: FutureWarning: The frame.append method is deprecated and will be removed from pandas in a future version. Use pandas.concat instead.\n",
            "  analysis_df = analysis_df.append({'JOCTRR': joctrr, 'Event_Pair': 'UP-UR', 'Duration': up_ur_duration}, ignore_index=True)\n",
            "<ipython-input-124-bb85947dcbe4>:13: FutureWarning: The frame.append method is deprecated and will be removed from pandas in a future version. Use pandas.concat instead.\n",
            "  analysis_df = analysis_df.append({'JOCTRR': joctrr, 'Event_Pair': 'UB-BR', 'Duration': ub_br_duration}, ignore_index=True)\n",
            "<ipython-input-124-bb85947dcbe4>:22: FutureWarning: The frame.append method is deprecated and will be removed from pandas in a future version. Use pandas.concat instead.\n",
            "  analysis_df = analysis_df.append({'JOCTRR': joctrr, 'Event_Pair': 'UP-UR', 'Duration': up_ur_duration}, ignore_index=True)\n",
            "<ipython-input-124-bb85947dcbe4>:13: FutureWarning: The frame.append method is deprecated and will be removed from pandas in a future version. Use pandas.concat instead.\n",
            "  analysis_df = analysis_df.append({'JOCTRR': joctrr, 'Event_Pair': 'UB-BR', 'Duration': ub_br_duration}, ignore_index=True)\n",
            "<ipython-input-124-bb85947dcbe4>:22: FutureWarning: The frame.append method is deprecated and will be removed from pandas in a future version. Use pandas.concat instead.\n",
            "  analysis_df = analysis_df.append({'JOCTRR': joctrr, 'Event_Pair': 'UP-UR', 'Duration': up_ur_duration}, ignore_index=True)\n",
            "<ipython-input-124-bb85947dcbe4>:13: FutureWarning: The frame.append method is deprecated and will be removed from pandas in a future version. Use pandas.concat instead.\n",
            "  analysis_df = analysis_df.append({'JOCTRR': joctrr, 'Event_Pair': 'UB-BR', 'Duration': ub_br_duration}, ignore_index=True)\n",
            "<ipython-input-124-bb85947dcbe4>:22: FutureWarning: The frame.append method is deprecated and will be removed from pandas in a future version. Use pandas.concat instead.\n",
            "  analysis_df = analysis_df.append({'JOCTRR': joctrr, 'Event_Pair': 'UP-UR', 'Duration': up_ur_duration}, ignore_index=True)\n",
            "<ipython-input-124-bb85947dcbe4>:13: FutureWarning: The frame.append method is deprecated and will be removed from pandas in a future version. Use pandas.concat instead.\n",
            "  analysis_df = analysis_df.append({'JOCTRR': joctrr, 'Event_Pair': 'UB-BR', 'Duration': ub_br_duration}, ignore_index=True)\n",
            "<ipython-input-124-bb85947dcbe4>:22: FutureWarning: The frame.append method is deprecated and will be removed from pandas in a future version. Use pandas.concat instead.\n",
            "  analysis_df = analysis_df.append({'JOCTRR': joctrr, 'Event_Pair': 'UP-UR', 'Duration': up_ur_duration}, ignore_index=True)\n",
            "<ipython-input-124-bb85947dcbe4>:13: FutureWarning: The frame.append method is deprecated and will be removed from pandas in a future version. Use pandas.concat instead.\n",
            "  analysis_df = analysis_df.append({'JOCTRR': joctrr, 'Event_Pair': 'UB-BR', 'Duration': ub_br_duration}, ignore_index=True)\n",
            "<ipython-input-124-bb85947dcbe4>:22: FutureWarning: The frame.append method is deprecated and will be removed from pandas in a future version. Use pandas.concat instead.\n",
            "  analysis_df = analysis_df.append({'JOCTRR': joctrr, 'Event_Pair': 'UP-UR', 'Duration': up_ur_duration}, ignore_index=True)\n",
            "<ipython-input-124-bb85947dcbe4>:13: FutureWarning: The frame.append method is deprecated and will be removed from pandas in a future version. Use pandas.concat instead.\n",
            "  analysis_df = analysis_df.append({'JOCTRR': joctrr, 'Event_Pair': 'UB-BR', 'Duration': ub_br_duration}, ignore_index=True)\n",
            "<ipython-input-124-bb85947dcbe4>:22: FutureWarning: The frame.append method is deprecated and will be removed from pandas in a future version. Use pandas.concat instead.\n",
            "  analysis_df = analysis_df.append({'JOCTRR': joctrr, 'Event_Pair': 'UP-UR', 'Duration': up_ur_duration}, ignore_index=True)\n",
            "<ipython-input-124-bb85947dcbe4>:13: FutureWarning: The frame.append method is deprecated and will be removed from pandas in a future version. Use pandas.concat instead.\n",
            "  analysis_df = analysis_df.append({'JOCTRR': joctrr, 'Event_Pair': 'UB-BR', 'Duration': ub_br_duration}, ignore_index=True)\n",
            "<ipython-input-124-bb85947dcbe4>:22: FutureWarning: The frame.append method is deprecated and will be removed from pandas in a future version. Use pandas.concat instead.\n",
            "  analysis_df = analysis_df.append({'JOCTRR': joctrr, 'Event_Pair': 'UP-UR', 'Duration': up_ur_duration}, ignore_index=True)\n",
            "<ipython-input-124-bb85947dcbe4>:13: FutureWarning: The frame.append method is deprecated and will be removed from pandas in a future version. Use pandas.concat instead.\n",
            "  analysis_df = analysis_df.append({'JOCTRR': joctrr, 'Event_Pair': 'UB-BR', 'Duration': ub_br_duration}, ignore_index=True)\n",
            "<ipython-input-124-bb85947dcbe4>:22: FutureWarning: The frame.append method is deprecated and will be removed from pandas in a future version. Use pandas.concat instead.\n",
            "  analysis_df = analysis_df.append({'JOCTRR': joctrr, 'Event_Pair': 'UP-UR', 'Duration': up_ur_duration}, ignore_index=True)\n",
            "<ipython-input-124-bb85947dcbe4>:13: FutureWarning: The frame.append method is deprecated and will be removed from pandas in a future version. Use pandas.concat instead.\n",
            "  analysis_df = analysis_df.append({'JOCTRR': joctrr, 'Event_Pair': 'UB-BR', 'Duration': ub_br_duration}, ignore_index=True)\n",
            "<ipython-input-124-bb85947dcbe4>:22: FutureWarning: The frame.append method is deprecated and will be removed from pandas in a future version. Use pandas.concat instead.\n",
            "  analysis_df = analysis_df.append({'JOCTRR': joctrr, 'Event_Pair': 'UP-UR', 'Duration': up_ur_duration}, ignore_index=True)\n",
            "<ipython-input-124-bb85947dcbe4>:13: FutureWarning: The frame.append method is deprecated and will be removed from pandas in a future version. Use pandas.concat instead.\n",
            "  analysis_df = analysis_df.append({'JOCTRR': joctrr, 'Event_Pair': 'UB-BR', 'Duration': ub_br_duration}, ignore_index=True)\n",
            "<ipython-input-124-bb85947dcbe4>:22: FutureWarning: The frame.append method is deprecated and will be removed from pandas in a future version. Use pandas.concat instead.\n",
            "  analysis_df = analysis_df.append({'JOCTRR': joctrr, 'Event_Pair': 'UP-UR', 'Duration': up_ur_duration}, ignore_index=True)\n",
            "<ipython-input-124-bb85947dcbe4>:13: FutureWarning: The frame.append method is deprecated and will be removed from pandas in a future version. Use pandas.concat instead.\n",
            "  analysis_df = analysis_df.append({'JOCTRR': joctrr, 'Event_Pair': 'UB-BR', 'Duration': ub_br_duration}, ignore_index=True)\n",
            "<ipython-input-124-bb85947dcbe4>:22: FutureWarning: The frame.append method is deprecated and will be removed from pandas in a future version. Use pandas.concat instead.\n",
            "  analysis_df = analysis_df.append({'JOCTRR': joctrr, 'Event_Pair': 'UP-UR', 'Duration': up_ur_duration}, ignore_index=True)\n",
            "<ipython-input-124-bb85947dcbe4>:13: FutureWarning: The frame.append method is deprecated and will be removed from pandas in a future version. Use pandas.concat instead.\n",
            "  analysis_df = analysis_df.append({'JOCTRR': joctrr, 'Event_Pair': 'UB-BR', 'Duration': ub_br_duration}, ignore_index=True)\n",
            "<ipython-input-124-bb85947dcbe4>:22: FutureWarning: The frame.append method is deprecated and will be removed from pandas in a future version. Use pandas.concat instead.\n",
            "  analysis_df = analysis_df.append({'JOCTRR': joctrr, 'Event_Pair': 'UP-UR', 'Duration': up_ur_duration}, ignore_index=True)\n",
            "<ipython-input-124-bb85947dcbe4>:13: FutureWarning: The frame.append method is deprecated and will be removed from pandas in a future version. Use pandas.concat instead.\n",
            "  analysis_df = analysis_df.append({'JOCTRR': joctrr, 'Event_Pair': 'UB-BR', 'Duration': ub_br_duration}, ignore_index=True)\n",
            "<ipython-input-124-bb85947dcbe4>:22: FutureWarning: The frame.append method is deprecated and will be removed from pandas in a future version. Use pandas.concat instead.\n",
            "  analysis_df = analysis_df.append({'JOCTRR': joctrr, 'Event_Pair': 'UP-UR', 'Duration': up_ur_duration}, ignore_index=True)\n",
            "<ipython-input-124-bb85947dcbe4>:13: FutureWarning: The frame.append method is deprecated and will be removed from pandas in a future version. Use pandas.concat instead.\n",
            "  analysis_df = analysis_df.append({'JOCTRR': joctrr, 'Event_Pair': 'UB-BR', 'Duration': ub_br_duration}, ignore_index=True)\n",
            "<ipython-input-124-bb85947dcbe4>:22: FutureWarning: The frame.append method is deprecated and will be removed from pandas in a future version. Use pandas.concat instead.\n",
            "  analysis_df = analysis_df.append({'JOCTRR': joctrr, 'Event_Pair': 'UP-UR', 'Duration': up_ur_duration}, ignore_index=True)\n",
            "<ipython-input-124-bb85947dcbe4>:13: FutureWarning: The frame.append method is deprecated and will be removed from pandas in a future version. Use pandas.concat instead.\n",
            "  analysis_df = analysis_df.append({'JOCTRR': joctrr, 'Event_Pair': 'UB-BR', 'Duration': ub_br_duration}, ignore_index=True)\n",
            "<ipython-input-124-bb85947dcbe4>:22: FutureWarning: The frame.append method is deprecated and will be removed from pandas in a future version. Use pandas.concat instead.\n",
            "  analysis_df = analysis_df.append({'JOCTRR': joctrr, 'Event_Pair': 'UP-UR', 'Duration': up_ur_duration}, ignore_index=True)\n",
            "<ipython-input-124-bb85947dcbe4>:13: FutureWarning: The frame.append method is deprecated and will be removed from pandas in a future version. Use pandas.concat instead.\n",
            "  analysis_df = analysis_df.append({'JOCTRR': joctrr, 'Event_Pair': 'UB-BR', 'Duration': ub_br_duration}, ignore_index=True)\n",
            "<ipython-input-124-bb85947dcbe4>:22: FutureWarning: The frame.append method is deprecated and will be removed from pandas in a future version. Use pandas.concat instead.\n",
            "  analysis_df = analysis_df.append({'JOCTRR': joctrr, 'Event_Pair': 'UP-UR', 'Duration': up_ur_duration}, ignore_index=True)\n",
            "<ipython-input-124-bb85947dcbe4>:13: FutureWarning: The frame.append method is deprecated and will be removed from pandas in a future version. Use pandas.concat instead.\n",
            "  analysis_df = analysis_df.append({'JOCTRR': joctrr, 'Event_Pair': 'UB-BR', 'Duration': ub_br_duration}, ignore_index=True)\n",
            "<ipython-input-124-bb85947dcbe4>:22: FutureWarning: The frame.append method is deprecated and will be removed from pandas in a future version. Use pandas.concat instead.\n",
            "  analysis_df = analysis_df.append({'JOCTRR': joctrr, 'Event_Pair': 'UP-UR', 'Duration': up_ur_duration}, ignore_index=True)\n",
            "<ipython-input-124-bb85947dcbe4>:13: FutureWarning: The frame.append method is deprecated and will be removed from pandas in a future version. Use pandas.concat instead.\n",
            "  analysis_df = analysis_df.append({'JOCTRR': joctrr, 'Event_Pair': 'UB-BR', 'Duration': ub_br_duration}, ignore_index=True)\n",
            "<ipython-input-124-bb85947dcbe4>:22: FutureWarning: The frame.append method is deprecated and will be removed from pandas in a future version. Use pandas.concat instead.\n",
            "  analysis_df = analysis_df.append({'JOCTRR': joctrr, 'Event_Pair': 'UP-UR', 'Duration': up_ur_duration}, ignore_index=True)\n",
            "<ipython-input-124-bb85947dcbe4>:13: FutureWarning: The frame.append method is deprecated and will be removed from pandas in a future version. Use pandas.concat instead.\n",
            "  analysis_df = analysis_df.append({'JOCTRR': joctrr, 'Event_Pair': 'UB-BR', 'Duration': ub_br_duration}, ignore_index=True)\n",
            "<ipython-input-124-bb85947dcbe4>:22: FutureWarning: The frame.append method is deprecated and will be removed from pandas in a future version. Use pandas.concat instead.\n",
            "  analysis_df = analysis_df.append({'JOCTRR': joctrr, 'Event_Pair': 'UP-UR', 'Duration': up_ur_duration}, ignore_index=True)\n",
            "<ipython-input-124-bb85947dcbe4>:13: FutureWarning: The frame.append method is deprecated and will be removed from pandas in a future version. Use pandas.concat instead.\n",
            "  analysis_df = analysis_df.append({'JOCTRR': joctrr, 'Event_Pair': 'UB-BR', 'Duration': ub_br_duration}, ignore_index=True)\n",
            "<ipython-input-124-bb85947dcbe4>:22: FutureWarning: The frame.append method is deprecated and will be removed from pandas in a future version. Use pandas.concat instead.\n",
            "  analysis_df = analysis_df.append({'JOCTRR': joctrr, 'Event_Pair': 'UP-UR', 'Duration': up_ur_duration}, ignore_index=True)\n",
            "<ipython-input-124-bb85947dcbe4>:13: FutureWarning: The frame.append method is deprecated and will be removed from pandas in a future version. Use pandas.concat instead.\n",
            "  analysis_df = analysis_df.append({'JOCTRR': joctrr, 'Event_Pair': 'UB-BR', 'Duration': ub_br_duration}, ignore_index=True)\n",
            "<ipython-input-124-bb85947dcbe4>:22: FutureWarning: The frame.append method is deprecated and will be removed from pandas in a future version. Use pandas.concat instead.\n",
            "  analysis_df = analysis_df.append({'JOCTRR': joctrr, 'Event_Pair': 'UP-UR', 'Duration': up_ur_duration}, ignore_index=True)\n",
            "<ipython-input-124-bb85947dcbe4>:13: FutureWarning: The frame.append method is deprecated and will be removed from pandas in a future version. Use pandas.concat instead.\n",
            "  analysis_df = analysis_df.append({'JOCTRR': joctrr, 'Event_Pair': 'UB-BR', 'Duration': ub_br_duration}, ignore_index=True)\n",
            "<ipython-input-124-bb85947dcbe4>:22: FutureWarning: The frame.append method is deprecated and will be removed from pandas in a future version. Use pandas.concat instead.\n",
            "  analysis_df = analysis_df.append({'JOCTRR': joctrr, 'Event_Pair': 'UP-UR', 'Duration': up_ur_duration}, ignore_index=True)\n",
            "<ipython-input-124-bb85947dcbe4>:13: FutureWarning: The frame.append method is deprecated and will be removed from pandas in a future version. Use pandas.concat instead.\n",
            "  analysis_df = analysis_df.append({'JOCTRR': joctrr, 'Event_Pair': 'UB-BR', 'Duration': ub_br_duration}, ignore_index=True)\n",
            "<ipython-input-124-bb85947dcbe4>:22: FutureWarning: The frame.append method is deprecated and will be removed from pandas in a future version. Use pandas.concat instead.\n",
            "  analysis_df = analysis_df.append({'JOCTRR': joctrr, 'Event_Pair': 'UP-UR', 'Duration': up_ur_duration}, ignore_index=True)\n",
            "<ipython-input-124-bb85947dcbe4>:13: FutureWarning: The frame.append method is deprecated and will be removed from pandas in a future version. Use pandas.concat instead.\n",
            "  analysis_df = analysis_df.append({'JOCTRR': joctrr, 'Event_Pair': 'UB-BR', 'Duration': ub_br_duration}, ignore_index=True)\n",
            "<ipython-input-124-bb85947dcbe4>:22: FutureWarning: The frame.append method is deprecated and will be removed from pandas in a future version. Use pandas.concat instead.\n",
            "  analysis_df = analysis_df.append({'JOCTRR': joctrr, 'Event_Pair': 'UP-UR', 'Duration': up_ur_duration}, ignore_index=True)\n",
            "<ipython-input-124-bb85947dcbe4>:13: FutureWarning: The frame.append method is deprecated and will be removed from pandas in a future version. Use pandas.concat instead.\n",
            "  analysis_df = analysis_df.append({'JOCTRR': joctrr, 'Event_Pair': 'UB-BR', 'Duration': ub_br_duration}, ignore_index=True)\n",
            "<ipython-input-124-bb85947dcbe4>:22: FutureWarning: The frame.append method is deprecated and will be removed from pandas in a future version. Use pandas.concat instead.\n",
            "  analysis_df = analysis_df.append({'JOCTRR': joctrr, 'Event_Pair': 'UP-UR', 'Duration': up_ur_duration}, ignore_index=True)\n",
            "<ipython-input-124-bb85947dcbe4>:13: FutureWarning: The frame.append method is deprecated and will be removed from pandas in a future version. Use pandas.concat instead.\n",
            "  analysis_df = analysis_df.append({'JOCTRR': joctrr, 'Event_Pair': 'UB-BR', 'Duration': ub_br_duration}, ignore_index=True)\n",
            "<ipython-input-124-bb85947dcbe4>:22: FutureWarning: The frame.append method is deprecated and will be removed from pandas in a future version. Use pandas.concat instead.\n",
            "  analysis_df = analysis_df.append({'JOCTRR': joctrr, 'Event_Pair': 'UP-UR', 'Duration': up_ur_duration}, ignore_index=True)\n",
            "<ipython-input-124-bb85947dcbe4>:13: FutureWarning: The frame.append method is deprecated and will be removed from pandas in a future version. Use pandas.concat instead.\n",
            "  analysis_df = analysis_df.append({'JOCTRR': joctrr, 'Event_Pair': 'UB-BR', 'Duration': ub_br_duration}, ignore_index=True)\n",
            "<ipython-input-124-bb85947dcbe4>:22: FutureWarning: The frame.append method is deprecated and will be removed from pandas in a future version. Use pandas.concat instead.\n",
            "  analysis_df = analysis_df.append({'JOCTRR': joctrr, 'Event_Pair': 'UP-UR', 'Duration': up_ur_duration}, ignore_index=True)\n",
            "<ipython-input-124-bb85947dcbe4>:13: FutureWarning: The frame.append method is deprecated and will be removed from pandas in a future version. Use pandas.concat instead.\n",
            "  analysis_df = analysis_df.append({'JOCTRR': joctrr, 'Event_Pair': 'UB-BR', 'Duration': ub_br_duration}, ignore_index=True)\n",
            "<ipython-input-124-bb85947dcbe4>:22: FutureWarning: The frame.append method is deprecated and will be removed from pandas in a future version. Use pandas.concat instead.\n",
            "  analysis_df = analysis_df.append({'JOCTRR': joctrr, 'Event_Pair': 'UP-UR', 'Duration': up_ur_duration}, ignore_index=True)\n",
            "<ipython-input-124-bb85947dcbe4>:13: FutureWarning: The frame.append method is deprecated and will be removed from pandas in a future version. Use pandas.concat instead.\n",
            "  analysis_df = analysis_df.append({'JOCTRR': joctrr, 'Event_Pair': 'UB-BR', 'Duration': ub_br_duration}, ignore_index=True)\n",
            "<ipython-input-124-bb85947dcbe4>:22: FutureWarning: The frame.append method is deprecated and will be removed from pandas in a future version. Use pandas.concat instead.\n",
            "  analysis_df = analysis_df.append({'JOCTRR': joctrr, 'Event_Pair': 'UP-UR', 'Duration': up_ur_duration}, ignore_index=True)\n",
            "<ipython-input-124-bb85947dcbe4>:13: FutureWarning: The frame.append method is deprecated and will be removed from pandas in a future version. Use pandas.concat instead.\n",
            "  analysis_df = analysis_df.append({'JOCTRR': joctrr, 'Event_Pair': 'UB-BR', 'Duration': ub_br_duration}, ignore_index=True)\n",
            "<ipython-input-124-bb85947dcbe4>:22: FutureWarning: The frame.append method is deprecated and will be removed from pandas in a future version. Use pandas.concat instead.\n",
            "  analysis_df = analysis_df.append({'JOCTRR': joctrr, 'Event_Pair': 'UP-UR', 'Duration': up_ur_duration}, ignore_index=True)\n",
            "<ipython-input-124-bb85947dcbe4>:13: FutureWarning: The frame.append method is deprecated and will be removed from pandas in a future version. Use pandas.concat instead.\n",
            "  analysis_df = analysis_df.append({'JOCTRR': joctrr, 'Event_Pair': 'UB-BR', 'Duration': ub_br_duration}, ignore_index=True)\n",
            "<ipython-input-124-bb85947dcbe4>:22: FutureWarning: The frame.append method is deprecated and will be removed from pandas in a future version. Use pandas.concat instead.\n",
            "  analysis_df = analysis_df.append({'JOCTRR': joctrr, 'Event_Pair': 'UP-UR', 'Duration': up_ur_duration}, ignore_index=True)\n",
            "<ipython-input-124-bb85947dcbe4>:13: FutureWarning: The frame.append method is deprecated and will be removed from pandas in a future version. Use pandas.concat instead.\n",
            "  analysis_df = analysis_df.append({'JOCTRR': joctrr, 'Event_Pair': 'UB-BR', 'Duration': ub_br_duration}, ignore_index=True)\n",
            "<ipython-input-124-bb85947dcbe4>:22: FutureWarning: The frame.append method is deprecated and will be removed from pandas in a future version. Use pandas.concat instead.\n",
            "  analysis_df = analysis_df.append({'JOCTRR': joctrr, 'Event_Pair': 'UP-UR', 'Duration': up_ur_duration}, ignore_index=True)\n",
            "<ipython-input-124-bb85947dcbe4>:13: FutureWarning: The frame.append method is deprecated and will be removed from pandas in a future version. Use pandas.concat instead.\n",
            "  analysis_df = analysis_df.append({'JOCTRR': joctrr, 'Event_Pair': 'UB-BR', 'Duration': ub_br_duration}, ignore_index=True)\n",
            "<ipython-input-124-bb85947dcbe4>:22: FutureWarning: The frame.append method is deprecated and will be removed from pandas in a future version. Use pandas.concat instead.\n",
            "  analysis_df = analysis_df.append({'JOCTRR': joctrr, 'Event_Pair': 'UP-UR', 'Duration': up_ur_duration}, ignore_index=True)\n",
            "<ipython-input-124-bb85947dcbe4>:13: FutureWarning: The frame.append method is deprecated and will be removed from pandas in a future version. Use pandas.concat instead.\n",
            "  analysis_df = analysis_df.append({'JOCTRR': joctrr, 'Event_Pair': 'UB-BR', 'Duration': ub_br_duration}, ignore_index=True)\n",
            "<ipython-input-124-bb85947dcbe4>:22: FutureWarning: The frame.append method is deprecated and will be removed from pandas in a future version. Use pandas.concat instead.\n",
            "  analysis_df = analysis_df.append({'JOCTRR': joctrr, 'Event_Pair': 'UP-UR', 'Duration': up_ur_duration}, ignore_index=True)\n",
            "<ipython-input-124-bb85947dcbe4>:13: FutureWarning: The frame.append method is deprecated and will be removed from pandas in a future version. Use pandas.concat instead.\n",
            "  analysis_df = analysis_df.append({'JOCTRR': joctrr, 'Event_Pair': 'UB-BR', 'Duration': ub_br_duration}, ignore_index=True)\n",
            "<ipython-input-124-bb85947dcbe4>:22: FutureWarning: The frame.append method is deprecated and will be removed from pandas in a future version. Use pandas.concat instead.\n",
            "  analysis_df = analysis_df.append({'JOCTRR': joctrr, 'Event_Pair': 'UP-UR', 'Duration': up_ur_duration}, ignore_index=True)\n",
            "<ipython-input-124-bb85947dcbe4>:13: FutureWarning: The frame.append method is deprecated and will be removed from pandas in a future version. Use pandas.concat instead.\n",
            "  analysis_df = analysis_df.append({'JOCTRR': joctrr, 'Event_Pair': 'UB-BR', 'Duration': ub_br_duration}, ignore_index=True)\n",
            "<ipython-input-124-bb85947dcbe4>:22: FutureWarning: The frame.append method is deprecated and will be removed from pandas in a future version. Use pandas.concat instead.\n",
            "  analysis_df = analysis_df.append({'JOCTRR': joctrr, 'Event_Pair': 'UP-UR', 'Duration': up_ur_duration}, ignore_index=True)\n",
            "<ipython-input-124-bb85947dcbe4>:13: FutureWarning: The frame.append method is deprecated and will be removed from pandas in a future version. Use pandas.concat instead.\n",
            "  analysis_df = analysis_df.append({'JOCTRR': joctrr, 'Event_Pair': 'UB-BR', 'Duration': ub_br_duration}, ignore_index=True)\n",
            "<ipython-input-124-bb85947dcbe4>:22: FutureWarning: The frame.append method is deprecated and will be removed from pandas in a future version. Use pandas.concat instead.\n",
            "  analysis_df = analysis_df.append({'JOCTRR': joctrr, 'Event_Pair': 'UP-UR', 'Duration': up_ur_duration}, ignore_index=True)\n",
            "<ipython-input-124-bb85947dcbe4>:13: FutureWarning: The frame.append method is deprecated and will be removed from pandas in a future version. Use pandas.concat instead.\n",
            "  analysis_df = analysis_df.append({'JOCTRR': joctrr, 'Event_Pair': 'UB-BR', 'Duration': ub_br_duration}, ignore_index=True)\n",
            "<ipython-input-124-bb85947dcbe4>:22: FutureWarning: The frame.append method is deprecated and will be removed from pandas in a future version. Use pandas.concat instead.\n",
            "  analysis_df = analysis_df.append({'JOCTRR': joctrr, 'Event_Pair': 'UP-UR', 'Duration': up_ur_duration}, ignore_index=True)\n",
            "<ipython-input-124-bb85947dcbe4>:13: FutureWarning: The frame.append method is deprecated and will be removed from pandas in a future version. Use pandas.concat instead.\n",
            "  analysis_df = analysis_df.append({'JOCTRR': joctrr, 'Event_Pair': 'UB-BR', 'Duration': ub_br_duration}, ignore_index=True)\n",
            "<ipython-input-124-bb85947dcbe4>:22: FutureWarning: The frame.append method is deprecated and will be removed from pandas in a future version. Use pandas.concat instead.\n",
            "  analysis_df = analysis_df.append({'JOCTRR': joctrr, 'Event_Pair': 'UP-UR', 'Duration': up_ur_duration}, ignore_index=True)\n",
            "<ipython-input-124-bb85947dcbe4>:13: FutureWarning: The frame.append method is deprecated and will be removed from pandas in a future version. Use pandas.concat instead.\n",
            "  analysis_df = analysis_df.append({'JOCTRR': joctrr, 'Event_Pair': 'UB-BR', 'Duration': ub_br_duration}, ignore_index=True)\n",
            "<ipython-input-124-bb85947dcbe4>:22: FutureWarning: The frame.append method is deprecated and will be removed from pandas in a future version. Use pandas.concat instead.\n",
            "  analysis_df = analysis_df.append({'JOCTRR': joctrr, 'Event_Pair': 'UP-UR', 'Duration': up_ur_duration}, ignore_index=True)\n",
            "<ipython-input-124-bb85947dcbe4>:13: FutureWarning: The frame.append method is deprecated and will be removed from pandas in a future version. Use pandas.concat instead.\n",
            "  analysis_df = analysis_df.append({'JOCTRR': joctrr, 'Event_Pair': 'UB-BR', 'Duration': ub_br_duration}, ignore_index=True)\n",
            "<ipython-input-124-bb85947dcbe4>:22: FutureWarning: The frame.append method is deprecated and will be removed from pandas in a future version. Use pandas.concat instead.\n",
            "  analysis_df = analysis_df.append({'JOCTRR': joctrr, 'Event_Pair': 'UP-UR', 'Duration': up_ur_duration}, ignore_index=True)\n",
            "<ipython-input-124-bb85947dcbe4>:13: FutureWarning: The frame.append method is deprecated and will be removed from pandas in a future version. Use pandas.concat instead.\n",
            "  analysis_df = analysis_df.append({'JOCTRR': joctrr, 'Event_Pair': 'UB-BR', 'Duration': ub_br_duration}, ignore_index=True)\n",
            "<ipython-input-124-bb85947dcbe4>:22: FutureWarning: The frame.append method is deprecated and will be removed from pandas in a future version. Use pandas.concat instead.\n",
            "  analysis_df = analysis_df.append({'JOCTRR': joctrr, 'Event_Pair': 'UP-UR', 'Duration': up_ur_duration}, ignore_index=True)\n",
            "<ipython-input-124-bb85947dcbe4>:13: FutureWarning: The frame.append method is deprecated and will be removed from pandas in a future version. Use pandas.concat instead.\n",
            "  analysis_df = analysis_df.append({'JOCTRR': joctrr, 'Event_Pair': 'UB-BR', 'Duration': ub_br_duration}, ignore_index=True)\n",
            "<ipython-input-124-bb85947dcbe4>:22: FutureWarning: The frame.append method is deprecated and will be removed from pandas in a future version. Use pandas.concat instead.\n",
            "  analysis_df = analysis_df.append({'JOCTRR': joctrr, 'Event_Pair': 'UP-UR', 'Duration': up_ur_duration}, ignore_index=True)\n",
            "<ipython-input-124-bb85947dcbe4>:13: FutureWarning: The frame.append method is deprecated and will be removed from pandas in a future version. Use pandas.concat instead.\n",
            "  analysis_df = analysis_df.append({'JOCTRR': joctrr, 'Event_Pair': 'UB-BR', 'Duration': ub_br_duration}, ignore_index=True)\n",
            "<ipython-input-124-bb85947dcbe4>:22: FutureWarning: The frame.append method is deprecated and will be removed from pandas in a future version. Use pandas.concat instead.\n",
            "  analysis_df = analysis_df.append({'JOCTRR': joctrr, 'Event_Pair': 'UP-UR', 'Duration': up_ur_duration}, ignore_index=True)\n",
            "<ipython-input-124-bb85947dcbe4>:13: FutureWarning: The frame.append method is deprecated and will be removed from pandas in a future version. Use pandas.concat instead.\n",
            "  analysis_df = analysis_df.append({'JOCTRR': joctrr, 'Event_Pair': 'UB-BR', 'Duration': ub_br_duration}, ignore_index=True)\n",
            "<ipython-input-124-bb85947dcbe4>:22: FutureWarning: The frame.append method is deprecated and will be removed from pandas in a future version. Use pandas.concat instead.\n",
            "  analysis_df = analysis_df.append({'JOCTRR': joctrr, 'Event_Pair': 'UP-UR', 'Duration': up_ur_duration}, ignore_index=True)\n",
            "<ipython-input-124-bb85947dcbe4>:13: FutureWarning: The frame.append method is deprecated and will be removed from pandas in a future version. Use pandas.concat instead.\n",
            "  analysis_df = analysis_df.append({'JOCTRR': joctrr, 'Event_Pair': 'UB-BR', 'Duration': ub_br_duration}, ignore_index=True)\n",
            "<ipython-input-124-bb85947dcbe4>:22: FutureWarning: The frame.append method is deprecated and will be removed from pandas in a future version. Use pandas.concat instead.\n",
            "  analysis_df = analysis_df.append({'JOCTRR': joctrr, 'Event_Pair': 'UP-UR', 'Duration': up_ur_duration}, ignore_index=True)\n",
            "<ipython-input-124-bb85947dcbe4>:13: FutureWarning: The frame.append method is deprecated and will be removed from pandas in a future version. Use pandas.concat instead.\n",
            "  analysis_df = analysis_df.append({'JOCTRR': joctrr, 'Event_Pair': 'UB-BR', 'Duration': ub_br_duration}, ignore_index=True)\n",
            "<ipython-input-124-bb85947dcbe4>:22: FutureWarning: The frame.append method is deprecated and will be removed from pandas in a future version. Use pandas.concat instead.\n",
            "  analysis_df = analysis_df.append({'JOCTRR': joctrr, 'Event_Pair': 'UP-UR', 'Duration': up_ur_duration}, ignore_index=True)\n",
            "<ipython-input-124-bb85947dcbe4>:13: FutureWarning: The frame.append method is deprecated and will be removed from pandas in a future version. Use pandas.concat instead.\n",
            "  analysis_df = analysis_df.append({'JOCTRR': joctrr, 'Event_Pair': 'UB-BR', 'Duration': ub_br_duration}, ignore_index=True)\n",
            "<ipython-input-124-bb85947dcbe4>:22: FutureWarning: The frame.append method is deprecated and will be removed from pandas in a future version. Use pandas.concat instead.\n",
            "  analysis_df = analysis_df.append({'JOCTRR': joctrr, 'Event_Pair': 'UP-UR', 'Duration': up_ur_duration}, ignore_index=True)\n",
            "<ipython-input-124-bb85947dcbe4>:13: FutureWarning: The frame.append method is deprecated and will be removed from pandas in a future version. Use pandas.concat instead.\n",
            "  analysis_df = analysis_df.append({'JOCTRR': joctrr, 'Event_Pair': 'UB-BR', 'Duration': ub_br_duration}, ignore_index=True)\n",
            "<ipython-input-124-bb85947dcbe4>:22: FutureWarning: The frame.append method is deprecated and will be removed from pandas in a future version. Use pandas.concat instead.\n",
            "  analysis_df = analysis_df.append({'JOCTRR': joctrr, 'Event_Pair': 'UP-UR', 'Duration': up_ur_duration}, ignore_index=True)\n",
            "<ipython-input-124-bb85947dcbe4>:13: FutureWarning: The frame.append method is deprecated and will be removed from pandas in a future version. Use pandas.concat instead.\n",
            "  analysis_df = analysis_df.append({'JOCTRR': joctrr, 'Event_Pair': 'UB-BR', 'Duration': ub_br_duration}, ignore_index=True)\n",
            "<ipython-input-124-bb85947dcbe4>:22: FutureWarning: The frame.append method is deprecated and will be removed from pandas in a future version. Use pandas.concat instead.\n",
            "  analysis_df = analysis_df.append({'JOCTRR': joctrr, 'Event_Pair': 'UP-UR', 'Duration': up_ur_duration}, ignore_index=True)\n",
            "<ipython-input-124-bb85947dcbe4>:13: FutureWarning: The frame.append method is deprecated and will be removed from pandas in a future version. Use pandas.concat instead.\n",
            "  analysis_df = analysis_df.append({'JOCTRR': joctrr, 'Event_Pair': 'UB-BR', 'Duration': ub_br_duration}, ignore_index=True)\n",
            "<ipython-input-124-bb85947dcbe4>:22: FutureWarning: The frame.append method is deprecated and will be removed from pandas in a future version. Use pandas.concat instead.\n",
            "  analysis_df = analysis_df.append({'JOCTRR': joctrr, 'Event_Pair': 'UP-UR', 'Duration': up_ur_duration}, ignore_index=True)\n",
            "<ipython-input-124-bb85947dcbe4>:13: FutureWarning: The frame.append method is deprecated and will be removed from pandas in a future version. Use pandas.concat instead.\n",
            "  analysis_df = analysis_df.append({'JOCTRR': joctrr, 'Event_Pair': 'UB-BR', 'Duration': ub_br_duration}, ignore_index=True)\n",
            "<ipython-input-124-bb85947dcbe4>:22: FutureWarning: The frame.append method is deprecated and will be removed from pandas in a future version. Use pandas.concat instead.\n",
            "  analysis_df = analysis_df.append({'JOCTRR': joctrr, 'Event_Pair': 'UP-UR', 'Duration': up_ur_duration}, ignore_index=True)\n",
            "<ipython-input-124-bb85947dcbe4>:13: FutureWarning: The frame.append method is deprecated and will be removed from pandas in a future version. Use pandas.concat instead.\n",
            "  analysis_df = analysis_df.append({'JOCTRR': joctrr, 'Event_Pair': 'UB-BR', 'Duration': ub_br_duration}, ignore_index=True)\n",
            "<ipython-input-124-bb85947dcbe4>:22: FutureWarning: The frame.append method is deprecated and will be removed from pandas in a future version. Use pandas.concat instead.\n",
            "  analysis_df = analysis_df.append({'JOCTRR': joctrr, 'Event_Pair': 'UP-UR', 'Duration': up_ur_duration}, ignore_index=True)\n",
            "<ipython-input-124-bb85947dcbe4>:13: FutureWarning: The frame.append method is deprecated and will be removed from pandas in a future version. Use pandas.concat instead.\n",
            "  analysis_df = analysis_df.append({'JOCTRR': joctrr, 'Event_Pair': 'UB-BR', 'Duration': ub_br_duration}, ignore_index=True)\n",
            "<ipython-input-124-bb85947dcbe4>:22: FutureWarning: The frame.append method is deprecated and will be removed from pandas in a future version. Use pandas.concat instead.\n",
            "  analysis_df = analysis_df.append({'JOCTRR': joctrr, 'Event_Pair': 'UP-UR', 'Duration': up_ur_duration}, ignore_index=True)\n",
            "<ipython-input-124-bb85947dcbe4>:13: FutureWarning: The frame.append method is deprecated and will be removed from pandas in a future version. Use pandas.concat instead.\n",
            "  analysis_df = analysis_df.append({'JOCTRR': joctrr, 'Event_Pair': 'UB-BR', 'Duration': ub_br_duration}, ignore_index=True)\n",
            "<ipython-input-124-bb85947dcbe4>:22: FutureWarning: The frame.append method is deprecated and will be removed from pandas in a future version. Use pandas.concat instead.\n",
            "  analysis_df = analysis_df.append({'JOCTRR': joctrr, 'Event_Pair': 'UP-UR', 'Duration': up_ur_duration}, ignore_index=True)\n",
            "<ipython-input-124-bb85947dcbe4>:13: FutureWarning: The frame.append method is deprecated and will be removed from pandas in a future version. Use pandas.concat instead.\n",
            "  analysis_df = analysis_df.append({'JOCTRR': joctrr, 'Event_Pair': 'UB-BR', 'Duration': ub_br_duration}, ignore_index=True)\n",
            "<ipython-input-124-bb85947dcbe4>:22: FutureWarning: The frame.append method is deprecated and will be removed from pandas in a future version. Use pandas.concat instead.\n",
            "  analysis_df = analysis_df.append({'JOCTRR': joctrr, 'Event_Pair': 'UP-UR', 'Duration': up_ur_duration}, ignore_index=True)\n",
            "<ipython-input-124-bb85947dcbe4>:13: FutureWarning: The frame.append method is deprecated and will be removed from pandas in a future version. Use pandas.concat instead.\n",
            "  analysis_df = analysis_df.append({'JOCTRR': joctrr, 'Event_Pair': 'UB-BR', 'Duration': ub_br_duration}, ignore_index=True)\n",
            "<ipython-input-124-bb85947dcbe4>:22: FutureWarning: The frame.append method is deprecated and will be removed from pandas in a future version. Use pandas.concat instead.\n",
            "  analysis_df = analysis_df.append({'JOCTRR': joctrr, 'Event_Pair': 'UP-UR', 'Duration': up_ur_duration}, ignore_index=True)\n",
            "<ipython-input-124-bb85947dcbe4>:13: FutureWarning: The frame.append method is deprecated and will be removed from pandas in a future version. Use pandas.concat instead.\n",
            "  analysis_df = analysis_df.append({'JOCTRR': joctrr, 'Event_Pair': 'UB-BR', 'Duration': ub_br_duration}, ignore_index=True)\n",
            "<ipython-input-124-bb85947dcbe4>:22: FutureWarning: The frame.append method is deprecated and will be removed from pandas in a future version. Use pandas.concat instead.\n",
            "  analysis_df = analysis_df.append({'JOCTRR': joctrr, 'Event_Pair': 'UP-UR', 'Duration': up_ur_duration}, ignore_index=True)\n",
            "<ipython-input-124-bb85947dcbe4>:13: FutureWarning: The frame.append method is deprecated and will be removed from pandas in a future version. Use pandas.concat instead.\n",
            "  analysis_df = analysis_df.append({'JOCTRR': joctrr, 'Event_Pair': 'UB-BR', 'Duration': ub_br_duration}, ignore_index=True)\n",
            "<ipython-input-124-bb85947dcbe4>:22: FutureWarning: The frame.append method is deprecated and will be removed from pandas in a future version. Use pandas.concat instead.\n",
            "  analysis_df = analysis_df.append({'JOCTRR': joctrr, 'Event_Pair': 'UP-UR', 'Duration': up_ur_duration}, ignore_index=True)\n",
            "<ipython-input-124-bb85947dcbe4>:13: FutureWarning: The frame.append method is deprecated and will be removed from pandas in a future version. Use pandas.concat instead.\n",
            "  analysis_df = analysis_df.append({'JOCTRR': joctrr, 'Event_Pair': 'UB-BR', 'Duration': ub_br_duration}, ignore_index=True)\n",
            "<ipython-input-124-bb85947dcbe4>:22: FutureWarning: The frame.append method is deprecated and will be removed from pandas in a future version. Use pandas.concat instead.\n",
            "  analysis_df = analysis_df.append({'JOCTRR': joctrr, 'Event_Pair': 'UP-UR', 'Duration': up_ur_duration}, ignore_index=True)\n",
            "<ipython-input-124-bb85947dcbe4>:13: FutureWarning: The frame.append method is deprecated and will be removed from pandas in a future version. Use pandas.concat instead.\n",
            "  analysis_df = analysis_df.append({'JOCTRR': joctrr, 'Event_Pair': 'UB-BR', 'Duration': ub_br_duration}, ignore_index=True)\n",
            "<ipython-input-124-bb85947dcbe4>:22: FutureWarning: The frame.append method is deprecated and will be removed from pandas in a future version. Use pandas.concat instead.\n",
            "  analysis_df = analysis_df.append({'JOCTRR': joctrr, 'Event_Pair': 'UP-UR', 'Duration': up_ur_duration}, ignore_index=True)\n",
            "<ipython-input-124-bb85947dcbe4>:13: FutureWarning: The frame.append method is deprecated and will be removed from pandas in a future version. Use pandas.concat instead.\n",
            "  analysis_df = analysis_df.append({'JOCTRR': joctrr, 'Event_Pair': 'UB-BR', 'Duration': ub_br_duration}, ignore_index=True)\n",
            "<ipython-input-124-bb85947dcbe4>:22: FutureWarning: The frame.append method is deprecated and will be removed from pandas in a future version. Use pandas.concat instead.\n",
            "  analysis_df = analysis_df.append({'JOCTRR': joctrr, 'Event_Pair': 'UP-UR', 'Duration': up_ur_duration}, ignore_index=True)\n",
            "<ipython-input-124-bb85947dcbe4>:13: FutureWarning: The frame.append method is deprecated and will be removed from pandas in a future version. Use pandas.concat instead.\n",
            "  analysis_df = analysis_df.append({'JOCTRR': joctrr, 'Event_Pair': 'UB-BR', 'Duration': ub_br_duration}, ignore_index=True)\n",
            "<ipython-input-124-bb85947dcbe4>:22: FutureWarning: The frame.append method is deprecated and will be removed from pandas in a future version. Use pandas.concat instead.\n",
            "  analysis_df = analysis_df.append({'JOCTRR': joctrr, 'Event_Pair': 'UP-UR', 'Duration': up_ur_duration}, ignore_index=True)\n",
            "<ipython-input-124-bb85947dcbe4>:13: FutureWarning: The frame.append method is deprecated and will be removed from pandas in a future version. Use pandas.concat instead.\n",
            "  analysis_df = analysis_df.append({'JOCTRR': joctrr, 'Event_Pair': 'UB-BR', 'Duration': ub_br_duration}, ignore_index=True)\n",
            "<ipython-input-124-bb85947dcbe4>:22: FutureWarning: The frame.append method is deprecated and will be removed from pandas in a future version. Use pandas.concat instead.\n",
            "  analysis_df = analysis_df.append({'JOCTRR': joctrr, 'Event_Pair': 'UP-UR', 'Duration': up_ur_duration}, ignore_index=True)\n",
            "<ipython-input-124-bb85947dcbe4>:13: FutureWarning: The frame.append method is deprecated and will be removed from pandas in a future version. Use pandas.concat instead.\n",
            "  analysis_df = analysis_df.append({'JOCTRR': joctrr, 'Event_Pair': 'UB-BR', 'Duration': ub_br_duration}, ignore_index=True)\n",
            "<ipython-input-124-bb85947dcbe4>:22: FutureWarning: The frame.append method is deprecated and will be removed from pandas in a future version. Use pandas.concat instead.\n",
            "  analysis_df = analysis_df.append({'JOCTRR': joctrr, 'Event_Pair': 'UP-UR', 'Duration': up_ur_duration}, ignore_index=True)\n",
            "<ipython-input-124-bb85947dcbe4>:13: FutureWarning: The frame.append method is deprecated and will be removed from pandas in a future version. Use pandas.concat instead.\n",
            "  analysis_df = analysis_df.append({'JOCTRR': joctrr, 'Event_Pair': 'UB-BR', 'Duration': ub_br_duration}, ignore_index=True)\n",
            "<ipython-input-124-bb85947dcbe4>:22: FutureWarning: The frame.append method is deprecated and will be removed from pandas in a future version. Use pandas.concat instead.\n",
            "  analysis_df = analysis_df.append({'JOCTRR': joctrr, 'Event_Pair': 'UP-UR', 'Duration': up_ur_duration}, ignore_index=True)\n",
            "<ipython-input-124-bb85947dcbe4>:13: FutureWarning: The frame.append method is deprecated and will be removed from pandas in a future version. Use pandas.concat instead.\n",
            "  analysis_df = analysis_df.append({'JOCTRR': joctrr, 'Event_Pair': 'UB-BR', 'Duration': ub_br_duration}, ignore_index=True)\n",
            "<ipython-input-124-bb85947dcbe4>:22: FutureWarning: The frame.append method is deprecated and will be removed from pandas in a future version. Use pandas.concat instead.\n",
            "  analysis_df = analysis_df.append({'JOCTRR': joctrr, 'Event_Pair': 'UP-UR', 'Duration': up_ur_duration}, ignore_index=True)\n",
            "<ipython-input-124-bb85947dcbe4>:13: FutureWarning: The frame.append method is deprecated and will be removed from pandas in a future version. Use pandas.concat instead.\n",
            "  analysis_df = analysis_df.append({'JOCTRR': joctrr, 'Event_Pair': 'UB-BR', 'Duration': ub_br_duration}, ignore_index=True)\n",
            "<ipython-input-124-bb85947dcbe4>:22: FutureWarning: The frame.append method is deprecated and will be removed from pandas in a future version. Use pandas.concat instead.\n",
            "  analysis_df = analysis_df.append({'JOCTRR': joctrr, 'Event_Pair': 'UP-UR', 'Duration': up_ur_duration}, ignore_index=True)\n",
            "<ipython-input-124-bb85947dcbe4>:13: FutureWarning: The frame.append method is deprecated and will be removed from pandas in a future version. Use pandas.concat instead.\n",
            "  analysis_df = analysis_df.append({'JOCTRR': joctrr, 'Event_Pair': 'UB-BR', 'Duration': ub_br_duration}, ignore_index=True)\n",
            "<ipython-input-124-bb85947dcbe4>:22: FutureWarning: The frame.append method is deprecated and will be removed from pandas in a future version. Use pandas.concat instead.\n",
            "  analysis_df = analysis_df.append({'JOCTRR': joctrr, 'Event_Pair': 'UP-UR', 'Duration': up_ur_duration}, ignore_index=True)\n",
            "<ipython-input-124-bb85947dcbe4>:13: FutureWarning: The frame.append method is deprecated and will be removed from pandas in a future version. Use pandas.concat instead.\n",
            "  analysis_df = analysis_df.append({'JOCTRR': joctrr, 'Event_Pair': 'UB-BR', 'Duration': ub_br_duration}, ignore_index=True)\n",
            "<ipython-input-124-bb85947dcbe4>:22: FutureWarning: The frame.append method is deprecated and will be removed from pandas in a future version. Use pandas.concat instead.\n",
            "  analysis_df = analysis_df.append({'JOCTRR': joctrr, 'Event_Pair': 'UP-UR', 'Duration': up_ur_duration}, ignore_index=True)\n",
            "<ipython-input-124-bb85947dcbe4>:13: FutureWarning: The frame.append method is deprecated and will be removed from pandas in a future version. Use pandas.concat instead.\n",
            "  analysis_df = analysis_df.append({'JOCTRR': joctrr, 'Event_Pair': 'UB-BR', 'Duration': ub_br_duration}, ignore_index=True)\n",
            "<ipython-input-124-bb85947dcbe4>:22: FutureWarning: The frame.append method is deprecated and will be removed from pandas in a future version. Use pandas.concat instead.\n",
            "  analysis_df = analysis_df.append({'JOCTRR': joctrr, 'Event_Pair': 'UP-UR', 'Duration': up_ur_duration}, ignore_index=True)\n",
            "<ipython-input-124-bb85947dcbe4>:13: FutureWarning: The frame.append method is deprecated and will be removed from pandas in a future version. Use pandas.concat instead.\n",
            "  analysis_df = analysis_df.append({'JOCTRR': joctrr, 'Event_Pair': 'UB-BR', 'Duration': ub_br_duration}, ignore_index=True)\n",
            "<ipython-input-124-bb85947dcbe4>:22: FutureWarning: The frame.append method is deprecated and will be removed from pandas in a future version. Use pandas.concat instead.\n",
            "  analysis_df = analysis_df.append({'JOCTRR': joctrr, 'Event_Pair': 'UP-UR', 'Duration': up_ur_duration}, ignore_index=True)\n",
            "<ipython-input-124-bb85947dcbe4>:13: FutureWarning: The frame.append method is deprecated and will be removed from pandas in a future version. Use pandas.concat instead.\n",
            "  analysis_df = analysis_df.append({'JOCTRR': joctrr, 'Event_Pair': 'UB-BR', 'Duration': ub_br_duration}, ignore_index=True)\n",
            "<ipython-input-124-bb85947dcbe4>:22: FutureWarning: The frame.append method is deprecated and will be removed from pandas in a future version. Use pandas.concat instead.\n",
            "  analysis_df = analysis_df.append({'JOCTRR': joctrr, 'Event_Pair': 'UP-UR', 'Duration': up_ur_duration}, ignore_index=True)\n",
            "<ipython-input-124-bb85947dcbe4>:13: FutureWarning: The frame.append method is deprecated and will be removed from pandas in a future version. Use pandas.concat instead.\n",
            "  analysis_df = analysis_df.append({'JOCTRR': joctrr, 'Event_Pair': 'UB-BR', 'Duration': ub_br_duration}, ignore_index=True)\n",
            "<ipython-input-124-bb85947dcbe4>:22: FutureWarning: The frame.append method is deprecated and will be removed from pandas in a future version. Use pandas.concat instead.\n",
            "  analysis_df = analysis_df.append({'JOCTRR': joctrr, 'Event_Pair': 'UP-UR', 'Duration': up_ur_duration}, ignore_index=True)\n",
            "<ipython-input-124-bb85947dcbe4>:13: FutureWarning: The frame.append method is deprecated and will be removed from pandas in a future version. Use pandas.concat instead.\n",
            "  analysis_df = analysis_df.append({'JOCTRR': joctrr, 'Event_Pair': 'UB-BR', 'Duration': ub_br_duration}, ignore_index=True)\n",
            "<ipython-input-124-bb85947dcbe4>:22: FutureWarning: The frame.append method is deprecated and will be removed from pandas in a future version. Use pandas.concat instead.\n",
            "  analysis_df = analysis_df.append({'JOCTRR': joctrr, 'Event_Pair': 'UP-UR', 'Duration': up_ur_duration}, ignore_index=True)\n",
            "<ipython-input-124-bb85947dcbe4>:13: FutureWarning: The frame.append method is deprecated and will be removed from pandas in a future version. Use pandas.concat instead.\n",
            "  analysis_df = analysis_df.append({'JOCTRR': joctrr, 'Event_Pair': 'UB-BR', 'Duration': ub_br_duration}, ignore_index=True)\n",
            "<ipython-input-124-bb85947dcbe4>:22: FutureWarning: The frame.append method is deprecated and will be removed from pandas in a future version. Use pandas.concat instead.\n",
            "  analysis_df = analysis_df.append({'JOCTRR': joctrr, 'Event_Pair': 'UP-UR', 'Duration': up_ur_duration}, ignore_index=True)\n",
            "<ipython-input-124-bb85947dcbe4>:13: FutureWarning: The frame.append method is deprecated and will be removed from pandas in a future version. Use pandas.concat instead.\n",
            "  analysis_df = analysis_df.append({'JOCTRR': joctrr, 'Event_Pair': 'UB-BR', 'Duration': ub_br_duration}, ignore_index=True)\n",
            "<ipython-input-124-bb85947dcbe4>:22: FutureWarning: The frame.append method is deprecated and will be removed from pandas in a future version. Use pandas.concat instead.\n",
            "  analysis_df = analysis_df.append({'JOCTRR': joctrr, 'Event_Pair': 'UP-UR', 'Duration': up_ur_duration}, ignore_index=True)\n",
            "<ipython-input-124-bb85947dcbe4>:13: FutureWarning: The frame.append method is deprecated and will be removed from pandas in a future version. Use pandas.concat instead.\n",
            "  analysis_df = analysis_df.append({'JOCTRR': joctrr, 'Event_Pair': 'UB-BR', 'Duration': ub_br_duration}, ignore_index=True)\n",
            "<ipython-input-124-bb85947dcbe4>:22: FutureWarning: The frame.append method is deprecated and will be removed from pandas in a future version. Use pandas.concat instead.\n",
            "  analysis_df = analysis_df.append({'JOCTRR': joctrr, 'Event_Pair': 'UP-UR', 'Duration': up_ur_duration}, ignore_index=True)\n",
            "<ipython-input-124-bb85947dcbe4>:13: FutureWarning: The frame.append method is deprecated and will be removed from pandas in a future version. Use pandas.concat instead.\n",
            "  analysis_df = analysis_df.append({'JOCTRR': joctrr, 'Event_Pair': 'UB-BR', 'Duration': ub_br_duration}, ignore_index=True)\n",
            "<ipython-input-124-bb85947dcbe4>:22: FutureWarning: The frame.append method is deprecated and will be removed from pandas in a future version. Use pandas.concat instead.\n",
            "  analysis_df = analysis_df.append({'JOCTRR': joctrr, 'Event_Pair': 'UP-UR', 'Duration': up_ur_duration}, ignore_index=True)\n",
            "<ipython-input-124-bb85947dcbe4>:13: FutureWarning: The frame.append method is deprecated and will be removed from pandas in a future version. Use pandas.concat instead.\n",
            "  analysis_df = analysis_df.append({'JOCTRR': joctrr, 'Event_Pair': 'UB-BR', 'Duration': ub_br_duration}, ignore_index=True)\n",
            "<ipython-input-124-bb85947dcbe4>:22: FutureWarning: The frame.append method is deprecated and will be removed from pandas in a future version. Use pandas.concat instead.\n",
            "  analysis_df = analysis_df.append({'JOCTRR': joctrr, 'Event_Pair': 'UP-UR', 'Duration': up_ur_duration}, ignore_index=True)\n",
            "<ipython-input-124-bb85947dcbe4>:13: FutureWarning: The frame.append method is deprecated and will be removed from pandas in a future version. Use pandas.concat instead.\n",
            "  analysis_df = analysis_df.append({'JOCTRR': joctrr, 'Event_Pair': 'UB-BR', 'Duration': ub_br_duration}, ignore_index=True)\n",
            "<ipython-input-124-bb85947dcbe4>:22: FutureWarning: The frame.append method is deprecated and will be removed from pandas in a future version. Use pandas.concat instead.\n",
            "  analysis_df = analysis_df.append({'JOCTRR': joctrr, 'Event_Pair': 'UP-UR', 'Duration': up_ur_duration}, ignore_index=True)\n",
            "<ipython-input-124-bb85947dcbe4>:13: FutureWarning: The frame.append method is deprecated and will be removed from pandas in a future version. Use pandas.concat instead.\n",
            "  analysis_df = analysis_df.append({'JOCTRR': joctrr, 'Event_Pair': 'UB-BR', 'Duration': ub_br_duration}, ignore_index=True)\n",
            "<ipython-input-124-bb85947dcbe4>:22: FutureWarning: The frame.append method is deprecated and will be removed from pandas in a future version. Use pandas.concat instead.\n",
            "  analysis_df = analysis_df.append({'JOCTRR': joctrr, 'Event_Pair': 'UP-UR', 'Duration': up_ur_duration}, ignore_index=True)\n",
            "<ipython-input-124-bb85947dcbe4>:13: FutureWarning: The frame.append method is deprecated and will be removed from pandas in a future version. Use pandas.concat instead.\n",
            "  analysis_df = analysis_df.append({'JOCTRR': joctrr, 'Event_Pair': 'UB-BR', 'Duration': ub_br_duration}, ignore_index=True)\n",
            "<ipython-input-124-bb85947dcbe4>:22: FutureWarning: The frame.append method is deprecated and will be removed from pandas in a future version. Use pandas.concat instead.\n",
            "  analysis_df = analysis_df.append({'JOCTRR': joctrr, 'Event_Pair': 'UP-UR', 'Duration': up_ur_duration}, ignore_index=True)\n",
            "<ipython-input-124-bb85947dcbe4>:13: FutureWarning: The frame.append method is deprecated and will be removed from pandas in a future version. Use pandas.concat instead.\n",
            "  analysis_df = analysis_df.append({'JOCTRR': joctrr, 'Event_Pair': 'UB-BR', 'Duration': ub_br_duration}, ignore_index=True)\n",
            "<ipython-input-124-bb85947dcbe4>:22: FutureWarning: The frame.append method is deprecated and will be removed from pandas in a future version. Use pandas.concat instead.\n",
            "  analysis_df = analysis_df.append({'JOCTRR': joctrr, 'Event_Pair': 'UP-UR', 'Duration': up_ur_duration}, ignore_index=True)\n",
            "<ipython-input-124-bb85947dcbe4>:13: FutureWarning: The frame.append method is deprecated and will be removed from pandas in a future version. Use pandas.concat instead.\n",
            "  analysis_df = analysis_df.append({'JOCTRR': joctrr, 'Event_Pair': 'UB-BR', 'Duration': ub_br_duration}, ignore_index=True)\n",
            "<ipython-input-124-bb85947dcbe4>:22: FutureWarning: The frame.append method is deprecated and will be removed from pandas in a future version. Use pandas.concat instead.\n",
            "  analysis_df = analysis_df.append({'JOCTRR': joctrr, 'Event_Pair': 'UP-UR', 'Duration': up_ur_duration}, ignore_index=True)\n",
            "<ipython-input-124-bb85947dcbe4>:13: FutureWarning: The frame.append method is deprecated and will be removed from pandas in a future version. Use pandas.concat instead.\n",
            "  analysis_df = analysis_df.append({'JOCTRR': joctrr, 'Event_Pair': 'UB-BR', 'Duration': ub_br_duration}, ignore_index=True)\n",
            "<ipython-input-124-bb85947dcbe4>:22: FutureWarning: The frame.append method is deprecated and will be removed from pandas in a future version. Use pandas.concat instead.\n",
            "  analysis_df = analysis_df.append({'JOCTRR': joctrr, 'Event_Pair': 'UP-UR', 'Duration': up_ur_duration}, ignore_index=True)\n",
            "<ipython-input-124-bb85947dcbe4>:13: FutureWarning: The frame.append method is deprecated and will be removed from pandas in a future version. Use pandas.concat instead.\n",
            "  analysis_df = analysis_df.append({'JOCTRR': joctrr, 'Event_Pair': 'UB-BR', 'Duration': ub_br_duration}, ignore_index=True)\n",
            "<ipython-input-124-bb85947dcbe4>:22: FutureWarning: The frame.append method is deprecated and will be removed from pandas in a future version. Use pandas.concat instead.\n",
            "  analysis_df = analysis_df.append({'JOCTRR': joctrr, 'Event_Pair': 'UP-UR', 'Duration': up_ur_duration}, ignore_index=True)\n",
            "<ipython-input-124-bb85947dcbe4>:13: FutureWarning: The frame.append method is deprecated and will be removed from pandas in a future version. Use pandas.concat instead.\n",
            "  analysis_df = analysis_df.append({'JOCTRR': joctrr, 'Event_Pair': 'UB-BR', 'Duration': ub_br_duration}, ignore_index=True)\n",
            "<ipython-input-124-bb85947dcbe4>:22: FutureWarning: The frame.append method is deprecated and will be removed from pandas in a future version. Use pandas.concat instead.\n",
            "  analysis_df = analysis_df.append({'JOCTRR': joctrr, 'Event_Pair': 'UP-UR', 'Duration': up_ur_duration}, ignore_index=True)\n",
            "<ipython-input-124-bb85947dcbe4>:13: FutureWarning: The frame.append method is deprecated and will be removed from pandas in a future version. Use pandas.concat instead.\n",
            "  analysis_df = analysis_df.append({'JOCTRR': joctrr, 'Event_Pair': 'UB-BR', 'Duration': ub_br_duration}, ignore_index=True)\n",
            "<ipython-input-124-bb85947dcbe4>:22: FutureWarning: The frame.append method is deprecated and will be removed from pandas in a future version. Use pandas.concat instead.\n",
            "  analysis_df = analysis_df.append({'JOCTRR': joctrr, 'Event_Pair': 'UP-UR', 'Duration': up_ur_duration}, ignore_index=True)\n",
            "<ipython-input-124-bb85947dcbe4>:13: FutureWarning: The frame.append method is deprecated and will be removed from pandas in a future version. Use pandas.concat instead.\n",
            "  analysis_df = analysis_df.append({'JOCTRR': joctrr, 'Event_Pair': 'UB-BR', 'Duration': ub_br_duration}, ignore_index=True)\n",
            "<ipython-input-124-bb85947dcbe4>:22: FutureWarning: The frame.append method is deprecated and will be removed from pandas in a future version. Use pandas.concat instead.\n",
            "  analysis_df = analysis_df.append({'JOCTRR': joctrr, 'Event_Pair': 'UP-UR', 'Duration': up_ur_duration}, ignore_index=True)\n",
            "<ipython-input-124-bb85947dcbe4>:13: FutureWarning: The frame.append method is deprecated and will be removed from pandas in a future version. Use pandas.concat instead.\n",
            "  analysis_df = analysis_df.append({'JOCTRR': joctrr, 'Event_Pair': 'UB-BR', 'Duration': ub_br_duration}, ignore_index=True)\n",
            "<ipython-input-124-bb85947dcbe4>:22: FutureWarning: The frame.append method is deprecated and will be removed from pandas in a future version. Use pandas.concat instead.\n",
            "  analysis_df = analysis_df.append({'JOCTRR': joctrr, 'Event_Pair': 'UP-UR', 'Duration': up_ur_duration}, ignore_index=True)\n",
            "<ipython-input-124-bb85947dcbe4>:13: FutureWarning: The frame.append method is deprecated and will be removed from pandas in a future version. Use pandas.concat instead.\n",
            "  analysis_df = analysis_df.append({'JOCTRR': joctrr, 'Event_Pair': 'UB-BR', 'Duration': ub_br_duration}, ignore_index=True)\n",
            "<ipython-input-124-bb85947dcbe4>:22: FutureWarning: The frame.append method is deprecated and will be removed from pandas in a future version. Use pandas.concat instead.\n",
            "  analysis_df = analysis_df.append({'JOCTRR': joctrr, 'Event_Pair': 'UP-UR', 'Duration': up_ur_duration}, ignore_index=True)\n",
            "<ipython-input-124-bb85947dcbe4>:13: FutureWarning: The frame.append method is deprecated and will be removed from pandas in a future version. Use pandas.concat instead.\n",
            "  analysis_df = analysis_df.append({'JOCTRR': joctrr, 'Event_Pair': 'UB-BR', 'Duration': ub_br_duration}, ignore_index=True)\n",
            "<ipython-input-124-bb85947dcbe4>:22: FutureWarning: The frame.append method is deprecated and will be removed from pandas in a future version. Use pandas.concat instead.\n",
            "  analysis_df = analysis_df.append({'JOCTRR': joctrr, 'Event_Pair': 'UP-UR', 'Duration': up_ur_duration}, ignore_index=True)\n",
            "<ipython-input-124-bb85947dcbe4>:13: FutureWarning: The frame.append method is deprecated and will be removed from pandas in a future version. Use pandas.concat instead.\n",
            "  analysis_df = analysis_df.append({'JOCTRR': joctrr, 'Event_Pair': 'UB-BR', 'Duration': ub_br_duration}, ignore_index=True)\n",
            "<ipython-input-124-bb85947dcbe4>:22: FutureWarning: The frame.append method is deprecated and will be removed from pandas in a future version. Use pandas.concat instead.\n",
            "  analysis_df = analysis_df.append({'JOCTRR': joctrr, 'Event_Pair': 'UP-UR', 'Duration': up_ur_duration}, ignore_index=True)\n",
            "<ipython-input-124-bb85947dcbe4>:13: FutureWarning: The frame.append method is deprecated and will be removed from pandas in a future version. Use pandas.concat instead.\n",
            "  analysis_df = analysis_df.append({'JOCTRR': joctrr, 'Event_Pair': 'UB-BR', 'Duration': ub_br_duration}, ignore_index=True)\n",
            "<ipython-input-124-bb85947dcbe4>:22: FutureWarning: The frame.append method is deprecated and will be removed from pandas in a future version. Use pandas.concat instead.\n",
            "  analysis_df = analysis_df.append({'JOCTRR': joctrr, 'Event_Pair': 'UP-UR', 'Duration': up_ur_duration}, ignore_index=True)\n",
            "<ipython-input-124-bb85947dcbe4>:13: FutureWarning: The frame.append method is deprecated and will be removed from pandas in a future version. Use pandas.concat instead.\n",
            "  analysis_df = analysis_df.append({'JOCTRR': joctrr, 'Event_Pair': 'UB-BR', 'Duration': ub_br_duration}, ignore_index=True)\n",
            "<ipython-input-124-bb85947dcbe4>:22: FutureWarning: The frame.append method is deprecated and will be removed from pandas in a future version. Use pandas.concat instead.\n",
            "  analysis_df = analysis_df.append({'JOCTRR': joctrr, 'Event_Pair': 'UP-UR', 'Duration': up_ur_duration}, ignore_index=True)\n",
            "<ipython-input-124-bb85947dcbe4>:13: FutureWarning: The frame.append method is deprecated and will be removed from pandas in a future version. Use pandas.concat instead.\n",
            "  analysis_df = analysis_df.append({'JOCTRR': joctrr, 'Event_Pair': 'UB-BR', 'Duration': ub_br_duration}, ignore_index=True)\n",
            "<ipython-input-124-bb85947dcbe4>:22: FutureWarning: The frame.append method is deprecated and will be removed from pandas in a future version. Use pandas.concat instead.\n",
            "  analysis_df = analysis_df.append({'JOCTRR': joctrr, 'Event_Pair': 'UP-UR', 'Duration': up_ur_duration}, ignore_index=True)\n",
            "<ipython-input-124-bb85947dcbe4>:13: FutureWarning: The frame.append method is deprecated and will be removed from pandas in a future version. Use pandas.concat instead.\n",
            "  analysis_df = analysis_df.append({'JOCTRR': joctrr, 'Event_Pair': 'UB-BR', 'Duration': ub_br_duration}, ignore_index=True)\n",
            "<ipython-input-124-bb85947dcbe4>:22: FutureWarning: The frame.append method is deprecated and will be removed from pandas in a future version. Use pandas.concat instead.\n",
            "  analysis_df = analysis_df.append({'JOCTRR': joctrr, 'Event_Pair': 'UP-UR', 'Duration': up_ur_duration}, ignore_index=True)\n",
            "<ipython-input-124-bb85947dcbe4>:13: FutureWarning: The frame.append method is deprecated and will be removed from pandas in a future version. Use pandas.concat instead.\n",
            "  analysis_df = analysis_df.append({'JOCTRR': joctrr, 'Event_Pair': 'UB-BR', 'Duration': ub_br_duration}, ignore_index=True)\n",
            "<ipython-input-124-bb85947dcbe4>:22: FutureWarning: The frame.append method is deprecated and will be removed from pandas in a future version. Use pandas.concat instead.\n",
            "  analysis_df = analysis_df.append({'JOCTRR': joctrr, 'Event_Pair': 'UP-UR', 'Duration': up_ur_duration}, ignore_index=True)\n",
            "<ipython-input-124-bb85947dcbe4>:13: FutureWarning: The frame.append method is deprecated and will be removed from pandas in a future version. Use pandas.concat instead.\n",
            "  analysis_df = analysis_df.append({'JOCTRR': joctrr, 'Event_Pair': 'UB-BR', 'Duration': ub_br_duration}, ignore_index=True)\n",
            "<ipython-input-124-bb85947dcbe4>:22: FutureWarning: The frame.append method is deprecated and will be removed from pandas in a future version. Use pandas.concat instead.\n",
            "  analysis_df = analysis_df.append({'JOCTRR': joctrr, 'Event_Pair': 'UP-UR', 'Duration': up_ur_duration}, ignore_index=True)\n",
            "<ipython-input-124-bb85947dcbe4>:13: FutureWarning: The frame.append method is deprecated and will be removed from pandas in a future version. Use pandas.concat instead.\n",
            "  analysis_df = analysis_df.append({'JOCTRR': joctrr, 'Event_Pair': 'UB-BR', 'Duration': ub_br_duration}, ignore_index=True)\n",
            "<ipython-input-124-bb85947dcbe4>:22: FutureWarning: The frame.append method is deprecated and will be removed from pandas in a future version. Use pandas.concat instead.\n",
            "  analysis_df = analysis_df.append({'JOCTRR': joctrr, 'Event_Pair': 'UP-UR', 'Duration': up_ur_duration}, ignore_index=True)\n",
            "<ipython-input-124-bb85947dcbe4>:13: FutureWarning: The frame.append method is deprecated and will be removed from pandas in a future version. Use pandas.concat instead.\n",
            "  analysis_df = analysis_df.append({'JOCTRR': joctrr, 'Event_Pair': 'UB-BR', 'Duration': ub_br_duration}, ignore_index=True)\n",
            "<ipython-input-124-bb85947dcbe4>:22: FutureWarning: The frame.append method is deprecated and will be removed from pandas in a future version. Use pandas.concat instead.\n",
            "  analysis_df = analysis_df.append({'JOCTRR': joctrr, 'Event_Pair': 'UP-UR', 'Duration': up_ur_duration}, ignore_index=True)\n",
            "<ipython-input-124-bb85947dcbe4>:13: FutureWarning: The frame.append method is deprecated and will be removed from pandas in a future version. Use pandas.concat instead.\n",
            "  analysis_df = analysis_df.append({'JOCTRR': joctrr, 'Event_Pair': 'UB-BR', 'Duration': ub_br_duration}, ignore_index=True)\n",
            "<ipython-input-124-bb85947dcbe4>:22: FutureWarning: The frame.append method is deprecated and will be removed from pandas in a future version. Use pandas.concat instead.\n",
            "  analysis_df = analysis_df.append({'JOCTRR': joctrr, 'Event_Pair': 'UP-UR', 'Duration': up_ur_duration}, ignore_index=True)\n",
            "<ipython-input-124-bb85947dcbe4>:13: FutureWarning: The frame.append method is deprecated and will be removed from pandas in a future version. Use pandas.concat instead.\n",
            "  analysis_df = analysis_df.append({'JOCTRR': joctrr, 'Event_Pair': 'UB-BR', 'Duration': ub_br_duration}, ignore_index=True)\n",
            "<ipython-input-124-bb85947dcbe4>:22: FutureWarning: The frame.append method is deprecated and will be removed from pandas in a future version. Use pandas.concat instead.\n",
            "  analysis_df = analysis_df.append({'JOCTRR': joctrr, 'Event_Pair': 'UP-UR', 'Duration': up_ur_duration}, ignore_index=True)\n",
            "<ipython-input-124-bb85947dcbe4>:13: FutureWarning: The frame.append method is deprecated and will be removed from pandas in a future version. Use pandas.concat instead.\n",
            "  analysis_df = analysis_df.append({'JOCTRR': joctrr, 'Event_Pair': 'UB-BR', 'Duration': ub_br_duration}, ignore_index=True)\n",
            "<ipython-input-124-bb85947dcbe4>:22: FutureWarning: The frame.append method is deprecated and will be removed from pandas in a future version. Use pandas.concat instead.\n",
            "  analysis_df = analysis_df.append({'JOCTRR': joctrr, 'Event_Pair': 'UP-UR', 'Duration': up_ur_duration}, ignore_index=True)\n",
            "<ipython-input-124-bb85947dcbe4>:13: FutureWarning: The frame.append method is deprecated and will be removed from pandas in a future version. Use pandas.concat instead.\n",
            "  analysis_df = analysis_df.append({'JOCTRR': joctrr, 'Event_Pair': 'UB-BR', 'Duration': ub_br_duration}, ignore_index=True)\n",
            "<ipython-input-124-bb85947dcbe4>:22: FutureWarning: The frame.append method is deprecated and will be removed from pandas in a future version. Use pandas.concat instead.\n",
            "  analysis_df = analysis_df.append({'JOCTRR': joctrr, 'Event_Pair': 'UP-UR', 'Duration': up_ur_duration}, ignore_index=True)\n",
            "<ipython-input-124-bb85947dcbe4>:13: FutureWarning: The frame.append method is deprecated and will be removed from pandas in a future version. Use pandas.concat instead.\n",
            "  analysis_df = analysis_df.append({'JOCTRR': joctrr, 'Event_Pair': 'UB-BR', 'Duration': ub_br_duration}, ignore_index=True)\n",
            "<ipython-input-124-bb85947dcbe4>:22: FutureWarning: The frame.append method is deprecated and will be removed from pandas in a future version. Use pandas.concat instead.\n",
            "  analysis_df = analysis_df.append({'JOCTRR': joctrr, 'Event_Pair': 'UP-UR', 'Duration': up_ur_duration}, ignore_index=True)\n",
            "<ipython-input-124-bb85947dcbe4>:13: FutureWarning: The frame.append method is deprecated and will be removed from pandas in a future version. Use pandas.concat instead.\n",
            "  analysis_df = analysis_df.append({'JOCTRR': joctrr, 'Event_Pair': 'UB-BR', 'Duration': ub_br_duration}, ignore_index=True)\n",
            "<ipython-input-124-bb85947dcbe4>:22: FutureWarning: The frame.append method is deprecated and will be removed from pandas in a future version. Use pandas.concat instead.\n",
            "  analysis_df = analysis_df.append({'JOCTRR': joctrr, 'Event_Pair': 'UP-UR', 'Duration': up_ur_duration}, ignore_index=True)\n",
            "<ipython-input-124-bb85947dcbe4>:13: FutureWarning: The frame.append method is deprecated and will be removed from pandas in a future version. Use pandas.concat instead.\n",
            "  analysis_df = analysis_df.append({'JOCTRR': joctrr, 'Event_Pair': 'UB-BR', 'Duration': ub_br_duration}, ignore_index=True)\n",
            "<ipython-input-124-bb85947dcbe4>:22: FutureWarning: The frame.append method is deprecated and will be removed from pandas in a future version. Use pandas.concat instead.\n",
            "  analysis_df = analysis_df.append({'JOCTRR': joctrr, 'Event_Pair': 'UP-UR', 'Duration': up_ur_duration}, ignore_index=True)\n",
            "<ipython-input-124-bb85947dcbe4>:13: FutureWarning: The frame.append method is deprecated and will be removed from pandas in a future version. Use pandas.concat instead.\n",
            "  analysis_df = analysis_df.append({'JOCTRR': joctrr, 'Event_Pair': 'UB-BR', 'Duration': ub_br_duration}, ignore_index=True)\n",
            "<ipython-input-124-bb85947dcbe4>:22: FutureWarning: The frame.append method is deprecated and will be removed from pandas in a future version. Use pandas.concat instead.\n",
            "  analysis_df = analysis_df.append({'JOCTRR': joctrr, 'Event_Pair': 'UP-UR', 'Duration': up_ur_duration}, ignore_index=True)\n",
            "<ipython-input-124-bb85947dcbe4>:13: FutureWarning: The frame.append method is deprecated and will be removed from pandas in a future version. Use pandas.concat instead.\n",
            "  analysis_df = analysis_df.append({'JOCTRR': joctrr, 'Event_Pair': 'UB-BR', 'Duration': ub_br_duration}, ignore_index=True)\n",
            "<ipython-input-124-bb85947dcbe4>:22: FutureWarning: The frame.append method is deprecated and will be removed from pandas in a future version. Use pandas.concat instead.\n",
            "  analysis_df = analysis_df.append({'JOCTRR': joctrr, 'Event_Pair': 'UP-UR', 'Duration': up_ur_duration}, ignore_index=True)\n",
            "<ipython-input-124-bb85947dcbe4>:13: FutureWarning: The frame.append method is deprecated and will be removed from pandas in a future version. Use pandas.concat instead.\n",
            "  analysis_df = analysis_df.append({'JOCTRR': joctrr, 'Event_Pair': 'UB-BR', 'Duration': ub_br_duration}, ignore_index=True)\n",
            "<ipython-input-124-bb85947dcbe4>:22: FutureWarning: The frame.append method is deprecated and will be removed from pandas in a future version. Use pandas.concat instead.\n",
            "  analysis_df = analysis_df.append({'JOCTRR': joctrr, 'Event_Pair': 'UP-UR', 'Duration': up_ur_duration}, ignore_index=True)\n",
            "<ipython-input-124-bb85947dcbe4>:13: FutureWarning: The frame.append method is deprecated and will be removed from pandas in a future version. Use pandas.concat instead.\n",
            "  analysis_df = analysis_df.append({'JOCTRR': joctrr, 'Event_Pair': 'UB-BR', 'Duration': ub_br_duration}, ignore_index=True)\n",
            "<ipython-input-124-bb85947dcbe4>:22: FutureWarning: The frame.append method is deprecated and will be removed from pandas in a future version. Use pandas.concat instead.\n",
            "  analysis_df = analysis_df.append({'JOCTRR': joctrr, 'Event_Pair': 'UP-UR', 'Duration': up_ur_duration}, ignore_index=True)\n",
            "<ipython-input-124-bb85947dcbe4>:13: FutureWarning: The frame.append method is deprecated and will be removed from pandas in a future version. Use pandas.concat instead.\n",
            "  analysis_df = analysis_df.append({'JOCTRR': joctrr, 'Event_Pair': 'UB-BR', 'Duration': ub_br_duration}, ignore_index=True)\n",
            "<ipython-input-124-bb85947dcbe4>:22: FutureWarning: The frame.append method is deprecated and will be removed from pandas in a future version. Use pandas.concat instead.\n",
            "  analysis_df = analysis_df.append({'JOCTRR': joctrr, 'Event_Pair': 'UP-UR', 'Duration': up_ur_duration}, ignore_index=True)\n",
            "<ipython-input-124-bb85947dcbe4>:13: FutureWarning: The frame.append method is deprecated and will be removed from pandas in a future version. Use pandas.concat instead.\n",
            "  analysis_df = analysis_df.append({'JOCTRR': joctrr, 'Event_Pair': 'UB-BR', 'Duration': ub_br_duration}, ignore_index=True)\n",
            "<ipython-input-124-bb85947dcbe4>:22: FutureWarning: The frame.append method is deprecated and will be removed from pandas in a future version. Use pandas.concat instead.\n",
            "  analysis_df = analysis_df.append({'JOCTRR': joctrr, 'Event_Pair': 'UP-UR', 'Duration': up_ur_duration}, ignore_index=True)\n",
            "<ipython-input-124-bb85947dcbe4>:13: FutureWarning: The frame.append method is deprecated and will be removed from pandas in a future version. Use pandas.concat instead.\n",
            "  analysis_df = analysis_df.append({'JOCTRR': joctrr, 'Event_Pair': 'UB-BR', 'Duration': ub_br_duration}, ignore_index=True)\n",
            "<ipython-input-124-bb85947dcbe4>:22: FutureWarning: The frame.append method is deprecated and will be removed from pandas in a future version. Use pandas.concat instead.\n",
            "  analysis_df = analysis_df.append({'JOCTRR': joctrr, 'Event_Pair': 'UP-UR', 'Duration': up_ur_duration}, ignore_index=True)\n",
            "<ipython-input-124-bb85947dcbe4>:13: FutureWarning: The frame.append method is deprecated and will be removed from pandas in a future version. Use pandas.concat instead.\n",
            "  analysis_df = analysis_df.append({'JOCTRR': joctrr, 'Event_Pair': 'UB-BR', 'Duration': ub_br_duration}, ignore_index=True)\n",
            "<ipython-input-124-bb85947dcbe4>:22: FutureWarning: The frame.append method is deprecated and will be removed from pandas in a future version. Use pandas.concat instead.\n",
            "  analysis_df = analysis_df.append({'JOCTRR': joctrr, 'Event_Pair': 'UP-UR', 'Duration': up_ur_duration}, ignore_index=True)\n",
            "<ipython-input-124-bb85947dcbe4>:13: FutureWarning: The frame.append method is deprecated and will be removed from pandas in a future version. Use pandas.concat instead.\n",
            "  analysis_df = analysis_df.append({'JOCTRR': joctrr, 'Event_Pair': 'UB-BR', 'Duration': ub_br_duration}, ignore_index=True)\n",
            "<ipython-input-124-bb85947dcbe4>:22: FutureWarning: The frame.append method is deprecated and will be removed from pandas in a future version. Use pandas.concat instead.\n",
            "  analysis_df = analysis_df.append({'JOCTRR': joctrr, 'Event_Pair': 'UP-UR', 'Duration': up_ur_duration}, ignore_index=True)\n",
            "<ipython-input-124-bb85947dcbe4>:13: FutureWarning: The frame.append method is deprecated and will be removed from pandas in a future version. Use pandas.concat instead.\n",
            "  analysis_df = analysis_df.append({'JOCTRR': joctrr, 'Event_Pair': 'UB-BR', 'Duration': ub_br_duration}, ignore_index=True)\n",
            "<ipython-input-124-bb85947dcbe4>:22: FutureWarning: The frame.append method is deprecated and will be removed from pandas in a future version. Use pandas.concat instead.\n",
            "  analysis_df = analysis_df.append({'JOCTRR': joctrr, 'Event_Pair': 'UP-UR', 'Duration': up_ur_duration}, ignore_index=True)\n",
            "<ipython-input-124-bb85947dcbe4>:13: FutureWarning: The frame.append method is deprecated and will be removed from pandas in a future version. Use pandas.concat instead.\n",
            "  analysis_df = analysis_df.append({'JOCTRR': joctrr, 'Event_Pair': 'UB-BR', 'Duration': ub_br_duration}, ignore_index=True)\n",
            "<ipython-input-124-bb85947dcbe4>:22: FutureWarning: The frame.append method is deprecated and will be removed from pandas in a future version. Use pandas.concat instead.\n",
            "  analysis_df = analysis_df.append({'JOCTRR': joctrr, 'Event_Pair': 'UP-UR', 'Duration': up_ur_duration}, ignore_index=True)\n",
            "<ipython-input-124-bb85947dcbe4>:13: FutureWarning: The frame.append method is deprecated and will be removed from pandas in a future version. Use pandas.concat instead.\n",
            "  analysis_df = analysis_df.append({'JOCTRR': joctrr, 'Event_Pair': 'UB-BR', 'Duration': ub_br_duration}, ignore_index=True)\n",
            "<ipython-input-124-bb85947dcbe4>:22: FutureWarning: The frame.append method is deprecated and will be removed from pandas in a future version. Use pandas.concat instead.\n",
            "  analysis_df = analysis_df.append({'JOCTRR': joctrr, 'Event_Pair': 'UP-UR', 'Duration': up_ur_duration}, ignore_index=True)\n",
            "<ipython-input-124-bb85947dcbe4>:13: FutureWarning: The frame.append method is deprecated and will be removed from pandas in a future version. Use pandas.concat instead.\n",
            "  analysis_df = analysis_df.append({'JOCTRR': joctrr, 'Event_Pair': 'UB-BR', 'Duration': ub_br_duration}, ignore_index=True)\n",
            "<ipython-input-124-bb85947dcbe4>:22: FutureWarning: The frame.append method is deprecated and will be removed from pandas in a future version. Use pandas.concat instead.\n",
            "  analysis_df = analysis_df.append({'JOCTRR': joctrr, 'Event_Pair': 'UP-UR', 'Duration': up_ur_duration}, ignore_index=True)\n",
            "<ipython-input-124-bb85947dcbe4>:13: FutureWarning: The frame.append method is deprecated and will be removed from pandas in a future version. Use pandas.concat instead.\n",
            "  analysis_df = analysis_df.append({'JOCTRR': joctrr, 'Event_Pair': 'UB-BR', 'Duration': ub_br_duration}, ignore_index=True)\n",
            "<ipython-input-124-bb85947dcbe4>:22: FutureWarning: The frame.append method is deprecated and will be removed from pandas in a future version. Use pandas.concat instead.\n",
            "  analysis_df = analysis_df.append({'JOCTRR': joctrr, 'Event_Pair': 'UP-UR', 'Duration': up_ur_duration}, ignore_index=True)\n",
            "<ipython-input-124-bb85947dcbe4>:13: FutureWarning: The frame.append method is deprecated and will be removed from pandas in a future version. Use pandas.concat instead.\n",
            "  analysis_df = analysis_df.append({'JOCTRR': joctrr, 'Event_Pair': 'UB-BR', 'Duration': ub_br_duration}, ignore_index=True)\n",
            "<ipython-input-124-bb85947dcbe4>:22: FutureWarning: The frame.append method is deprecated and will be removed from pandas in a future version. Use pandas.concat instead.\n",
            "  analysis_df = analysis_df.append({'JOCTRR': joctrr, 'Event_Pair': 'UP-UR', 'Duration': up_ur_duration}, ignore_index=True)\n"
          ]
        }
      ]
    },
    {
      "cell_type": "code",
      "source": [
        "# Asegurarse de que la duración es de tipo 'timedelta'\n",
        "analysis_df['Duration'] = pd.to_timedelta(analysis_df['Duration'])"
      ],
      "metadata": {
        "colab": {
          "base_uri": "https://localhost:8080/"
        },
        "id": "GmBcWXPoQxzw",
        "outputId": "88632894-be9b-42e1-f83d-ebf700a04eef"
      },
      "execution_count": 125,
      "outputs": [
        {
          "output_type": "stream",
          "name": "stderr",
          "text": [
            "/usr/local/lib/python3.10/dist-packages/ipykernel/ipkernel.py:283: DeprecationWarning: `should_run_async` will not call `transform_cell` automatically in the future. Please pass the result to `transformed_cell` argument and any exception that happen during thetransform in `preprocessing_exc_tuple` in IPython 7.17 and above.\n",
            "  and should_run_async(code)\n"
          ]
        }
      ]
    },
    {
      "cell_type": "code",
      "source": [
        "# Mostrar el DataFrame de análisis\n",
        "print(analysis_df)"
      ],
      "metadata": {
        "colab": {
          "base_uri": "https://localhost:8080/"
        },
        "id": "3ucjlUAyQ0bo",
        "outputId": "abe23a11-4215-4a34-fd0a-4567c88e3015"
      },
      "execution_count": 126,
      "outputs": [
        {
          "output_type": "stream",
          "name": "stdout",
          "text": [
            "      JOCTRR Event_Pair          Duration\n",
            "0        232      UB-BR 184 days 01:27:50\n",
            "1        232      UP-UR 184 days 01:27:50\n",
            "2        353      UB-BR   0 days 02:04:31\n",
            "3        353      UP-UR   0 days 02:04:31\n",
            "4        385      UB-BR   0 days 00:01:03\n",
            "..       ...        ...               ...\n",
            "363  1245844      UP-UR   0 days 00:20:37\n",
            "364  1246301      UB-BR   0 days 00:04:13\n",
            "365  1246301      UP-UR   0 days 00:04:13\n",
            "366  1270474      UB-BR   0 days 01:12:07\n",
            "367  1270474      UP-UR   0 days 01:12:07\n",
            "\n",
            "[368 rows x 3 columns]\n"
          ]
        },
        {
          "output_type": "stream",
          "name": "stderr",
          "text": [
            "/usr/local/lib/python3.10/dist-packages/ipykernel/ipkernel.py:283: DeprecationWarning: `should_run_async` will not call `transform_cell` automatically in the future. Please pass the result to `transformed_cell` argument and any exception that happen during thetransform in `preprocessing_exc_tuple` in IPython 7.17 and above.\n",
            "  and should_run_async(code)\n"
          ]
        }
      ]
    },
    {
      "cell_type": "code",
      "source": [
        "print(analysis_df['Duration'].describe())"
      ],
      "metadata": {
        "colab": {
          "base_uri": "https://localhost:8080/"
        },
        "id": "nSV9zCUsRLDK",
        "outputId": "62744499-e7a6-4a52-e555-d4cd0c789d26"
      },
      "execution_count": 127,
      "outputs": [
        {
          "output_type": "stream",
          "name": "stdout",
          "text": [
            "count                           368\n",
            "mean     22 days 00:39:59.418478260\n",
            "std      59 days 18:43:43.754002260\n",
            "min                 0 days 00:01:03\n",
            "25%                 0 days 00:04:13\n",
            "50%                 0 days 00:14:32\n",
            "75%          0 days 01:56:31.500000\n",
            "max               184 days 01:40:33\n",
            "Name: Duration, dtype: object\n"
          ]
        },
        {
          "output_type": "stream",
          "name": "stderr",
          "text": [
            "/usr/local/lib/python3.10/dist-packages/ipykernel/ipkernel.py:283: DeprecationWarning: `should_run_async` will not call `transform_cell` automatically in the future. Please pass the result to `transformed_cell` argument and any exception that happen during thetransform in `preprocessing_exc_tuple` in IPython 7.17 and above.\n",
            "  and should_run_async(code)\n"
          ]
        }
      ]
    },
    {
      "cell_type": "code",
      "source": [
        "import seaborn as sns\n",
        "import matplotlib.pyplot as plt\n",
        "\n",
        "sns.histplot(analysis_df['Duration'].dt.total_seconds(), kde=True)\n",
        "plt.title('Distribución de Duraciones entre Eventos')\n",
        "plt.xlabel('Duración en segundos')\n",
        "plt.show()"
      ],
      "metadata": {
        "colab": {
          "base_uri": "https://localhost:8080/",
          "height": 527
        },
        "id": "4YYjOUaLRQA6",
        "outputId": "9283cde4-92cd-4a9d-daf1-6ced8770a4ab"
      },
      "execution_count": 99,
      "outputs": [
        {
          "output_type": "stream",
          "name": "stderr",
          "text": [
            "/usr/local/lib/python3.10/dist-packages/ipykernel/ipkernel.py:283: DeprecationWarning: `should_run_async` will not call `transform_cell` automatically in the future. Please pass the result to `transformed_cell` argument and any exception that happen during thetransform in `preprocessing_exc_tuple` in IPython 7.17 and above.\n",
            "  and should_run_async(code)\n"
          ]
        },
        {
          "output_type": "display_data",
          "data": {
            "text/plain": [
              "<Figure size 640x480 with 1 Axes>"
            ],
            "image/png": "[encoded data removed]"
          },
          "metadata": {}
        }
      ]
    },
    {
      "cell_type": "code",
      "source": [
        "# Convertir las duraciones a una unidad de medida adecuada, por ejemplo, minutos.\n",
        "analysis_df['Duration_in_minutes'] = analysis_df['Duration'].dt.total_seconds() / 60\n",
        "\n",
        "sns.boxplot(x='Event_Pair', y='Duration_in_minutes', data=analysis_df)\n",
        "plt.title('Comparación de Duraciones entre Pares de Eventos')\n",
        "plt.ylabel('Duración en minutos')\n",
        "plt.show()"
      ],
      "metadata": {
        "colab": {
          "base_uri": "https://localhost:8080/",
          "height": 527
        },
        "id": "SsfCVGPPRZ8K",
        "outputId": "0191374b-77c4-4745-83b4-03a1ef5a786e"
      },
      "execution_count": 100,
      "outputs": [
        {
          "output_type": "stream",
          "name": "stderr",
          "text": [
            "/usr/local/lib/python3.10/dist-packages/ipykernel/ipkernel.py:283: DeprecationWarning: `should_run_async` will not call `transform_cell` automatically in the future. Please pass the result to `transformed_cell` argument and any exception that happen during thetransform in `preprocessing_exc_tuple` in IPython 7.17 and above.\n",
            "  and should_run_async(code)\n"
          ]
        },
        {
          "output_type": "display_data",
          "data": {
            "text/plain": [
              "<Figure size 640x480 with 1 Axes>"
            ],
            "image/png": "[encoded data removed]"
          },
          "metadata": {}
        }
      ]
    },
    {
      "cell_type": "code",
      "source": [
        "sns.boxplot(x=analysis_df['Duration'].dt.total_seconds())\n",
        "plt.title('Boxplot de Duraciones para Detectar Outliers')\n",
        "plt.xlabel('Duración en segundos')\n",
        "plt.show()"
      ],
      "metadata": {
        "colab": {
          "base_uri": "https://localhost:8080/",
          "height": 527
        },
        "id": "1BVEC9b4RiXA",
        "outputId": "4a608c2e-d032-4351-d6ce-8bdce0480d1f"
      },
      "execution_count": 101,
      "outputs": [
        {
          "output_type": "stream",
          "name": "stderr",
          "text": [
            "/usr/local/lib/python3.10/dist-packages/ipykernel/ipkernel.py:283: DeprecationWarning: `should_run_async` will not call `transform_cell` automatically in the future. Please pass the result to `transformed_cell` argument and any exception that happen during thetransform in `preprocessing_exc_tuple` in IPython 7.17 and above.\n",
            "  and should_run_async(code)\n"
          ]
        },
        {
          "output_type": "display_data",
          "data": {
            "text/plain": [
              "<Figure size 640x480 with 1 Axes>"
            ],
            "image/png": "[encoded data removed]"
          },
          "metadata": {}
        }
      ]
    },
    {
      "cell_type": "code",
      "source": [
        "# Suponiendo que tu DataFrame tiene una columna de fecha, podrías hacer algo como esto:\n",
        "analysis_df['Date'] = analysis_df['JOTSTP'].dt.date\n",
        "analysis_df.groupby('Date')['Duration'].mean().plot(kind='line')\n",
        "plt.title('Tendencia Temporal de la Duración Media de los Eventos')\n",
        "plt.ylabel('Duración Media (timedelta)')\n",
        "plt.xlabel('Fecha')\n",
        "plt.xticks(rotation=45)\n",
        "plt.show()"
      ],
      "metadata": {
        "colab": {
          "base_uri": "https://localhost:8080/",
          "height": 566
        },
        "id": "8JBkLnp7Rn1q",
        "outputId": "59bffedb-cdba-492c-c21b-3339b9625173"
      },
      "execution_count": 128,
      "outputs": [
        {
          "output_type": "stream",
          "name": "stderr",
          "text": [
            "/usr/local/lib/python3.10/dist-packages/ipykernel/ipkernel.py:283: DeprecationWarning: `should_run_async` will not call `transform_cell` automatically in the future. Please pass the result to `transformed_cell` argument and any exception that happen during thetransform in `preprocessing_exc_tuple` in IPython 7.17 and above.\n",
            "  and should_run_async(code)\n"
          ]
        },
        {
          "output_type": "error",
          "ename": "KeyError",
          "evalue": "'JOTSTP'",
          "traceback": [
            "\u001b[0;31m---------------------------------------------------------------------------\u001b[0m",
            "\u001b[0;31mKeyError\u001b[0m                                  Traceback (most recent call last)",
            "\u001b[0;32m/usr/local/lib/python3.10/dist-packages/pandas/core/indexes/base.py\u001b[0m in \u001b[0;36mget_loc\u001b[0;34m(self, key, method, tolerance)\u001b[0m\n\u001b[1;32m   3801\u001b[0m             \u001b[0;32mtry\u001b[0m\u001b[0;34m:\u001b[0m\u001b[0;34m\u001b[0m\u001b[0;34m\u001b[0m\u001b[0m\n\u001b[0;32m-> 3802\u001b[0;31m                 \u001b[0;32mreturn\u001b[0m \u001b[0mself\u001b[0m\u001b[0;34m.\u001b[0m\u001b[0m_engine\u001b[0m\u001b[0;34m.\u001b[0m\u001b[0mget_loc\u001b[0m\u001b[0;34m(\u001b[0m\u001b[0mcasted_key\u001b[0m\u001b[0;34m)\u001b[0m\u001b[0;34m\u001b[0m\u001b[0;34m\u001b[0m\u001b[0m\n\u001b[0m\u001b[1;32m   3803\u001b[0m             \u001b[0;32mexcept\u001b[0m \u001b[0mKeyError\u001b[0m \u001b[0;32mas\u001b[0m \u001b[0merr\u001b[0m\u001b[0;34m:\u001b[0m\u001b[0;34m\u001b[0m\u001b[0;34m\u001b[0m\u001b[0m\n",
            "\u001b[0;32m/usr/local/lib/python3.10/dist-packages/pandas/_libs/index.pyx\u001b[0m in \u001b[0;36mpandas._libs.index.IndexEngine.get_loc\u001b[0;34m()\u001b[0m\n",
            "\u001b[0;32m/usr/local/lib/python3.10/dist-packages/pandas/_libs/index.pyx\u001b[0m in \u001b[0;36mpandas._libs.index.IndexEngine.get_loc\u001b[0;34m()\u001b[0m\n",
            "\u001b[0;32mpandas/_libs/hashtable_class_helper.pxi\u001b[0m in \u001b[0;36mpandas._libs.hashtable.PyObjectHashTable.get_item\u001b[0;34m()\u001b[0m\n",
            "\u001b[0;32mpandas/_libs/hashtable_class_helper.pxi\u001b[0m in \u001b[0;36mpandas._libs.hashtable.PyObjectHashTable.get_item\u001b[0;34m()\u001b[0m\n",
            "\u001b[0;31mKeyError\u001b[0m: 'JOTSTP'",
            "\nThe above exception was the direct cause of the following exception:\n",
            "\u001b[0;31mKeyError\u001b[0m                                  Traceback (most recent call last)",
            "\u001b[0;32m<ipython-input-128-52d68b703238>\u001b[0m in \u001b[0;36m<cell line: 2>\u001b[0;34m()\u001b[0m\n\u001b[1;32m      1\u001b[0m \u001b[0;31m# Suponiendo que tu DataFrame tiene una columna de fecha, podrías hacer algo como esto:\u001b[0m\u001b[0;34m\u001b[0m\u001b[0;34m\u001b[0m\u001b[0m\n\u001b[0;32m----> 2\u001b[0;31m \u001b[0manalysis_df\u001b[0m\u001b[0;34m[\u001b[0m\u001b[0;34m'Date'\u001b[0m\u001b[0;34m]\u001b[0m \u001b[0;34m=\u001b[0m \u001b[0manalysis_df\u001b[0m\u001b[0;34m[\u001b[0m\u001b[0;34m'JOTSTP'\u001b[0m\u001b[0;34m]\u001b[0m\u001b[0;34m.\u001b[0m\u001b[0mdt\u001b[0m\u001b[0;34m.\u001b[0m\u001b[0mdate\u001b[0m\u001b[0;34m\u001b[0m\u001b[0;34m\u001b[0m\u001b[0m\n\u001b[0m\u001b[1;32m      3\u001b[0m \u001b[0manalysis_df\u001b[0m\u001b[0;34m.\u001b[0m\u001b[0mgroupby\u001b[0m\u001b[0;34m(\u001b[0m\u001b[0;34m'Date'\u001b[0m\u001b[0;34m)\u001b[0m\u001b[0;34m[\u001b[0m\u001b[0;34m'Duration'\u001b[0m\u001b[0;34m]\u001b[0m\u001b[0;34m.\u001b[0m\u001b[0mmean\u001b[0m\u001b[0;34m(\u001b[0m\u001b[0;34m)\u001b[0m\u001b[0;34m.\u001b[0m\u001b[0mplot\u001b[0m\u001b[0;34m(\u001b[0m\u001b[0mkind\u001b[0m\u001b[0;34m=\u001b[0m\u001b[0;34m'line'\u001b[0m\u001b[0;34m)\u001b[0m\u001b[0;34m\u001b[0m\u001b[0;34m\u001b[0m\u001b[0m\n\u001b[1;32m      4\u001b[0m \u001b[0mplt\u001b[0m\u001b[0;34m.\u001b[0m\u001b[0mtitle\u001b[0m\u001b[0;34m(\u001b[0m\u001b[0;34m'Tendencia Temporal de la Duración Media de los Eventos'\u001b[0m\u001b[0;34m)\u001b[0m\u001b[0;34m\u001b[0m\u001b[0;34m\u001b[0m\u001b[0m\n\u001b[1;32m      5\u001b[0m \u001b[0mplt\u001b[0m\u001b[0;34m.\u001b[0m\u001b[0mylabel\u001b[0m\u001b[0;34m(\u001b[0m\u001b[0;34m'Duración Media (timedelta)'\u001b[0m\u001b[0;34m)\u001b[0m\u001b[0;34m\u001b[0m\u001b[0;34m\u001b[0m\u001b[0m\n",
            "\u001b[0;32m/usr/local/lib/python3.10/dist-packages/pandas/core/frame.py\u001b[0m in \u001b[0;36m__getitem__\u001b[0;34m(self, key)\u001b[0m\n\u001b[1;32m   3805\u001b[0m             \u001b[0;32mif\u001b[0m \u001b[0mself\u001b[0m\u001b[0;34m.\u001b[0m\u001b[0mcolumns\u001b[0m\u001b[0;34m.\u001b[0m\u001b[0mnlevels\u001b[0m \u001b[0;34m>\u001b[0m \u001b[0;36m1\u001b[0m\u001b[0;34m:\u001b[0m\u001b[0;34m\u001b[0m\u001b[0;34m\u001b[0m\u001b[0m\n\u001b[1;32m   3806\u001b[0m                 \u001b[0;32mreturn\u001b[0m \u001b[0mself\u001b[0m\u001b[0;34m.\u001b[0m\u001b[0m_getitem_multilevel\u001b[0m\u001b[0;34m(\u001b[0m\u001b[0mkey\u001b[0m\u001b[0;34m)\u001b[0m\u001b[0;34m\u001b[0m\u001b[0;34m\u001b[0m\u001b[0m\n\u001b[0;32m-> 3807\u001b[0;31m             \u001b[0mindexer\u001b[0m \u001b[0;34m=\u001b[0m \u001b[0mself\u001b[0m\u001b[0;34m.\u001b[0m\u001b[0mcolumns\u001b[0m\u001b[0;34m.\u001b[0m\u001b[0mget_loc\u001b[0m\u001b[0;34m(\u001b[0m\u001b[0mkey\u001b[0m\u001b[0;34m)\u001b[0m\u001b[0;34m\u001b[0m\u001b[0;34m\u001b[0m\u001b[0m\n\u001b[0m\u001b[1;32m   3808\u001b[0m             \u001b[0;32mif\u001b[0m \u001b[0mis_integer\u001b[0m\u001b[0;34m(\u001b[0m\u001b[0mindexer\u001b[0m\u001b[0;34m)\u001b[0m\u001b[0;34m:\u001b[0m\u001b[0;34m\u001b[0m\u001b[0;34m\u001b[0m\u001b[0m\n\u001b[1;32m   3809\u001b[0m                 \u001b[0mindexer\u001b[0m \u001b[0;34m=\u001b[0m \u001b[0;34m[\u001b[0m\u001b[0mindexer\u001b[0m\u001b[0;34m]\u001b[0m\u001b[0;34m\u001b[0m\u001b[0;34m\u001b[0m\u001b[0m\n",
            "\u001b[0;32m/usr/local/lib/python3.10/dist-packages/pandas/core/indexes/base.py\u001b[0m in \u001b[0;36mget_loc\u001b[0;34m(self, key, method, tolerance)\u001b[0m\n\u001b[1;32m   3802\u001b[0m                 \u001b[0;32mreturn\u001b[0m \u001b[0mself\u001b[0m\u001b[0;34m.\u001b[0m\u001b[0m_engine\u001b[0m\u001b[0;34m.\u001b[0m\u001b[0mget_loc\u001b[0m\u001b[0;34m(\u001b[0m\u001b[0mcasted_key\u001b[0m\u001b[0;34m)\u001b[0m\u001b[0;34m\u001b[0m\u001b[0;34m\u001b[0m\u001b[0m\n\u001b[1;32m   3803\u001b[0m             \u001b[0;32mexcept\u001b[0m \u001b[0mKeyError\u001b[0m \u001b[0;32mas\u001b[0m \u001b[0merr\u001b[0m\u001b[0;34m:\u001b[0m\u001b[0;34m\u001b[0m\u001b[0;34m\u001b[0m\u001b[0m\n\u001b[0;32m-> 3804\u001b[0;31m                 \u001b[0;32mraise\u001b[0m \u001b[0mKeyError\u001b[0m\u001b[0;34m(\u001b[0m\u001b[0mkey\u001b[0m\u001b[0;34m)\u001b[0m \u001b[0;32mfrom\u001b[0m \u001b[0merr\u001b[0m\u001b[0;34m\u001b[0m\u001b[0;34m\u001b[0m\u001b[0m\n\u001b[0m\u001b[1;32m   3805\u001b[0m             \u001b[0;32mexcept\u001b[0m \u001b[0mTypeError\u001b[0m\u001b[0;34m:\u001b[0m\u001b[0;34m\u001b[0m\u001b[0;34m\u001b[0m\u001b[0m\n\u001b[1;32m   3806\u001b[0m                 \u001b[0;31m# If we have a listlike key, _check_indexing_error will raise\u001b[0m\u001b[0;34m\u001b[0m\u001b[0;34m\u001b[0m\u001b[0m\n",
            "\u001b[0;31mKeyError\u001b[0m: 'JOTSTP'"
          ]
        }
      ]
    },
    {
      "cell_type": "code",
      "source": [
        "# Convertir la columna 'JOTSTP' a datetime si aún no lo has hecho\n",
        "analysis_df['JOTSTP'] = pd.to_datetime(analysis_df['JOTSTP'])"
      ],
      "metadata": {
        "colab": {
          "base_uri": "https://localhost:8080/",
          "height": 566
        },
        "id": "lQBcFJKYSuC4",
        "outputId": "22839263-5c85-4060-a7e1-d5a97645224e"
      },
      "execution_count": 112,
      "outputs": [
        {
          "output_type": "stream",
          "name": "stderr",
          "text": [
            "/usr/local/lib/python3.10/dist-packages/ipykernel/ipkernel.py:283: DeprecationWarning: `should_run_async` will not call `transform_cell` automatically in the future. Please pass the result to `transformed_cell` argument and any exception that happen during thetransform in `preprocessing_exc_tuple` in IPython 7.17 and above.\n",
            "  and should_run_async(code)\n"
          ]
        },
        {
          "output_type": "error",
          "ename": "KeyError",
          "evalue": "'JOTSTP'",
          "traceback": [
            "\u001b[0;31m---------------------------------------------------------------------------\u001b[0m",
            "\u001b[0;31mKeyError\u001b[0m                                  Traceback (most recent call last)",
            "\u001b[0;32m/usr/local/lib/python3.10/dist-packages/pandas/core/indexes/base.py\u001b[0m in \u001b[0;36mget_loc\u001b[0;34m(self, key, method, tolerance)\u001b[0m\n\u001b[1;32m   3801\u001b[0m             \u001b[0;32mtry\u001b[0m\u001b[0;34m:\u001b[0m\u001b[0;34m\u001b[0m\u001b[0;34m\u001b[0m\u001b[0m\n\u001b[0;32m-> 3802\u001b[0;31m                 \u001b[0;32mreturn\u001b[0m \u001b[0mself\u001b[0m\u001b[0;34m.\u001b[0m\u001b[0m_engine\u001b[0m\u001b[0;34m.\u001b[0m\u001b[0mget_loc\u001b[0m\u001b[0;34m(\u001b[0m\u001b[0mcasted_key\u001b[0m\u001b[0;34m)\u001b[0m\u001b[0;34m\u001b[0m\u001b[0;34m\u001b[0m\u001b[0m\n\u001b[0m\u001b[1;32m   3803\u001b[0m             \u001b[0;32mexcept\u001b[0m \u001b[0mKeyError\u001b[0m \u001b[0;32mas\u001b[0m \u001b[0merr\u001b[0m\u001b[0;34m:\u001b[0m\u001b[0;34m\u001b[0m\u001b[0;34m\u001b[0m\u001b[0m\n",
            "\u001b[0;32m/usr/local/lib/python3.10/dist-packages/pandas/_libs/index.pyx\u001b[0m in \u001b[0;36mpandas._libs.index.IndexEngine.get_loc\u001b[0;34m()\u001b[0m\n",
            "\u001b[0;32m/usr/local/lib/python3.10/dist-packages/pandas/_libs/index.pyx\u001b[0m in \u001b[0;36mpandas._libs.index.IndexEngine.get_loc\u001b[0;34m()\u001b[0m\n",
            "\u001b[0;32mpandas/_libs/hashtable_class_helper.pxi\u001b[0m in \u001b[0;36mpandas._libs.hashtable.PyObjectHashTable.get_item\u001b[0;34m()\u001b[0m\n",
            "\u001b[0;32mpandas/_libs/hashtable_class_helper.pxi\u001b[0m in \u001b[0;36mpandas._libs.hashtable.PyObjectHashTable.get_item\u001b[0;34m()\u001b[0m\n",
            "\u001b[0;31mKeyError\u001b[0m: 'JOTSTP'",
            "\nThe above exception was the direct cause of the following exception:\n",
            "\u001b[0;31mKeyError\u001b[0m                                  Traceback (most recent call last)",
            "\u001b[0;32m<ipython-input-112-a3001c412bf8>\u001b[0m in \u001b[0;36m<cell line: 2>\u001b[0;34m()\u001b[0m\n\u001b[1;32m      1\u001b[0m \u001b[0;31m# Convertir la columna 'JOTSTP' a datetime si aún no lo has hecho\u001b[0m\u001b[0;34m\u001b[0m\u001b[0;34m\u001b[0m\u001b[0m\n\u001b[0;32m----> 2\u001b[0;31m \u001b[0manalysis_df\u001b[0m\u001b[0;34m[\u001b[0m\u001b[0;34m'JOTSTP'\u001b[0m\u001b[0;34m]\u001b[0m \u001b[0;34m=\u001b[0m \u001b[0mpd\u001b[0m\u001b[0;34m.\u001b[0m\u001b[0mto_datetime\u001b[0m\u001b[0;34m(\u001b[0m\u001b[0manalysis_df\u001b[0m\u001b[0;34m[\u001b[0m\u001b[0;34m'JOTSTP'\u001b[0m\u001b[0;34m]\u001b[0m\u001b[0;34m)\u001b[0m\u001b[0;34m\u001b[0m\u001b[0;34m\u001b[0m\u001b[0m\n\u001b[0m",
            "\u001b[0;32m/usr/local/lib/python3.10/dist-packages/pandas/core/frame.py\u001b[0m in \u001b[0;36m__getitem__\u001b[0;34m(self, key)\u001b[0m\n\u001b[1;32m   3805\u001b[0m             \u001b[0;32mif\u001b[0m \u001b[0mself\u001b[0m\u001b[0;34m.\u001b[0m\u001b[0mcolumns\u001b[0m\u001b[0;34m.\u001b[0m\u001b[0mnlevels\u001b[0m \u001b[0;34m>\u001b[0m \u001b[0;36m1\u001b[0m\u001b[0;34m:\u001b[0m\u001b[0;34m\u001b[0m\u001b[0;34m\u001b[0m\u001b[0m\n\u001b[1;32m   3806\u001b[0m                 \u001b[0;32mreturn\u001b[0m \u001b[0mself\u001b[0m\u001b[0;34m.\u001b[0m\u001b[0m_getitem_multilevel\u001b[0m\u001b[0;34m(\u001b[0m\u001b[0mkey\u001b[0m\u001b[0;34m)\u001b[0m\u001b[0;34m\u001b[0m\u001b[0;34m\u001b[0m\u001b[0m\n\u001b[0;32m-> 3807\u001b[0;31m             \u001b[0mindexer\u001b[0m \u001b[0;34m=\u001b[0m \u001b[0mself\u001b[0m\u001b[0;34m.\u001b[0m\u001b[0mcolumns\u001b[0m\u001b[0;34m.\u001b[0m\u001b[0mget_loc\u001b[0m\u001b[0;34m(\u001b[0m\u001b[0mkey\u001b[0m\u001b[0;34m)\u001b[0m\u001b[0;34m\u001b[0m\u001b[0;34m\u001b[0m\u001b[0m\n\u001b[0m\u001b[1;32m   3808\u001b[0m             \u001b[0;32mif\u001b[0m \u001b[0mis_integer\u001b[0m\u001b[0;34m(\u001b[0m\u001b[0mindexer\u001b[0m\u001b[0;34m)\u001b[0m\u001b[0;34m:\u001b[0m\u001b[0;34m\u001b[0m\u001b[0;34m\u001b[0m\u001b[0m\n\u001b[1;32m   3809\u001b[0m                 \u001b[0mindexer\u001b[0m \u001b[0;34m=\u001b[0m \u001b[0;34m[\u001b[0m\u001b[0mindexer\u001b[0m\u001b[0;34m]\u001b[0m\u001b[0;34m\u001b[0m\u001b[0;34m\u001b[0m\u001b[0m\n",
            "\u001b[0;32m/usr/local/lib/python3.10/dist-packages/pandas/core/indexes/base.py\u001b[0m in \u001b[0;36mget_loc\u001b[0;34m(self, key, method, tolerance)\u001b[0m\n\u001b[1;32m   3802\u001b[0m                 \u001b[0;32mreturn\u001b[0m \u001b[0mself\u001b[0m\u001b[0;34m.\u001b[0m\u001b[0m_engine\u001b[0m\u001b[0;34m.\u001b[0m\u001b[0mget_loc\u001b[0m\u001b[0;34m(\u001b[0m\u001b[0mcasted_key\u001b[0m\u001b[0;34m)\u001b[0m\u001b[0;34m\u001b[0m\u001b[0;34m\u001b[0m\u001b[0m\n\u001b[1;32m   3803\u001b[0m             \u001b[0;32mexcept\u001b[0m \u001b[0mKeyError\u001b[0m \u001b[0;32mas\u001b[0m \u001b[0merr\u001b[0m\u001b[0;34m:\u001b[0m\u001b[0;34m\u001b[0m\u001b[0;34m\u001b[0m\u001b[0m\n\u001b[0;32m-> 3804\u001b[0;31m                 \u001b[0;32mraise\u001b[0m \u001b[0mKeyError\u001b[0m\u001b[0;34m(\u001b[0m\u001b[0mkey\u001b[0m\u001b[0;34m)\u001b[0m \u001b[0;32mfrom\u001b[0m \u001b[0merr\u001b[0m\u001b[0;34m\u001b[0m\u001b[0;34m\u001b[0m\u001b[0m\n\u001b[0m\u001b[1;32m   3805\u001b[0m             \u001b[0;32mexcept\u001b[0m \u001b[0mTypeError\u001b[0m\u001b[0;34m:\u001b[0m\u001b[0;34m\u001b[0m\u001b[0;34m\u001b[0m\u001b[0m\n\u001b[1;32m   3806\u001b[0m                 \u001b[0;31m# If we have a listlike key, _check_indexing_error will raise\u001b[0m\u001b[0;34m\u001b[0m\u001b[0;34m\u001b[0m\u001b[0m\n",
            "\u001b[0;31mKeyError\u001b[0m: 'JOTSTP'"
          ]
        }
      ]
    },
    {
      "cell_type": "code",
      "source": [
        "# Asegurarse de que 'Duration' es un timedelta\n",
        "# Si 'Duration' ya está en un formato adecuado (por ejemplo, segundos), conviértelo a timedelta\n",
        "analysis_df['Duration'] = pd.to_timedelta(analysis_df['Duration'], unit='s')"
      ],
      "metadata": {
        "colab": {
          "base_uri": "https://localhost:8080/"
        },
        "id": "9hfrScruU3MD",
        "outputId": "0762e7eb-8d74-4135-e3b7-2368586be595"
      },
      "execution_count": 130,
      "outputs": [
        {
          "output_type": "stream",
          "name": "stderr",
          "text": [
            "/usr/local/lib/python3.10/dist-packages/ipykernel/ipkernel.py:283: DeprecationWarning: `should_run_async` will not call `transform_cell` automatically in the future. Please pass the result to `transformed_cell` argument and any exception that happen during thetransform in `preprocessing_exc_tuple` in IPython 7.17 and above.\n",
            "  and should_run_async(code)\n"
          ]
        }
      ]
    },
    {
      "cell_type": "code",
      "source": [
        "print(analysis_df)"
      ],
      "metadata": {
        "colab": {
          "base_uri": "https://localhost:8080/"
        },
        "id": "qbcGTLTaVB7j",
        "outputId": "e6ddc7f5-1d7c-452b-8e09-b602e9325690"
      },
      "execution_count": 133,
      "outputs": [
        {
          "output_type": "stream",
          "name": "stdout",
          "text": [
            "      JOCTRR Event_Pair          Duration\n",
            "0        232      UB-BR 184 days 01:27:50\n",
            "1        232      UP-UR 184 days 01:27:50\n",
            "2        353      UB-BR   0 days 02:04:31\n",
            "3        353      UP-UR   0 days 02:04:31\n",
            "4        385      UB-BR   0 days 00:01:03\n",
            "..       ...        ...               ...\n",
            "363  1245844      UP-UR   0 days 00:20:37\n",
            "364  1246301      UB-BR   0 days 00:04:13\n",
            "365  1246301      UP-UR   0 days 00:04:13\n",
            "366  1270474      UB-BR   0 days 01:12:07\n",
            "367  1270474      UP-UR   0 days 01:12:07\n",
            "\n",
            "[368 rows x 3 columns]\n"
          ]
        },
        {
          "output_type": "stream",
          "name": "stderr",
          "text": [
            "/usr/local/lib/python3.10/dist-packages/ipykernel/ipkernel.py:283: DeprecationWarning: `should_run_async` will not call `transform_cell` automatically in the future. Please pass the result to `transformed_cell` argument and any exception that happen during thetransform in `preprocessing_exc_tuple` in IPython 7.17 and above.\n",
            "  and should_run_async(code)\n"
          ]
        }
      ]
    }
  ]
}