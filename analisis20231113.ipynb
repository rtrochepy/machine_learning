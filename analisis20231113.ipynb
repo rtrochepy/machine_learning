{
  "nbformat": 4,
  "nbformat_minor": 0,
  "metadata": {
    "colab": {
      "provenance": [],
      "gpuType": "T4",
      "authorship_tag": "ABX9TyPRVI4GAhWNcIW2tCYQ97jw",
      "include_colab_link": true
    },
    "kernelspec": {
      "name": "python3",
      "display_name": "Python 3"
    },
    "language_info": {
      "name": "python"
    },
    "accelerator": "GPU"
  },
  "cells": [
    {
      "cell_type": "markdown",
      "metadata": {
        "id": "view-in-github",
        "colab_type": "text"
      },
      "source": [
        "<a href=\"https://colab.research.google.com/github/rtrochepy/machine_learning/blob/main/analisis20231113.ipynb\" target=\"_parent\"><img src=\"https://colab.research.google.com/assets/colab-badge.svg\" alt=\"Open In Colab\"/></a>"
      ]
    },
    {
      "cell_type": "code",
      "execution_count": null,
      "metadata": {
        "id": "H1tR3m5QSr_7"
      },
      "outputs": [],
      "source": [
        "import pandas as pd"
      ]
    },
    {
      "cell_type": "code",
      "source": [
        "!unzip COMAMH-20231113.zip\n",
        "!unzip COTAMS-20231113.zip"
      ],
      "metadata": {
        "colab": {
          "base_uri": "https://localhost:8080/"
        },
        "id": "d3hzyxFoYKQn",
        "outputId": "9c79767c-ec20-4030-91dd-3ac4e58dea4a"
      },
      "execution_count": 15,
      "outputs": [
        {
          "output_type": "stream",
          "name": "stdout",
          "text": [
            "Archive:  COMAMH-20231113.zip\n",
            "  inflating: COMAMH-20231113.xlsx    \n",
            "Archive:  COTAMS-20231113.zip\n",
            "  inflating: COTAMS-20231113.xlsx    \n"
          ]
        }
      ]
    },
    {
      "cell_type": "code",
      "source": [
        "ams = pd.read_excel(\"COTAMS-20231113.xlsx\", engine='openpyxl')\n",
        "amh = pd.read_excel(\"COMAMH-20231113.xlsx\", engine='openpyxl')"
      ],
      "metadata": {
        "id": "DzKMH8uOWfpS"
      },
      "execution_count": 18,
      "outputs": []
    },
    {
      "cell_type": "code",
      "source": [
        "resultados_encontrados = []\n",
        "resultados_no_encontrados = []\n",
        "\n",
        "for index, row in ams.iterrows():\n",
        "    # Aplicar todas las condiciones con paréntesis\n",
        "    filtrado = amh[(amh['AMHNTR'] == row['AMSNTR']) &\n",
        "                   (amh['SUCID'] == row['SUCID']) &\n",
        "                   (amh['CTARUB'] == row['CTARUB']) &\n",
        "                   (amh['DMHTMV'] == row['DMSTMV']) &\n",
        "                   (amh['DMHIML'] == row['DMSIML'])]\n",
        "\n",
        "    if not filtrado.empty:\n",
        "        # Añadir a resultados encontrados\n",
        "        resultados_encontrados.extend(filtrado.to_dict('records'))\n",
        "    else:\n",
        "        # Añadir a resultados no encontrados\n",
        "        resultados_no_encontrados.append(row.to_dict())\n",
        "\n",
        "# Convertir los resultados en DataFrames\n",
        "df_resultados_encontrados = pd.DataFrame(resultados_encontrados)\n",
        "df_resultados_no_encontrados = pd.DataFrame(resultados_no_encontrados)"
      ],
      "metadata": {
        "id": "KysdRW5XaVkH"
      },
      "execution_count": null,
      "outputs": []
    }
  ]
}