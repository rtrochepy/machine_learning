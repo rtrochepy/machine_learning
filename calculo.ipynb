{
  "nbformat": 4,
  "nbformat_minor": 0,
  "metadata": {
    "colab": {
      "provenance": [],
      "authorship_tag": "ABX9TyOo7PVfD+o4j99TDofZQ56j",
      "include_colab_link": true
    },
    "kernelspec": {
      "name": "python3",
      "display_name": "Python 3"
    },
    "language_info": {
      "name": "python"
    }
  },
  "cells": [
    {
      "cell_type": "markdown",
      "metadata": {
        "id": "view-in-github",
        "colab_type": "text"
      },
      "source": [
        "<a href=\"https://colab.research.google.com/github/rtrochepy/machine_learning/blob/main/calculo.ipynb\" target=\"_parent\"><img src=\"https://colab.research.google.com/assets/colab-badge.svg\" alt=\"Open In Colab\"/></a>"
      ]
    },
    {
      "cell_type": "code",
      "execution_count": 23,
      "metadata": {
        "id": "s2KeWSEreKCQ"
      },
      "outputs": [],
      "source": [
        "def sistema_frances(prestamo, tasa_interes_anual, plazo_meses):\n",
        "    tasa_interes_mensual = tasa_interes_anual / 12 / 100\n",
        "    cuota = (prestamo * tasa_interes_mensual) / (1 - (1 + tasa_interes_mensual)**-plazo_meses)\n",
        "\n",
        "    amortizacion = []\n",
        "    saldo_restante = prestamo\n",
        "\n",
        "    for mes in range(1, plazo_meses + 1):\n",
        "        interes = saldo_restante * tasa_interes_mensual\n",
        "        capital = cuota - interes\n",
        "        saldo_restante -= capital\n",
        "\n",
        "        amortizacion.append((mes, cuota, interes, capital, saldo_restante))\n",
        "\n",
        "    return amortizacion"
      ]
    },
    {
      "cell_type": "code",
      "source": [
        "# Ejemplo de uso\n",
        "prestamo = 193407147  # Monto del préstamo\n",
        "tasa_interes_anual = 9  # Tasa de interés anual\n",
        "plazo_meses = 120  # Plazo en meses (30 años)"
      ],
      "metadata": {
        "id": "2asixwtQedwt"
      },
      "execution_count": 24,
      "outputs": []
    },
    {
      "cell_type": "code",
      "source": [
        "amortizacion_frances = sistema_frances(prestamo, tasa_interes_anual, plazo_meses)\n",
        "\n",
        "for mes, cuota, interes, capital, saldo_restante in amortizacion_frances:\n",
        "    print(f\"Mes {mes}: Cuota: {cuota:.2f} | Interés: {interes:.2f} | Capital: {capital:.2f} | Saldo Restante: {saldo_restante:.2f}\")"
      ],
      "metadata": {
        "colab": {
          "base_uri": "https://localhost:8080/"
        },
        "id": "2kKPakDsehf9",
        "outputId": "379bada5-9f93-4ca4-adf6-a47807647ddb"
      },
      "execution_count": 25,
      "outputs": [
        {
          "output_type": "stream",
          "name": "stdout",
          "text": [
            "Mes 1: Cuota: 2450000.00 | Interés: 1450553.60 | Capital: 999446.40 | Saldo Restante: 192407700.60\n",
            "Mes 2: Cuota: 2450000.00 | Interés: 1443057.75 | Capital: 1006942.24 | Saldo Restante: 191400758.36\n",
            "Mes 3: Cuota: 2450000.00 | Interés: 1435505.69 | Capital: 1014494.31 | Saldo Restante: 190386264.05\n",
            "Mes 4: Cuota: 2450000.00 | Interés: 1427896.98 | Capital: 1022103.02 | Saldo Restante: 189364161.03\n",
            "Mes 5: Cuota: 2450000.00 | Interés: 1420231.21 | Capital: 1029768.79 | Saldo Restante: 188334392.24\n",
            "Mes 6: Cuota: 2450000.00 | Interés: 1412507.94 | Capital: 1037492.06 | Saldo Restante: 187296900.18\n",
            "Mes 7: Cuota: 2450000.00 | Interés: 1404726.75 | Capital: 1045273.25 | Saldo Restante: 186251626.93\n",
            "Mes 8: Cuota: 2450000.00 | Interés: 1396887.20 | Capital: 1053112.80 | Saldo Restante: 185198514.13\n",
            "Mes 9: Cuota: 2450000.00 | Interés: 1388988.86 | Capital: 1061011.14 | Saldo Restante: 184137502.99\n",
            "Mes 10: Cuota: 2450000.00 | Interés: 1381031.27 | Capital: 1068968.73 | Saldo Restante: 183068534.26\n",
            "Mes 11: Cuota: 2450000.00 | Interés: 1373014.01 | Capital: 1076985.99 | Saldo Restante: 181991548.27\n",
            "Mes 12: Cuota: 2450000.00 | Interés: 1364936.61 | Capital: 1085063.39 | Saldo Restante: 180906484.88\n",
            "Mes 13: Cuota: 2450000.00 | Interés: 1356798.64 | Capital: 1093201.36 | Saldo Restante: 179813283.52\n",
            "Mes 14: Cuota: 2450000.00 | Interés: 1348599.63 | Capital: 1101400.37 | Saldo Restante: 178711883.15\n",
            "Mes 15: Cuota: 2450000.00 | Interés: 1340339.12 | Capital: 1109660.88 | Saldo Restante: 177602222.27\n",
            "Mes 16: Cuota: 2450000.00 | Interés: 1332016.67 | Capital: 1117983.33 | Saldo Restante: 176484238.94\n",
            "Mes 17: Cuota: 2450000.00 | Interés: 1323631.79 | Capital: 1126368.21 | Saldo Restante: 175357870.73\n",
            "Mes 18: Cuota: 2450000.00 | Interés: 1315184.03 | Capital: 1134815.97 | Saldo Restante: 174223054.76\n",
            "Mes 19: Cuota: 2450000.00 | Interés: 1306672.91 | Capital: 1143327.09 | Saldo Restante: 173079727.67\n",
            "Mes 20: Cuota: 2450000.00 | Interés: 1298097.96 | Capital: 1151902.04 | Saldo Restante: 171927825.63\n",
            "Mes 21: Cuota: 2450000.00 | Interés: 1289458.69 | Capital: 1160541.31 | Saldo Restante: 170767284.32\n",
            "Mes 22: Cuota: 2450000.00 | Interés: 1280754.63 | Capital: 1169245.37 | Saldo Restante: 169598038.96\n",
            "Mes 23: Cuota: 2450000.00 | Interés: 1271985.29 | Capital: 1178014.71 | Saldo Restante: 168420024.25\n",
            "Mes 24: Cuota: 2450000.00 | Interés: 1263150.18 | Capital: 1186849.82 | Saldo Restante: 167233174.43\n",
            "Mes 25: Cuota: 2450000.00 | Interés: 1254248.81 | Capital: 1195751.19 | Saldo Restante: 166037423.24\n",
            "Mes 26: Cuota: 2450000.00 | Interés: 1245280.67 | Capital: 1204719.33 | Saldo Restante: 164832703.91\n",
            "Mes 27: Cuota: 2450000.00 | Interés: 1236245.28 | Capital: 1213754.72 | Saldo Restante: 163618949.19\n",
            "Mes 28: Cuota: 2450000.00 | Interés: 1227142.12 | Capital: 1222857.88 | Saldo Restante: 162396091.31\n",
            "Mes 29: Cuota: 2450000.00 | Interés: 1217970.68 | Capital: 1232029.31 | Saldo Restante: 161164062.00\n",
            "Mes 30: Cuota: 2450000.00 | Interés: 1208730.46 | Capital: 1241269.53 | Saldo Restante: 159922792.46\n",
            "Mes 31: Cuota: 2450000.00 | Interés: 1199420.94 | Capital: 1250579.06 | Saldo Restante: 158672213.41\n",
            "Mes 32: Cuota: 2450000.00 | Interés: 1190041.60 | Capital: 1259958.40 | Saldo Restante: 157412255.01\n",
            "Mes 33: Cuota: 2450000.00 | Interés: 1180591.91 | Capital: 1269408.09 | Saldo Restante: 156142846.92\n",
            "Mes 34: Cuota: 2450000.00 | Interés: 1171071.35 | Capital: 1278928.65 | Saldo Restante: 154863918.27\n",
            "Mes 35: Cuota: 2450000.00 | Interés: 1161479.39 | Capital: 1288520.61 | Saldo Restante: 153575397.66\n",
            "Mes 36: Cuota: 2450000.00 | Interés: 1151815.48 | Capital: 1298184.52 | Saldo Restante: 152277213.14\n",
            "Mes 37: Cuota: 2450000.00 | Interés: 1142079.10 | Capital: 1307920.90 | Saldo Restante: 150969292.24\n",
            "Mes 38: Cuota: 2450000.00 | Interés: 1132269.69 | Capital: 1317730.31 | Saldo Restante: 149651561.94\n",
            "Mes 39: Cuota: 2450000.00 | Interés: 1122386.71 | Capital: 1327613.28 | Saldo Restante: 148323948.65\n",
            "Mes 40: Cuota: 2450000.00 | Interés: 1112429.61 | Capital: 1337570.38 | Saldo Restante: 146986378.27\n",
            "Mes 41: Cuota: 2450000.00 | Interés: 1102397.84 | Capital: 1347602.16 | Saldo Restante: 145638776.10\n",
            "Mes 42: Cuota: 2450000.00 | Interés: 1092290.82 | Capital: 1357709.18 | Saldo Restante: 144281066.93\n",
            "Mes 43: Cuota: 2450000.00 | Interés: 1082108.00 | Capital: 1367892.00 | Saldo Restante: 142913174.93\n",
            "Mes 44: Cuota: 2450000.00 | Interés: 1071848.81 | Capital: 1378151.19 | Saldo Restante: 141535023.74\n",
            "Mes 45: Cuota: 2450000.00 | Interés: 1061512.68 | Capital: 1388487.32 | Saldo Restante: 140146536.42\n",
            "Mes 46: Cuota: 2450000.00 | Interés: 1051099.02 | Capital: 1398900.98 | Saldo Restante: 138747635.44\n",
            "Mes 47: Cuota: 2450000.00 | Interés: 1040607.27 | Capital: 1409392.73 | Saldo Restante: 137338242.71\n",
            "Mes 48: Cuota: 2450000.00 | Interés: 1030036.82 | Capital: 1419963.18 | Saldo Restante: 135918279.53\n",
            "Mes 49: Cuota: 2450000.00 | Interés: 1019387.10 | Capital: 1430612.90 | Saldo Restante: 134487666.63\n",
            "Mes 50: Cuota: 2450000.00 | Interés: 1008657.50 | Capital: 1441342.50 | Saldo Restante: 133046324.13\n",
            "Mes 51: Cuota: 2450000.00 | Interés: 997847.43 | Capital: 1452152.57 | Saldo Restante: 131594171.56\n",
            "Mes 52: Cuota: 2450000.00 | Interés: 986956.29 | Capital: 1463043.71 | Saldo Restante: 130131127.85\n",
            "Mes 53: Cuota: 2450000.00 | Interés: 975983.46 | Capital: 1474016.54 | Saldo Restante: 128657111.30\n",
            "Mes 54: Cuota: 2450000.00 | Interés: 964928.33 | Capital: 1485071.66 | Saldo Restante: 127172039.64\n",
            "Mes 55: Cuota: 2450000.00 | Interés: 953790.30 | Capital: 1496209.70 | Saldo Restante: 125675829.94\n",
            "Mes 56: Cuota: 2450000.00 | Interés: 942568.72 | Capital: 1507431.27 | Saldo Restante: 124168398.66\n",
            "Mes 57: Cuota: 2450000.00 | Interés: 931262.99 | Capital: 1518737.01 | Saldo Restante: 122649661.65\n",
            "Mes 58: Cuota: 2450000.00 | Interés: 919872.46 | Capital: 1530127.54 | Saldo Restante: 121119534.12\n",
            "Mes 59: Cuota: 2450000.00 | Interés: 908396.51 | Capital: 1541603.49 | Saldo Restante: 119577930.62\n",
            "Mes 60: Cuota: 2450000.00 | Interés: 896834.48 | Capital: 1553165.52 | Saldo Restante: 118024765.10\n",
            "Mes 61: Cuota: 2450000.00 | Interés: 885185.74 | Capital: 1564814.26 | Saldo Restante: 116459950.84\n",
            "Mes 62: Cuota: 2450000.00 | Interés: 873449.63 | Capital: 1576550.37 | Saldo Restante: 114883400.47\n",
            "Mes 63: Cuota: 2450000.00 | Interés: 861625.50 | Capital: 1588374.50 | Saldo Restante: 113295025.98\n",
            "Mes 64: Cuota: 2450000.00 | Interés: 849712.69 | Capital: 1600287.30 | Saldo Restante: 111694738.67\n",
            "Mes 65: Cuota: 2450000.00 | Interés: 837710.54 | Capital: 1612289.46 | Saldo Restante: 110082449.21\n",
            "Mes 66: Cuota: 2450000.00 | Interés: 825618.37 | Capital: 1624381.63 | Saldo Restante: 108458067.58\n",
            "Mes 67: Cuota: 2450000.00 | Interés: 813435.51 | Capital: 1636564.49 | Saldo Restante: 106821503.09\n",
            "Mes 68: Cuota: 2450000.00 | Interés: 801161.27 | Capital: 1648838.73 | Saldo Restante: 105172664.36\n",
            "Mes 69: Cuota: 2450000.00 | Interés: 788794.98 | Capital: 1661205.02 | Saldo Restante: 103511459.35\n",
            "Mes 70: Cuota: 2450000.00 | Interés: 776335.95 | Capital: 1673664.05 | Saldo Restante: 101837795.29\n",
            "Mes 71: Cuota: 2450000.00 | Interés: 763783.46 | Capital: 1686216.53 | Saldo Restante: 100151578.76\n",
            "Mes 72: Cuota: 2450000.00 | Interés: 751136.84 | Capital: 1698863.16 | Saldo Restante: 98452715.60\n",
            "Mes 73: Cuota: 2450000.00 | Interés: 738395.37 | Capital: 1711604.63 | Saldo Restante: 96741110.97\n",
            "Mes 74: Cuota: 2450000.00 | Interés: 725558.33 | Capital: 1724441.67 | Saldo Restante: 95016669.30\n",
            "Mes 75: Cuota: 2450000.00 | Interés: 712625.02 | Capital: 1737374.98 | Saldo Restante: 93279294.32\n",
            "Mes 76: Cuota: 2450000.00 | Interés: 699594.71 | Capital: 1750405.29 | Saldo Restante: 91528889.03\n",
            "Mes 77: Cuota: 2450000.00 | Interés: 686466.67 | Capital: 1763533.33 | Saldo Restante: 89765355.70\n",
            "Mes 78: Cuota: 2450000.00 | Interés: 673240.17 | Capital: 1776759.83 | Saldo Restante: 87988595.86\n",
            "Mes 79: Cuota: 2450000.00 | Interés: 659914.47 | Capital: 1790085.53 | Saldo Restante: 86198510.33\n",
            "Mes 80: Cuota: 2450000.00 | Interés: 646488.83 | Capital: 1803511.17 | Saldo Restante: 84394999.16\n",
            "Mes 81: Cuota: 2450000.00 | Interés: 632962.49 | Capital: 1817037.51 | Saldo Restante: 82577961.66\n",
            "Mes 82: Cuota: 2450000.00 | Interés: 619334.71 | Capital: 1830665.29 | Saldo Restante: 80747296.37\n",
            "Mes 83: Cuota: 2450000.00 | Interés: 605604.72 | Capital: 1844395.28 | Saldo Restante: 78902901.09\n",
            "Mes 84: Cuota: 2450000.00 | Interés: 591771.76 | Capital: 1858228.24 | Saldo Restante: 77044672.85\n",
            "Mes 85: Cuota: 2450000.00 | Interés: 577835.05 | Capital: 1872164.95 | Saldo Restante: 75172507.90\n",
            "Mes 86: Cuota: 2450000.00 | Interés: 563793.81 | Capital: 1886206.19 | Saldo Restante: 73286301.71\n",
            "Mes 87: Cuota: 2450000.00 | Interés: 549647.26 | Capital: 1900352.74 | Saldo Restante: 71385948.97\n",
            "Mes 88: Cuota: 2450000.00 | Interés: 535394.62 | Capital: 1914605.38 | Saldo Restante: 69471343.59\n",
            "Mes 89: Cuota: 2450000.00 | Interés: 521035.08 | Capital: 1928964.92 | Saldo Restante: 67542378.67\n",
            "Mes 90: Cuota: 2450000.00 | Interés: 506567.84 | Capital: 1943432.16 | Saldo Restante: 65598946.51\n",
            "Mes 91: Cuota: 2450000.00 | Interés: 491992.10 | Capital: 1958007.90 | Saldo Restante: 63640938.60\n",
            "Mes 92: Cuota: 2450000.00 | Interés: 477307.04 | Capital: 1972692.96 | Saldo Restante: 61668245.64\n",
            "Mes 93: Cuota: 2450000.00 | Interés: 462511.84 | Capital: 1987488.16 | Saldo Restante: 59680757.49\n",
            "Mes 94: Cuota: 2450000.00 | Interés: 447605.68 | Capital: 2002394.32 | Saldo Restante: 57678363.17\n",
            "Mes 95: Cuota: 2450000.00 | Interés: 432587.72 | Capital: 2017412.28 | Saldo Restante: 55660950.89\n",
            "Mes 96: Cuota: 2450000.00 | Interés: 417457.13 | Capital: 2032542.87 | Saldo Restante: 53628408.03\n",
            "Mes 97: Cuota: 2450000.00 | Interés: 402213.06 | Capital: 2047786.94 | Saldo Restante: 51580621.09\n",
            "Mes 98: Cuota: 2450000.00 | Interés: 386854.66 | Capital: 2063145.34 | Saldo Restante: 49517475.75\n",
            "Mes 99: Cuota: 2450000.00 | Interés: 371381.07 | Capital: 2078618.93 | Saldo Restante: 47438856.81\n",
            "Mes 100: Cuota: 2450000.00 | Interés: 355791.43 | Capital: 2094208.57 | Saldo Restante: 45344648.24\n",
            "Mes 101: Cuota: 2450000.00 | Interés: 340084.86 | Capital: 2109915.14 | Saldo Restante: 43234733.10\n",
            "Mes 102: Cuota: 2450000.00 | Interés: 324260.50 | Capital: 2125739.50 | Saldo Restante: 41108993.60\n",
            "Mes 103: Cuota: 2450000.00 | Interés: 308317.45 | Capital: 2141682.55 | Saldo Restante: 38967311.05\n",
            "Mes 104: Cuota: 2450000.00 | Interés: 292254.83 | Capital: 2157745.17 | Saldo Restante: 36809565.89\n",
            "Mes 105: Cuota: 2450000.00 | Interés: 276071.74 | Capital: 2173928.26 | Saldo Restante: 34635637.63\n",
            "Mes 106: Cuota: 2450000.00 | Interés: 259767.28 | Capital: 2190232.72 | Saldo Restante: 32445404.91\n",
            "Mes 107: Cuota: 2450000.00 | Interés: 243340.54 | Capital: 2206659.46 | Saldo Restante: 30238745.45\n",
            "Mes 108: Cuota: 2450000.00 | Interés: 226790.59 | Capital: 2223209.41 | Saldo Restante: 28015536.04\n",
            "Mes 109: Cuota: 2450000.00 | Interés: 210116.52 | Capital: 2239883.48 | Saldo Restante: 25775652.56\n",
            "Mes 110: Cuota: 2450000.00 | Interés: 193317.39 | Capital: 2256682.61 | Saldo Restante: 23518969.96\n",
            "Mes 111: Cuota: 2450000.00 | Interés: 176392.27 | Capital: 2273607.72 | Saldo Restante: 21245362.23\n",
            "Mes 112: Cuota: 2450000.00 | Interés: 159340.22 | Capital: 2290659.78 | Saldo Restante: 18954702.45\n",
            "Mes 113: Cuota: 2450000.00 | Interés: 142160.27 | Capital: 2307839.73 | Saldo Restante: 16646862.72\n",
            "Mes 114: Cuota: 2450000.00 | Interés: 124851.47 | Capital: 2325148.53 | Saldo Restante: 14321714.19\n",
            "Mes 115: Cuota: 2450000.00 | Interés: 107412.86 | Capital: 2342587.14 | Saldo Restante: 11979127.05\n",
            "Mes 116: Cuota: 2450000.00 | Interés: 89843.45 | Capital: 2360156.55 | Saldo Restante: 9618970.50\n",
            "Mes 117: Cuota: 2450000.00 | Interés: 72142.28 | Capital: 2377857.72 | Saldo Restante: 7241112.78\n",
            "Mes 118: Cuota: 2450000.00 | Interés: 54308.35 | Capital: 2395691.65 | Saldo Restante: 4845421.13\n",
            "Mes 119: Cuota: 2450000.00 | Interés: 36340.66 | Capital: 2413659.34 | Saldo Restante: 2431761.79\n",
            "Mes 120: Cuota: 2450000.00 | Interés: 18238.21 | Capital: 2431761.79 | Saldo Restante: 0.00\n"
          ]
        }
      ]
    },
    {
      "cell_type": "code",
      "source": [
        "def monto_prestamo_dado_cuota(cuota, tasa_interes_anual, plazo_meses):\n",
        "    tasa_interes_mensual = tasa_interes_anual / 12 / 100\n",
        "    monto_prestamo = cuota * (1 - (1 + tasa_interes_mensual)**-plazo_meses) / tasa_interes_mensual\n",
        "\n",
        "    return monto_prestamo"
      ],
      "metadata": {
        "id": "mCvvq2AcfeL-"
      },
      "execution_count": 20,
      "outputs": []
    },
    {
      "cell_type": "code",
      "source": [
        "# Datos conocidos\n",
        "cuota_deseada = 2450000  # Cuota mensual deseada\n",
        "tasa_interes_anual = 9  # Tasa de interés anual\n",
        "plazo_meses = 120  # Plazo en meses (30 años)"
      ],
      "metadata": {
        "id": "8ojdbZgtfmGO"
      },
      "execution_count": 21,
      "outputs": []
    },
    {
      "cell_type": "code",
      "source": [
        "monto_prestamo_calculado = monto_prestamo_dado_cuota(cuota_deseada, tasa_interes_anual, plazo_meses)\n",
        "print(f\"Monto del préstamo estimado: {monto_prestamo_calculado:.2f}\")"
      ],
      "metadata": {
        "colab": {
          "base_uri": "https://localhost:8080/"
        },
        "id": "p1uTQu_qfp71",
        "outputId": "4262fc14-75b7-4421-9c50-7d49a7d08cc8"
      },
      "execution_count": 22,
      "outputs": [
        {
          "output_type": "stream",
          "name": "stdout",
          "text": [
            "Monto del préstamo estimado: 193407147.04\n"
          ]
        }
      ]
    }
  ]
}