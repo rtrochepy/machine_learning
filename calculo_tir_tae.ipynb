{
  "nbformat": 4,
  "nbformat_minor": 0,
  "metadata": {
    "colab": {
      "provenance": [],
      "authorship_tag": "ABX9TyPY9dXGm9p/BpvdDljieN+8",
      "include_colab_link": true
    },
    "kernelspec": {
      "name": "python3",
      "display_name": "Python 3"
    },
    "language_info": {
      "name": "python"
    }
  },
  "cells": [
    {
      "cell_type": "markdown",
      "metadata": {
        "id": "view-in-github",
        "colab_type": "text"
      },
      "source": [
        "<a href=\"https://colab.research.google.com/github/rtrochepy/machine_learning/blob/main/calculo_tir_tae.ipynb\" target=\"_parent\"><img src=\"https://colab.research.google.com/assets/colab-badge.svg\" alt=\"Open In Colab\"/></a>"
      ]
    },
    {
      "cell_type": "code",
      "execution_count": 6,
      "metadata": {
        "id": "cHCfYu49TYH0"
      },
      "outputs": [],
      "source": [
        "import numpy as np\n",
        "from scipy.optimize import newton, root_scalar"
      ]
    },
    {
      "cell_type": "code",
      "source": [
        "def calculate_tir(cashflows):\n",
        "    def npv(rate):\n",
        "        return sum([cf / (1 + rate) ** i for i, cf in enumerate(cashflows)])\n",
        "\n",
        "    result = root_scalar(npv, bracket=[-0.9999, 1], method='brentq')\n",
        "    return result.root"
      ],
      "metadata": {
        "id": "d96gUylATe-j"
      },
      "execution_count": 7,
      "outputs": []
    },
    {
      "cell_type": "code",
      "source": [
        "def calculate_tae_diario(tir, num_days):\n",
        "    tae = (1 + tir) ** (365 / num_days) - 1\n",
        "    return tae"
      ],
      "metadata": {
        "id": "rioFS8yBTjCs"
      },
      "execution_count": 8,
      "outputs": []
    },
    {
      "cell_type": "code",
      "source": [
        "# Ejemplo de uso\n",
        "cashflows = [-1000, 100, 100, 100, 100, 100]  # Flujo de caja: préstamo de 1000 con pagos constantes de 100 durante 5 días\n",
        "num_days = len(cashflows) - 1"
      ],
      "metadata": {
        "id": "a2IJ8NYuTmFc"
      },
      "execution_count": 9,
      "outputs": []
    },
    {
      "cell_type": "code",
      "source": [
        "tir = calculate_tir(cashflows)\n",
        "tae_diario = calculate_tae_diario(tir, num_days)\n",
        "\n",
        "print(f\"TIR: {tir:.4f}\")\n",
        "print(f\"TAE Diario: {tae_diario:.4f}\")"
      ],
      "metadata": {
        "colab": {
          "base_uri": "https://localhost:8080/"
        },
        "id": "sFMVnLzoTps8",
        "outputId": "6b446d5b-c6cc-4724-f258-78783d1f63b6"
      },
      "execution_count": 10,
      "outputs": [
        {
          "output_type": "stream",
          "name": "stdout",
          "text": [
            "TIR: -0.1940\n",
            "TAE Diario: -1.0000\n"
          ]
        }
      ]
    }
  ]
}